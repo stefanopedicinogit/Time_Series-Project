{
 "cells": [
  {
   "cell_type": "markdown",
   "metadata": {},
   "source": [
    "# Project description\n",
    "\n",
    "Sweet Lift Taxi company has collected historical data on taxi orders at airports. To attract more drivers during peak hours, we need to predict the amount of taxi orders for the next hour. Build a model for such a prediction.\n",
    "\n",
    "The RMSE metric on the test set should not be more than 48.\n",
    "\n",
    "## Project instructions\n",
    "\n",
    "1. Download the data and resample it by one hour.\n",
    "2. Analyze the data.\n",
    "3. Train different models with different hyperparameters. The test sample should be 10% of the initial dataset. \n",
    "4. Test the data using the test sample and provide a conclusion.\n",
    "\n",
    "## Data description\n",
    "\n",
    "The data is stored in file `taxi.csv`. The number of orders is in the '*num_orders*' column."
   ]
  },
  {
   "cell_type": "code",
   "execution_count": 1,
   "metadata": {},
   "outputs": [
    {
     "data": {
      "text/html": [
       "<div>\n",
       "<style scoped>\n",
       "    .dataframe tbody tr th:only-of-type {\n",
       "        vertical-align: middle;\n",
       "    }\n",
       "\n",
       "    .dataframe tbody tr th {\n",
       "        vertical-align: top;\n",
       "    }\n",
       "\n",
       "    .dataframe thead th {\n",
       "        text-align: right;\n",
       "    }\n",
       "</style>\n",
       "<table border=\"1\" class=\"dataframe\">\n",
       "  <thead>\n",
       "    <tr style=\"text-align: right;\">\n",
       "      <th></th>\n",
       "      <th>num_orders</th>\n",
       "    </tr>\n",
       "    <tr>\n",
       "      <th>datetime</th>\n",
       "      <th></th>\n",
       "    </tr>\n",
       "  </thead>\n",
       "  <tbody>\n",
       "    <tr>\n",
       "      <td>2018-03-01 00:00:00</td>\n",
       "      <td>9</td>\n",
       "    </tr>\n",
       "    <tr>\n",
       "      <td>2018-03-01 00:10:00</td>\n",
       "      <td>14</td>\n",
       "    </tr>\n",
       "    <tr>\n",
       "      <td>2018-03-01 00:20:00</td>\n",
       "      <td>28</td>\n",
       "    </tr>\n",
       "    <tr>\n",
       "      <td>2018-03-01 00:30:00</td>\n",
       "      <td>20</td>\n",
       "    </tr>\n",
       "    <tr>\n",
       "      <td>2018-03-01 00:40:00</td>\n",
       "      <td>32</td>\n",
       "    </tr>\n",
       "    <tr>\n",
       "      <td>...</td>\n",
       "      <td>...</td>\n",
       "    </tr>\n",
       "    <tr>\n",
       "      <td>2018-08-31 23:10:00</td>\n",
       "      <td>32</td>\n",
       "    </tr>\n",
       "    <tr>\n",
       "      <td>2018-08-31 23:20:00</td>\n",
       "      <td>24</td>\n",
       "    </tr>\n",
       "    <tr>\n",
       "      <td>2018-08-31 23:30:00</td>\n",
       "      <td>27</td>\n",
       "    </tr>\n",
       "    <tr>\n",
       "      <td>2018-08-31 23:40:00</td>\n",
       "      <td>39</td>\n",
       "    </tr>\n",
       "    <tr>\n",
       "      <td>2018-08-31 23:50:00</td>\n",
       "      <td>53</td>\n",
       "    </tr>\n",
       "  </tbody>\n",
       "</table>\n",
       "<p>26496 rows × 1 columns</p>\n",
       "</div>"
      ],
      "text/plain": [
       "                     num_orders\n",
       "datetime                       \n",
       "2018-03-01 00:00:00           9\n",
       "2018-03-01 00:10:00          14\n",
       "2018-03-01 00:20:00          28\n",
       "2018-03-01 00:30:00          20\n",
       "2018-03-01 00:40:00          32\n",
       "...                         ...\n",
       "2018-08-31 23:10:00          32\n",
       "2018-08-31 23:20:00          24\n",
       "2018-08-31 23:30:00          27\n",
       "2018-08-31 23:40:00          39\n",
       "2018-08-31 23:50:00          53\n",
       "\n",
       "[26496 rows x 1 columns]"
      ]
     },
     "metadata": {},
     "output_type": "display_data"
    }
   ],
   "source": [
    "import pandas as pd\n",
    "import numpy as np\n",
    "import matplotlib.pyplot as plt \n",
    "import warnings\n",
    "\n",
    "from statsmodels.tsa.seasonal import seasonal_decompose\n",
    "\n",
    "from sklearn.preprocessing import StandardScaler \n",
    "from sklearn.pipeline import Pipeline\n",
    "from sklearn.model_selection import train_test_split\n",
    "from sklearn.model_selection import GridSearchCV\n",
    "from sklearn.model_selection import cross_val_score\n",
    "from sklearn.linear_model import LinearRegression\n",
    "from sklearn.tree import DecisionTreeRegressor\n",
    "from sklearn.ensemble import RandomForestRegressor\n",
    "from sklearn.metrics import mean_absolute_error\n",
    "from sklearn.metrics import mean_squared_error\n",
    "from sklearn.metrics import make_scorer\n",
    "\n",
    "from catboost import CatBoostRegressor\n",
    "from lightgbm import LGBMRegressor\n",
    "from xgboost import XGBRegressor\n",
    "\n",
    "taxi = pd.read_csv('/datasets/taxi.csv', index_col=[0], parse_dates=[0])\n",
    "display(taxi)"
   ]
  },
  {
   "cell_type": "markdown",
   "metadata": {},
   "source": [
    "# Brief summarize. Point 2.\n",
    "Imported all the necessary libraries and readed the file csv, parsing to datetime the first column."
   ]
  },
  {
   "cell_type": "markdown",
   "metadata": {},
   "source": [
    "## Preparation"
   ]
  },
  {
   "cell_type": "code",
   "execution_count": 2,
   "metadata": {},
   "outputs": [
    {
     "data": {
      "text/html": [
       "<div>\n",
       "<style scoped>\n",
       "    .dataframe tbody tr th:only-of-type {\n",
       "        vertical-align: middle;\n",
       "    }\n",
       "\n",
       "    .dataframe tbody tr th {\n",
       "        vertical-align: top;\n",
       "    }\n",
       "\n",
       "    .dataframe thead th {\n",
       "        text-align: right;\n",
       "    }\n",
       "</style>\n",
       "<table border=\"1\" class=\"dataframe\">\n",
       "  <thead>\n",
       "    <tr style=\"text-align: right;\">\n",
       "      <th></th>\n",
       "      <th>num_orders</th>\n",
       "    </tr>\n",
       "    <tr>\n",
       "      <th>datetime</th>\n",
       "      <th></th>\n",
       "    </tr>\n",
       "  </thead>\n",
       "  <tbody>\n",
       "    <tr>\n",
       "      <td>2018-03-01 00:00:00</td>\n",
       "      <td>124</td>\n",
       "    </tr>\n",
       "    <tr>\n",
       "      <td>2018-03-01 01:00:00</td>\n",
       "      <td>85</td>\n",
       "    </tr>\n",
       "    <tr>\n",
       "      <td>2018-03-01 02:00:00</td>\n",
       "      <td>71</td>\n",
       "    </tr>\n",
       "    <tr>\n",
       "      <td>2018-03-01 03:00:00</td>\n",
       "      <td>66</td>\n",
       "    </tr>\n",
       "    <tr>\n",
       "      <td>2018-03-01 04:00:00</td>\n",
       "      <td>43</td>\n",
       "    </tr>\n",
       "    <tr>\n",
       "      <td>...</td>\n",
       "      <td>...</td>\n",
       "    </tr>\n",
       "    <tr>\n",
       "      <td>2018-08-31 19:00:00</td>\n",
       "      <td>136</td>\n",
       "    </tr>\n",
       "    <tr>\n",
       "      <td>2018-08-31 20:00:00</td>\n",
       "      <td>154</td>\n",
       "    </tr>\n",
       "    <tr>\n",
       "      <td>2018-08-31 21:00:00</td>\n",
       "      <td>159</td>\n",
       "    </tr>\n",
       "    <tr>\n",
       "      <td>2018-08-31 22:00:00</td>\n",
       "      <td>223</td>\n",
       "    </tr>\n",
       "    <tr>\n",
       "      <td>2018-08-31 23:00:00</td>\n",
       "      <td>205</td>\n",
       "    </tr>\n",
       "  </tbody>\n",
       "</table>\n",
       "<p>4416 rows × 1 columns</p>\n",
       "</div>"
      ],
      "text/plain": [
       "                     num_orders\n",
       "datetime                       \n",
       "2018-03-01 00:00:00         124\n",
       "2018-03-01 01:00:00          85\n",
       "2018-03-01 02:00:00          71\n",
       "2018-03-01 03:00:00          66\n",
       "2018-03-01 04:00:00          43\n",
       "...                         ...\n",
       "2018-08-31 19:00:00         136\n",
       "2018-08-31 20:00:00         154\n",
       "2018-08-31 21:00:00         159\n",
       "2018-08-31 22:00:00         223\n",
       "2018-08-31 23:00:00         205\n",
       "\n",
       "[4416 rows x 1 columns]"
      ]
     },
     "metadata": {},
     "output_type": "display_data"
    }
   ],
   "source": [
    "taxi = taxi.resample('1H').sum()# < write code here >\n",
    "taxi.sort_index(inplace=True)\n",
    "display(taxi)"
   ]
  },
  {
   "cell_type": "code",
   "execution_count": 3,
   "metadata": {},
   "outputs": [
    {
     "data": {
      "text/html": [
       "<div>\n",
       "<style scoped>\n",
       "    .dataframe tbody tr th:only-of-type {\n",
       "        vertical-align: middle;\n",
       "    }\n",
       "\n",
       "    .dataframe tbody tr th {\n",
       "        vertical-align: top;\n",
       "    }\n",
       "\n",
       "    .dataframe thead th {\n",
       "        text-align: right;\n",
       "    }\n",
       "</style>\n",
       "<table border=\"1\" class=\"dataframe\">\n",
       "  <thead>\n",
       "    <tr style=\"text-align: right;\">\n",
       "      <th></th>\n",
       "      <th>num_orders</th>\n",
       "      <th>rolling_mean</th>\n",
       "      <th>std</th>\n",
       "    </tr>\n",
       "    <tr>\n",
       "      <th>datetime</th>\n",
       "      <th></th>\n",
       "      <th></th>\n",
       "      <th></th>\n",
       "    </tr>\n",
       "  </thead>\n",
       "  <tbody>\n",
       "    <tr>\n",
       "      <td>2018-03-01 00:00:00</td>\n",
       "      <td>124</td>\n",
       "      <td>NaN</td>\n",
       "      <td>NaN</td>\n",
       "    </tr>\n",
       "    <tr>\n",
       "      <td>2018-03-01 01:00:00</td>\n",
       "      <td>85</td>\n",
       "      <td>NaN</td>\n",
       "      <td>NaN</td>\n",
       "    </tr>\n",
       "    <tr>\n",
       "      <td>2018-03-01 02:00:00</td>\n",
       "      <td>71</td>\n",
       "      <td>NaN</td>\n",
       "      <td>NaN</td>\n",
       "    </tr>\n",
       "    <tr>\n",
       "      <td>2018-03-01 03:00:00</td>\n",
       "      <td>66</td>\n",
       "      <td>NaN</td>\n",
       "      <td>NaN</td>\n",
       "    </tr>\n",
       "    <tr>\n",
       "      <td>2018-03-01 04:00:00</td>\n",
       "      <td>43</td>\n",
       "      <td>NaN</td>\n",
       "      <td>NaN</td>\n",
       "    </tr>\n",
       "    <tr>\n",
       "      <td>...</td>\n",
       "      <td>...</td>\n",
       "      <td>...</td>\n",
       "      <td>...</td>\n",
       "    </tr>\n",
       "    <tr>\n",
       "      <td>2018-08-31 19:00:00</td>\n",
       "      <td>136</td>\n",
       "      <td>167.541667</td>\n",
       "      <td>63.268908</td>\n",
       "    </tr>\n",
       "    <tr>\n",
       "      <td>2018-08-31 20:00:00</td>\n",
       "      <td>154</td>\n",
       "      <td>168.041667</td>\n",
       "      <td>63.105487</td>\n",
       "    </tr>\n",
       "    <tr>\n",
       "      <td>2018-08-31 21:00:00</td>\n",
       "      <td>159</td>\n",
       "      <td>166.416667</td>\n",
       "      <td>62.801908</td>\n",
       "    </tr>\n",
       "    <tr>\n",
       "      <td>2018-08-31 22:00:00</td>\n",
       "      <td>223</td>\n",
       "      <td>169.125000</td>\n",
       "      <td>63.816525</td>\n",
       "    </tr>\n",
       "    <tr>\n",
       "      <td>2018-08-31 23:00:00</td>\n",
       "      <td>205</td>\n",
       "      <td>167.416667</td>\n",
       "      <td>62.197383</td>\n",
       "    </tr>\n",
       "  </tbody>\n",
       "</table>\n",
       "<p>4416 rows × 3 columns</p>\n",
       "</div>"
      ],
      "text/plain": [
       "                     num_orders  rolling_mean        std\n",
       "datetime                                                \n",
       "2018-03-01 00:00:00         124           NaN        NaN\n",
       "2018-03-01 01:00:00          85           NaN        NaN\n",
       "2018-03-01 02:00:00          71           NaN        NaN\n",
       "2018-03-01 03:00:00          66           NaN        NaN\n",
       "2018-03-01 04:00:00          43           NaN        NaN\n",
       "...                         ...           ...        ...\n",
       "2018-08-31 19:00:00         136    167.541667  63.268908\n",
       "2018-08-31 20:00:00         154    168.041667  63.105487\n",
       "2018-08-31 21:00:00         159    166.416667  62.801908\n",
       "2018-08-31 22:00:00         223    169.125000  63.816525\n",
       "2018-08-31 23:00:00         205    167.416667  62.197383\n",
       "\n",
       "[4416 rows x 3 columns]"
      ]
     },
     "metadata": {},
     "output_type": "display_data"
    }
   ],
   "source": [
    "taxi['rolling_mean'] = taxi.rolling(24).mean()\n",
    "taxi['std'] = taxi['num_orders'].rolling(24).std()\n",
    "display(taxi)"
   ]
  },
  {
   "cell_type": "code",
   "execution_count": 4,
   "metadata": {},
   "outputs": [
    {
     "name": "stdout",
     "output_type": "stream",
     "text": [
      "num_orders      0\n",
      "rolling_mean    0\n",
      "std             0\n",
      "dtype: int64\n"
     ]
    }
   ],
   "source": [
    "taxi.dropna(inplace=True)\n",
    "print(taxi.isna().sum())"
   ]
  },
  {
   "cell_type": "markdown",
   "metadata": {},
   "source": [
    "# Brief summarize. Point 3.\n",
    "Resampled the date to 1 hour. Added rolling mean and standard deviation column to my data. \n",
    "To fill missing values I utilized the backfill method."
   ]
  },
  {
   "cell_type": "markdown",
   "metadata": {},
   "source": [
    "## Analysis"
   ]
  },
  {
   "cell_type": "code",
   "execution_count": 5,
   "metadata": {},
   "outputs": [
    {
     "data": {
      "image/png": "[encoded data removed]",
      "text/plain": [
       "<Figure size 864x360 with 1 Axes>"
      ]
     },
     "metadata": {
      "needs_background": "light"
     },
     "output_type": "display_data"
    }
   ],
   "source": [
    "plt.figure(figsize=(12,5))\n",
    "taxi['num_orders'].plot()\n",
    "plt.title('Taxi distribution per hour from MAR 2018/AUG 2018.')\n",
    "plt.xlabel('Datetime')\n",
    "plt.ylabel('Orders count')\n",
    "plt.show()"
   ]
  },
  {
   "cell_type": "code",
   "execution_count": 6,
   "metadata": {},
   "outputs": [
    {
     "data": {
      "text/plain": [
       "<Figure size 864x360 with 0 Axes>"
      ]
     },
     "metadata": {},
     "output_type": "display_data"
    },
    {
     "data": {
      "image/png": "[encoded data removed]",
      "text/plain": [
       "<Figure size 432x288 with 1 Axes>"
      ]
     },
     "metadata": {
      "needs_background": "light"
     },
     "output_type": "display_data"
    }
   ],
   "source": [
    "plt.figure(figsize=(12,5))\n",
    "taxi.plot()\n",
    "plt.title('Taxi distribution per hour from MAR 2018/AUG 2018.')\n",
    "plt.xlabel('Datetime')\n",
    "plt.ylabel('Orders count')\n",
    "plt.show()"
   ]
  },
  {
   "cell_type": "code",
   "execution_count": 11,
   "metadata": {},
   "outputs": [
    {
     "data": {
      "image/png": "[encoded data removed]",
      "text/plain": [
       "<Figure size 1296x864 with 3 Axes>"
      ]
     },
     "metadata": {
      "needs_background": "light"
     },
     "output_type": "display_data"
    }
   ],
   "source": [
    "#Plotting Trend, Seasonality and Residuals.\n",
    "decomposed = seasonal_decompose(taxi['num_orders'])\n",
    "decomposed.seasonal = decomposed.seasonal['2018-08-01':'2018-08-31']\n",
    "plt.figure(figsize=(18, 12))\n",
    "plt.subplot(311)\n",
    "decomposed.trend.plot(ax=plt.gca())\n",
    "plt.title('Trend')\n",
    "plt.xlabel('')\n",
    "plt.subplot(312)\n",
    "decomposed.seasonal.plot(ax=plt.gca())\n",
    "plt.title('Seasonality')\n",
    "plt.xlabel('')\n",
    "plt.subplot(313)\n",
    "decomposed.resid.plot(ax=plt.gca())\n",
    "plt.title('Residuals')\n",
    "plt.xlabel('Datetime')\n",
    "plt.show()"
   ]
  },
  {
   "cell_type": "code",
   "execution_count": 12,
   "metadata": {},
   "outputs": [],
   "source": [
    "#Creating a stationary time serie.\n",
    "data = taxi - taxi.shift()\n",
    "data = data.drop(['rolling_mean'], axis=1)\n",
    "data = data.drop(['std'], axis=1)"
   ]
  },
  {
   "cell_type": "code",
   "execution_count": 13,
   "metadata": {},
   "outputs": [
    {
     "data": {
      "image/png": "[encoded data removed]",
      "text/plain": [
       "<Figure size 864x360 with 1 Axes>"
      ]
     },
     "metadata": {
      "needs_background": "light"
     },
     "output_type": "display_data"
    }
   ],
   "source": [
    "plt.figure(figsize=(12,5))\n",
    "data['num_orders'].plot()\n",
    "plt.title('Taxi differences by hours from MAR 2018/AUG 2018.')\n",
    "plt.xlabel('Datetime')\n",
    "plt.ylabel('Orders count')\n",
    "plt.show()"
   ]
  },
  {
   "cell_type": "code",
   "execution_count": 14,
   "metadata": {},
   "outputs": [
    {
     "data": {
      "text/html": [
       "<div>\n",
       "<style scoped>\n",
       "    .dataframe tbody tr th:only-of-type {\n",
       "        vertical-align: middle;\n",
       "    }\n",
       "\n",
       "    .dataframe tbody tr th {\n",
       "        vertical-align: top;\n",
       "    }\n",
       "\n",
       "    .dataframe thead th {\n",
       "        text-align: right;\n",
       "    }\n",
       "</style>\n",
       "<table border=\"1\" class=\"dataframe\">\n",
       "  <thead>\n",
       "    <tr style=\"text-align: right;\">\n",
       "      <th></th>\n",
       "      <th>num_orders</th>\n",
       "    </tr>\n",
       "    <tr>\n",
       "      <th>datetime</th>\n",
       "      <th></th>\n",
       "    </tr>\n",
       "  </thead>\n",
       "  <tbody>\n",
       "    <tr>\n",
       "      <td>2018-04-24 00:00:00</td>\n",
       "      <td>193.0</td>\n",
       "    </tr>\n",
       "    <tr>\n",
       "      <td>2018-05-28 02:00:00</td>\n",
       "      <td>108.0</td>\n",
       "    </tr>\n",
       "    <tr>\n",
       "      <td>2018-06-07 00:00:00</td>\n",
       "      <td>108.0</td>\n",
       "    </tr>\n",
       "    <tr>\n",
       "      <td>2018-06-13 02:00:00</td>\n",
       "      <td>132.0</td>\n",
       "    </tr>\n",
       "    <tr>\n",
       "      <td>2018-06-22 00:00:00</td>\n",
       "      <td>112.0</td>\n",
       "    </tr>\n",
       "    <tr>\n",
       "      <td>2018-07-11 17:00:00</td>\n",
       "      <td>108.0</td>\n",
       "    </tr>\n",
       "    <tr>\n",
       "      <td>2018-07-16 00:00:00</td>\n",
       "      <td>124.0</td>\n",
       "    </tr>\n",
       "    <tr>\n",
       "      <td>2018-07-19 10:00:00</td>\n",
       "      <td>156.0</td>\n",
       "    </tr>\n",
       "    <tr>\n",
       "      <td>2018-07-26 02:00:00</td>\n",
       "      <td>124.0</td>\n",
       "    </tr>\n",
       "    <tr>\n",
       "      <td>2018-07-27 00:00:00</td>\n",
       "      <td>105.0</td>\n",
       "    </tr>\n",
       "    <tr>\n",
       "      <td>2018-08-06 00:00:00</td>\n",
       "      <td>104.0</td>\n",
       "    </tr>\n",
       "    <tr>\n",
       "      <td>2018-08-08 00:00:00</td>\n",
       "      <td>127.0</td>\n",
       "    </tr>\n",
       "    <tr>\n",
       "      <td>2018-08-08 16:00:00</td>\n",
       "      <td>111.0</td>\n",
       "    </tr>\n",
       "    <tr>\n",
       "      <td>2018-08-13 01:00:00</td>\n",
       "      <td>113.0</td>\n",
       "    </tr>\n",
       "    <tr>\n",
       "      <td>2018-08-13 02:00:00</td>\n",
       "      <td>164.0</td>\n",
       "    </tr>\n",
       "    <tr>\n",
       "      <td>2018-08-14 23:00:00</td>\n",
       "      <td>131.0</td>\n",
       "    </tr>\n",
       "    <tr>\n",
       "      <td>2018-08-15 16:00:00</td>\n",
       "      <td>116.0</td>\n",
       "    </tr>\n",
       "    <tr>\n",
       "      <td>2018-08-18 00:00:00</td>\n",
       "      <td>126.0</td>\n",
       "    </tr>\n",
       "    <tr>\n",
       "      <td>2018-08-20 02:00:00</td>\n",
       "      <td>190.0</td>\n",
       "    </tr>\n",
       "    <tr>\n",
       "      <td>2018-08-20 15:00:00</td>\n",
       "      <td>111.0</td>\n",
       "    </tr>\n",
       "    <tr>\n",
       "      <td>2018-08-26 00:00:00</td>\n",
       "      <td>107.0</td>\n",
       "    </tr>\n",
       "    <tr>\n",
       "      <td>2018-08-26 03:00:00</td>\n",
       "      <td>119.0</td>\n",
       "    </tr>\n",
       "    <tr>\n",
       "      <td>2018-08-27 02:00:00</td>\n",
       "      <td>186.0</td>\n",
       "    </tr>\n",
       "    <tr>\n",
       "      <td>2018-08-29 08:00:00</td>\n",
       "      <td>103.0</td>\n",
       "    </tr>\n",
       "    <tr>\n",
       "      <td>2018-08-30 08:00:00</td>\n",
       "      <td>127.0</td>\n",
       "    </tr>\n",
       "    <tr>\n",
       "      <td>2018-08-31 04:00:00</td>\n",
       "      <td>169.0</td>\n",
       "    </tr>\n",
       "    <tr>\n",
       "      <td>2018-08-31 08:00:00</td>\n",
       "      <td>136.0</td>\n",
       "    </tr>\n",
       "  </tbody>\n",
       "</table>\n",
       "</div>"
      ],
      "text/plain": [
       "                     num_orders\n",
       "datetime                       \n",
       "2018-04-24 00:00:00       193.0\n",
       "2018-05-28 02:00:00       108.0\n",
       "2018-06-07 00:00:00       108.0\n",
       "2018-06-13 02:00:00       132.0\n",
       "2018-06-22 00:00:00       112.0\n",
       "2018-07-11 17:00:00       108.0\n",
       "2018-07-16 00:00:00       124.0\n",
       "2018-07-19 10:00:00       156.0\n",
       "2018-07-26 02:00:00       124.0\n",
       "2018-07-27 00:00:00       105.0\n",
       "2018-08-06 00:00:00       104.0\n",
       "2018-08-08 00:00:00       127.0\n",
       "2018-08-08 16:00:00       111.0\n",
       "2018-08-13 01:00:00       113.0\n",
       "2018-08-13 02:00:00       164.0\n",
       "2018-08-14 23:00:00       131.0\n",
       "2018-08-15 16:00:00       116.0\n",
       "2018-08-18 00:00:00       126.0\n",
       "2018-08-20 02:00:00       190.0\n",
       "2018-08-20 15:00:00       111.0\n",
       "2018-08-26 00:00:00       107.0\n",
       "2018-08-26 03:00:00       119.0\n",
       "2018-08-27 02:00:00       186.0\n",
       "2018-08-29 08:00:00       103.0\n",
       "2018-08-30 08:00:00       127.0\n",
       "2018-08-31 04:00:00       169.0\n",
       "2018-08-31 08:00:00       136.0"
      ]
     },
     "metadata": {},
     "output_type": "display_data"
    }
   ],
   "source": [
    "#Looking for outliers.\n",
    "display(data.query('num_orders > 100'))"
   ]
  },
  {
   "cell_type": "code",
   "execution_count": 15,
   "metadata": {},
   "outputs": [
    {
     "data": {
      "text/html": [
       "<div>\n",
       "<style scoped>\n",
       "    .dataframe tbody tr th:only-of-type {\n",
       "        vertical-align: middle;\n",
       "    }\n",
       "\n",
       "    .dataframe tbody tr th {\n",
       "        vertical-align: top;\n",
       "    }\n",
       "\n",
       "    .dataframe thead th {\n",
       "        text-align: right;\n",
       "    }\n",
       "</style>\n",
       "<table border=\"1\" class=\"dataframe\">\n",
       "  <thead>\n",
       "    <tr style=\"text-align: right;\">\n",
       "      <th></th>\n",
       "      <th>num_orders</th>\n",
       "    </tr>\n",
       "    <tr>\n",
       "      <th>datetime</th>\n",
       "      <th></th>\n",
       "    </tr>\n",
       "  </thead>\n",
       "  <tbody>\n",
       "    <tr>\n",
       "      <td>2018-03-05 02:00:00</td>\n",
       "      <td>-144.0</td>\n",
       "    </tr>\n",
       "    <tr>\n",
       "      <td>2018-03-19 02:00:00</td>\n",
       "      <td>-143.0</td>\n",
       "    </tr>\n",
       "    <tr>\n",
       "      <td>2018-03-24 02:00:00</td>\n",
       "      <td>-107.0</td>\n",
       "    </tr>\n",
       "    <tr>\n",
       "      <td>2018-03-26 02:00:00</td>\n",
       "      <td>-107.0</td>\n",
       "    </tr>\n",
       "    <tr>\n",
       "      <td>2018-04-19 01:00:00</td>\n",
       "      <td>-122.0</td>\n",
       "    </tr>\n",
       "    <tr>\n",
       "      <td>2018-04-24 01:00:00</td>\n",
       "      <td>-176.0</td>\n",
       "    </tr>\n",
       "    <tr>\n",
       "      <td>2018-04-26 01:00:00</td>\n",
       "      <td>-108.0</td>\n",
       "    </tr>\n",
       "    <tr>\n",
       "      <td>2018-05-10 04:00:00</td>\n",
       "      <td>-113.0</td>\n",
       "    </tr>\n",
       "    <tr>\n",
       "      <td>2018-05-19 01:00:00</td>\n",
       "      <td>-131.0</td>\n",
       "    </tr>\n",
       "    <tr>\n",
       "      <td>2018-06-04 01:00:00</td>\n",
       "      <td>-107.0</td>\n",
       "    </tr>\n",
       "    <tr>\n",
       "      <td>2018-06-10 01:00:00</td>\n",
       "      <td>-111.0</td>\n",
       "    </tr>\n",
       "    <tr>\n",
       "      <td>2018-06-13 03:00:00</td>\n",
       "      <td>-126.0</td>\n",
       "    </tr>\n",
       "    <tr>\n",
       "      <td>2018-06-14 01:00:00</td>\n",
       "      <td>-104.0</td>\n",
       "    </tr>\n",
       "    <tr>\n",
       "      <td>2018-06-30 05:00:00</td>\n",
       "      <td>-107.0</td>\n",
       "    </tr>\n",
       "    <tr>\n",
       "      <td>2018-07-02 05:00:00</td>\n",
       "      <td>-114.0</td>\n",
       "    </tr>\n",
       "    <tr>\n",
       "      <td>2018-07-06 01:00:00</td>\n",
       "      <td>-107.0</td>\n",
       "    </tr>\n",
       "    <tr>\n",
       "      <td>2018-07-08 04:00:00</td>\n",
       "      <td>-110.0</td>\n",
       "    </tr>\n",
       "    <tr>\n",
       "      <td>2018-07-11 18:00:00</td>\n",
       "      <td>-104.0</td>\n",
       "    </tr>\n",
       "    <tr>\n",
       "      <td>2018-07-16 01:00:00</td>\n",
       "      <td>-115.0</td>\n",
       "    </tr>\n",
       "    <tr>\n",
       "      <td>2018-07-16 05:00:00</td>\n",
       "      <td>-123.0</td>\n",
       "    </tr>\n",
       "    <tr>\n",
       "      <td>2018-07-18 01:00:00</td>\n",
       "      <td>-105.0</td>\n",
       "    </tr>\n",
       "    <tr>\n",
       "      <td>2018-07-18 05:00:00</td>\n",
       "      <td>-126.0</td>\n",
       "    </tr>\n",
       "    <tr>\n",
       "      <td>2018-07-19 11:00:00</td>\n",
       "      <td>-148.0</td>\n",
       "    </tr>\n",
       "    <tr>\n",
       "      <td>2018-07-22 05:00:00</td>\n",
       "      <td>-106.0</td>\n",
       "    </tr>\n",
       "    <tr>\n",
       "      <td>2018-07-23 01:00:00</td>\n",
       "      <td>-110.0</td>\n",
       "    </tr>\n",
       "    <tr>\n",
       "      <td>2018-07-27 01:00:00</td>\n",
       "      <td>-114.0</td>\n",
       "    </tr>\n",
       "    <tr>\n",
       "      <td>2018-07-28 05:00:00</td>\n",
       "      <td>-124.0</td>\n",
       "    </tr>\n",
       "    <tr>\n",
       "      <td>2018-07-29 05:00:00</td>\n",
       "      <td>-104.0</td>\n",
       "    </tr>\n",
       "    <tr>\n",
       "      <td>2018-08-03 05:00:00</td>\n",
       "      <td>-121.0</td>\n",
       "    </tr>\n",
       "    <tr>\n",
       "      <td>2018-08-06 05:00:00</td>\n",
       "      <td>-135.0</td>\n",
       "    </tr>\n",
       "    <tr>\n",
       "      <td>2018-08-08 17:00:00</td>\n",
       "      <td>-101.0</td>\n",
       "    </tr>\n",
       "    <tr>\n",
       "      <td>2018-08-10 01:00:00</td>\n",
       "      <td>-107.0</td>\n",
       "    </tr>\n",
       "    <tr>\n",
       "      <td>2018-08-10 03:00:00</td>\n",
       "      <td>-121.0</td>\n",
       "    </tr>\n",
       "    <tr>\n",
       "      <td>2018-08-13 03:00:00</td>\n",
       "      <td>-269.0</td>\n",
       "    </tr>\n",
       "    <tr>\n",
       "      <td>2018-08-14 02:00:00</td>\n",
       "      <td>-123.0</td>\n",
       "    </tr>\n",
       "    <tr>\n",
       "      <td>2018-08-15 01:00:00</td>\n",
       "      <td>-113.0</td>\n",
       "    </tr>\n",
       "    <tr>\n",
       "      <td>2018-08-17 05:00:00</td>\n",
       "      <td>-124.0</td>\n",
       "    </tr>\n",
       "    <tr>\n",
       "      <td>2018-08-19 18:00:00</td>\n",
       "      <td>-137.0</td>\n",
       "    </tr>\n",
       "    <tr>\n",
       "      <td>2018-08-20 03:00:00</td>\n",
       "      <td>-238.0</td>\n",
       "    </tr>\n",
       "    <tr>\n",
       "      <td>2018-08-20 05:00:00</td>\n",
       "      <td>-155.0</td>\n",
       "    </tr>\n",
       "    <tr>\n",
       "      <td>2018-08-21 05:00:00</td>\n",
       "      <td>-168.0</td>\n",
       "    </tr>\n",
       "    <tr>\n",
       "      <td>2018-08-22 01:00:00</td>\n",
       "      <td>-128.0</td>\n",
       "    </tr>\n",
       "    <tr>\n",
       "      <td>2018-08-26 01:00:00</td>\n",
       "      <td>-125.0</td>\n",
       "    </tr>\n",
       "    <tr>\n",
       "      <td>2018-08-26 04:00:00</td>\n",
       "      <td>-153.0</td>\n",
       "    </tr>\n",
       "    <tr>\n",
       "      <td>2018-08-27 03:00:00</td>\n",
       "      <td>-200.0</td>\n",
       "    </tr>\n",
       "    <tr>\n",
       "      <td>2018-08-27 05:00:00</td>\n",
       "      <td>-233.0</td>\n",
       "    </tr>\n",
       "    <tr>\n",
       "      <td>2018-08-30 05:00:00</td>\n",
       "      <td>-130.0</td>\n",
       "    </tr>\n",
       "    <tr>\n",
       "      <td>2018-08-30 18:00:00</td>\n",
       "      <td>-165.0</td>\n",
       "    </tr>\n",
       "    <tr>\n",
       "      <td>2018-08-30 19:00:00</td>\n",
       "      <td>-105.0</td>\n",
       "    </tr>\n",
       "    <tr>\n",
       "      <td>2018-08-31 03:00:00</td>\n",
       "      <td>-131.0</td>\n",
       "    </tr>\n",
       "    <tr>\n",
       "      <td>2018-08-31 05:00:00</td>\n",
       "      <td>-190.0</td>\n",
       "    </tr>\n",
       "  </tbody>\n",
       "</table>\n",
       "</div>"
      ],
      "text/plain": [
       "                     num_orders\n",
       "datetime                       \n",
       "2018-03-05 02:00:00      -144.0\n",
       "2018-03-19 02:00:00      -143.0\n",
       "2018-03-24 02:00:00      -107.0\n",
       "2018-03-26 02:00:00      -107.0\n",
       "2018-04-19 01:00:00      -122.0\n",
       "2018-04-24 01:00:00      -176.0\n",
       "2018-04-26 01:00:00      -108.0\n",
       "2018-05-10 04:00:00      -113.0\n",
       "2018-05-19 01:00:00      -131.0\n",
       "2018-06-04 01:00:00      -107.0\n",
       "2018-06-10 01:00:00      -111.0\n",
       "2018-06-13 03:00:00      -126.0\n",
       "2018-06-14 01:00:00      -104.0\n",
       "2018-06-30 05:00:00      -107.0\n",
       "2018-07-02 05:00:00      -114.0\n",
       "2018-07-06 01:00:00      -107.0\n",
       "2018-07-08 04:00:00      -110.0\n",
       "2018-07-11 18:00:00      -104.0\n",
       "2018-07-16 01:00:00      -115.0\n",
       "2018-07-16 05:00:00      -123.0\n",
       "2018-07-18 01:00:00      -105.0\n",
       "2018-07-18 05:00:00      -126.0\n",
       "2018-07-19 11:00:00      -148.0\n",
       "2018-07-22 05:00:00      -106.0\n",
       "2018-07-23 01:00:00      -110.0\n",
       "2018-07-27 01:00:00      -114.0\n",
       "2018-07-28 05:00:00      -124.0\n",
       "2018-07-29 05:00:00      -104.0\n",
       "2018-08-03 05:00:00      -121.0\n",
       "2018-08-06 05:00:00      -135.0\n",
       "2018-08-08 17:00:00      -101.0\n",
       "2018-08-10 01:00:00      -107.0\n",
       "2018-08-10 03:00:00      -121.0\n",
       "2018-08-13 03:00:00      -269.0\n",
       "2018-08-14 02:00:00      -123.0\n",
       "2018-08-15 01:00:00      -113.0\n",
       "2018-08-17 05:00:00      -124.0\n",
       "2018-08-19 18:00:00      -137.0\n",
       "2018-08-20 03:00:00      -238.0\n",
       "2018-08-20 05:00:00      -155.0\n",
       "2018-08-21 05:00:00      -168.0\n",
       "2018-08-22 01:00:00      -128.0\n",
       "2018-08-26 01:00:00      -125.0\n",
       "2018-08-26 04:00:00      -153.0\n",
       "2018-08-27 03:00:00      -200.0\n",
       "2018-08-27 05:00:00      -233.0\n",
       "2018-08-30 05:00:00      -130.0\n",
       "2018-08-30 18:00:00      -165.0\n",
       "2018-08-30 19:00:00      -105.0\n",
       "2018-08-31 03:00:00      -131.0\n",
       "2018-08-31 05:00:00      -190.0"
      ]
     },
     "metadata": {},
     "output_type": "display_data"
    }
   ],
   "source": [
    "display(data.query('num_orders < -100'))"
   ]
  },
  {
   "cell_type": "code",
   "execution_count": 16,
   "metadata": {},
   "outputs": [],
   "source": [
    "#Replacing outlier with median scores.\n",
    "data['num_orders'] = np.where((data['num_orders'] > 100), data['num_orders'].median(), data['num_orders'])\n",
    "data['num_orders'] = np.where((data['num_orders'] < -100), data['num_orders'].median(), data['num_orders'])"
   ]
  },
  {
   "cell_type": "code",
   "execution_count": 17,
   "metadata": {},
   "outputs": [
    {
     "data": {
      "image/png": "[encoded data removed]",
      "text/plain": [
       "<Figure size 864x360 with 1 Axes>"
      ]
     },
     "metadata": {
      "needs_background": "light"
     },
     "output_type": "display_data"
    }
   ],
   "source": [
    "#Plotting the results. Final data without outliers.\n",
    "plt.figure(figsize=(12,5))\n",
    "data['num_orders'].plot()\n",
    "plt.title('Taxi differences by hours from MAR 2018/AUG 2018. Without outliers.')\n",
    "plt.xlabel('Datetime')\n",
    "plt.ylabel('Orders count')\n",
    "plt.show()"
   ]
  },
  {
   "cell_type": "markdown",
   "metadata": {},
   "source": [
    "# Brief summarize. Point 4.\n",
    "- Plotted the distribution of orders per hour on the entire dataset. \n",
    "- Plotted the distribution with rolling mean and standard deviation. \n",
    "- Analyzed trend, seasonality, residuals for num_orders column. \n",
    "- Dropped all the columns except for num_orders to return to initial data without calculations.\n",
    "- Created a stationary time serie to render data in linear form. \n",
    "- Removed outliers from my data. "
   ]
  },
  {
   "cell_type": "markdown",
   "metadata": {},
   "source": [
    "## Training"
   ]
  },
  {
   "cell_type": "code",
   "execution_count": 18,
   "metadata": {},
   "outputs": [
    {
     "name": "stdout",
     "output_type": "stream",
     "text": [
      "2018-03-01 23:00:00 2018-08-13 15:00:00\n",
      "2018-08-13 16:00:00 2018-08-31 23:00:00\n",
      "\n",
      "Median daily power consumption: num_orders    1.0\n",
      "dtype: float64\n",
      "MAE: 35.30909090909091\n",
      "\n",
      "Median daily power consumption: num_orders    1.0\n",
      "dtype: float64\n",
      "MAE: 55.00681818181818\n"
     ]
    }
   ],
   "source": [
    "train, test = train_test_split(data, shuffle=False, test_size=0.1)\n",
    "\n",
    "print(train.index.min(), train.index.max())\n",
    "print(test.index.min(), test.index.max())\n",
    "print()\n",
    "print('Median daily power consumption:', test.median())\n",
    "pred_median = np.ones(test.shape) * train['num_orders'].median()\n",
    "print('MAE:', mean_absolute_error(test.values, pred_median))\n",
    "print()\n",
    "print('Median daily power consumption:', test.median())\n",
    "pred_previous = np.ones(test.shape[0]) * test['num_orders'].shift(fill_value=train['num_orders'].iloc[-1])\n",
    "print('MAE:', mean_absolute_error(test['num_orders'].values, pred_previous))"
   ]
  },
  {
   "cell_type": "code",
   "execution_count": 19,
   "metadata": {},
   "outputs": [
    {
     "data": {
      "text/html": [
       "<div>\n",
       "<style scoped>\n",
       "    .dataframe tbody tr th:only-of-type {\n",
       "        vertical-align: middle;\n",
       "    }\n",
       "\n",
       "    .dataframe tbody tr th {\n",
       "        vertical-align: top;\n",
       "    }\n",
       "\n",
       "    .dataframe thead th {\n",
       "        text-align: right;\n",
       "    }\n",
       "</style>\n",
       "<table border=\"1\" class=\"dataframe\">\n",
       "  <thead>\n",
       "    <tr style=\"text-align: right;\">\n",
       "      <th></th>\n",
       "      <th>num_orders</th>\n",
       "      <th>year</th>\n",
       "      <th>month</th>\n",
       "      <th>day</th>\n",
       "      <th>dayofweek</th>\n",
       "      <th>lag_1</th>\n",
       "      <th>lag_2</th>\n",
       "      <th>lag_3</th>\n",
       "      <th>lag_4</th>\n",
       "      <th>lag_5</th>\n",
       "      <th>rolling_mean</th>\n",
       "      <th>std</th>\n",
       "    </tr>\n",
       "    <tr>\n",
       "      <th>datetime</th>\n",
       "      <th></th>\n",
       "      <th></th>\n",
       "      <th></th>\n",
       "      <th></th>\n",
       "      <th></th>\n",
       "      <th></th>\n",
       "      <th></th>\n",
       "      <th></th>\n",
       "      <th></th>\n",
       "      <th></th>\n",
       "      <th></th>\n",
       "      <th></th>\n",
       "    </tr>\n",
       "  </thead>\n",
       "  <tbody>\n",
       "    <tr>\n",
       "      <td>2018-03-02 10:00:00</td>\n",
       "      <td>9.0</td>\n",
       "      <td>2018</td>\n",
       "      <td>3</td>\n",
       "      <td>2</td>\n",
       "      <td>4</td>\n",
       "      <td>-1.0</td>\n",
       "      <td>39.0</td>\n",
       "      <td>-4.0</td>\n",
       "      <td>0.0</td>\n",
       "      <td>-9.0</td>\n",
       "      <td>-1.3</td>\n",
       "      <td>-1.3</td>\n",
       "    </tr>\n",
       "    <tr>\n",
       "      <td>2018-03-02 11:00:00</td>\n",
       "      <td>37.0</td>\n",
       "      <td>2018</td>\n",
       "      <td>3</td>\n",
       "      <td>2</td>\n",
       "      <td>4</td>\n",
       "      <td>9.0</td>\n",
       "      <td>-1.0</td>\n",
       "      <td>39.0</td>\n",
       "      <td>-4.0</td>\n",
       "      <td>0.0</td>\n",
       "      <td>-3.6</td>\n",
       "      <td>-3.6</td>\n",
       "    </tr>\n",
       "    <tr>\n",
       "      <td>2018-03-02 12:00:00</td>\n",
       "      <td>-55.0</td>\n",
       "      <td>2018</td>\n",
       "      <td>3</td>\n",
       "      <td>2</td>\n",
       "      <td>4</td>\n",
       "      <td>37.0</td>\n",
       "      <td>9.0</td>\n",
       "      <td>-1.0</td>\n",
       "      <td>39.0</td>\n",
       "      <td>-4.0</td>\n",
       "      <td>-2.9</td>\n",
       "      <td>-2.9</td>\n",
       "    </tr>\n",
       "    <tr>\n",
       "      <td>2018-03-02 13:00:00</td>\n",
       "      <td>9.0</td>\n",
       "      <td>2018</td>\n",
       "      <td>3</td>\n",
       "      <td>2</td>\n",
       "      <td>4</td>\n",
       "      <td>-55.0</td>\n",
       "      <td>37.0</td>\n",
       "      <td>9.0</td>\n",
       "      <td>-1.0</td>\n",
       "      <td>39.0</td>\n",
       "      <td>-3.9</td>\n",
       "      <td>-3.9</td>\n",
       "    </tr>\n",
       "    <tr>\n",
       "      <td>2018-03-02 14:00:00</td>\n",
       "      <td>-1.0</td>\n",
       "      <td>2018</td>\n",
       "      <td>3</td>\n",
       "      <td>2</td>\n",
       "      <td>4</td>\n",
       "      <td>9.0</td>\n",
       "      <td>-55.0</td>\n",
       "      <td>37.0</td>\n",
       "      <td>9.0</td>\n",
       "      <td>-1.0</td>\n",
       "      <td>-1.9</td>\n",
       "      <td>-1.9</td>\n",
       "    </tr>\n",
       "    <tr>\n",
       "      <td>...</td>\n",
       "      <td>...</td>\n",
       "      <td>...</td>\n",
       "      <td>...</td>\n",
       "      <td>...</td>\n",
       "      <td>...</td>\n",
       "      <td>...</td>\n",
       "      <td>...</td>\n",
       "      <td>...</td>\n",
       "      <td>...</td>\n",
       "      <td>...</td>\n",
       "      <td>...</td>\n",
       "      <td>...</td>\n",
       "    </tr>\n",
       "    <tr>\n",
       "      <td>2018-08-31 19:00:00</td>\n",
       "      <td>-71.0</td>\n",
       "      <td>2018</td>\n",
       "      <td>8</td>\n",
       "      <td>31</td>\n",
       "      <td>4</td>\n",
       "      <td>-10.0</td>\n",
       "      <td>20.0</td>\n",
       "      <td>81.0</td>\n",
       "      <td>-17.0</td>\n",
       "      <td>-33.0</td>\n",
       "      <td>2.5</td>\n",
       "      <td>2.5</td>\n",
       "    </tr>\n",
       "    <tr>\n",
       "      <td>2018-08-31 20:00:00</td>\n",
       "      <td>18.0</td>\n",
       "      <td>2018</td>\n",
       "      <td>8</td>\n",
       "      <td>31</td>\n",
       "      <td>4</td>\n",
       "      <td>-71.0</td>\n",
       "      <td>-10.0</td>\n",
       "      <td>20.0</td>\n",
       "      <td>81.0</td>\n",
       "      <td>-17.0</td>\n",
       "      <td>-6.7</td>\n",
       "      <td>-6.7</td>\n",
       "    </tr>\n",
       "    <tr>\n",
       "      <td>2018-08-31 21:00:00</td>\n",
       "      <td>5.0</td>\n",
       "      <td>2018</td>\n",
       "      <td>8</td>\n",
       "      <td>31</td>\n",
       "      <td>4</td>\n",
       "      <td>18.0</td>\n",
       "      <td>-71.0</td>\n",
       "      <td>-10.0</td>\n",
       "      <td>20.0</td>\n",
       "      <td>81.0</td>\n",
       "      <td>-3.7</td>\n",
       "      <td>-3.7</td>\n",
       "    </tr>\n",
       "    <tr>\n",
       "      <td>2018-08-31 22:00:00</td>\n",
       "      <td>64.0</td>\n",
       "      <td>2018</td>\n",
       "      <td>8</td>\n",
       "      <td>31</td>\n",
       "      <td>4</td>\n",
       "      <td>5.0</td>\n",
       "      <td>18.0</td>\n",
       "      <td>-71.0</td>\n",
       "      <td>-10.0</td>\n",
       "      <td>20.0</td>\n",
       "      <td>-0.8</td>\n",
       "      <td>-0.8</td>\n",
       "    </tr>\n",
       "    <tr>\n",
       "      <td>2018-08-31 23:00:00</td>\n",
       "      <td>-18.0</td>\n",
       "      <td>2018</td>\n",
       "      <td>8</td>\n",
       "      <td>31</td>\n",
       "      <td>4</td>\n",
       "      <td>64.0</td>\n",
       "      <td>5.0</td>\n",
       "      <td>18.0</td>\n",
       "      <td>-71.0</td>\n",
       "      <td>-10.0</td>\n",
       "      <td>8.7</td>\n",
       "      <td>8.7</td>\n",
       "    </tr>\n",
       "  </tbody>\n",
       "</table>\n",
       "<p>4382 rows × 12 columns</p>\n",
       "</div>"
      ],
      "text/plain": [
       "                     num_orders  year  month  day  dayofweek  lag_1  lag_2  \\\n",
       "datetime                                                                     \n",
       "2018-03-02 10:00:00         9.0  2018      3    2          4   -1.0   39.0   \n",
       "2018-03-02 11:00:00        37.0  2018      3    2          4    9.0   -1.0   \n",
       "2018-03-02 12:00:00       -55.0  2018      3    2          4   37.0    9.0   \n",
       "2018-03-02 13:00:00         9.0  2018      3    2          4  -55.0   37.0   \n",
       "2018-03-02 14:00:00        -1.0  2018      3    2          4    9.0  -55.0   \n",
       "...                         ...   ...    ...  ...        ...    ...    ...   \n",
       "2018-08-31 19:00:00       -71.0  2018      8   31          4  -10.0   20.0   \n",
       "2018-08-31 20:00:00        18.0  2018      8   31          4  -71.0  -10.0   \n",
       "2018-08-31 21:00:00         5.0  2018      8   31          4   18.0  -71.0   \n",
       "2018-08-31 22:00:00        64.0  2018      8   31          4    5.0   18.0   \n",
       "2018-08-31 23:00:00       -18.0  2018      8   31          4   64.0    5.0   \n",
       "\n",
       "                     lag_3  lag_4  lag_5  rolling_mean  std  \n",
       "datetime                                                     \n",
       "2018-03-02 10:00:00   -4.0    0.0   -9.0          -1.3 -1.3  \n",
       "2018-03-02 11:00:00   39.0   -4.0    0.0          -3.6 -3.6  \n",
       "2018-03-02 12:00:00   -1.0   39.0   -4.0          -2.9 -2.9  \n",
       "2018-03-02 13:00:00    9.0   -1.0   39.0          -3.9 -3.9  \n",
       "2018-03-02 14:00:00   37.0    9.0   -1.0          -1.9 -1.9  \n",
       "...                    ...    ...    ...           ...  ...  \n",
       "2018-08-31 19:00:00   81.0  -17.0  -33.0           2.5  2.5  \n",
       "2018-08-31 20:00:00   20.0   81.0  -17.0          -6.7 -6.7  \n",
       "2018-08-31 21:00:00  -10.0   20.0   81.0          -3.7 -3.7  \n",
       "2018-08-31 22:00:00  -71.0  -10.0   20.0          -0.8 -0.8  \n",
       "2018-08-31 23:00:00   18.0  -71.0  -10.0           8.7  8.7  \n",
       "\n",
       "[4382 rows x 12 columns]"
      ]
     },
     "metadata": {},
     "output_type": "display_data"
    }
   ],
   "source": [
    "#Creating features.\n",
    "def make_features(data, max_lag, rolling_mean_size, std_mean_size):\n",
    "    data['year'] = data.index.year\n",
    "    data['month'] = data.index.month\n",
    "    data['day'] = data.index.day\n",
    "    data['dayofweek'] = data.index.dayofweek\n",
    "    \n",
    "    for lag in range(1, max_lag + 1):\n",
    "        data['lag_{}'.format(lag)] = data['num_orders'].shift(lag)\n",
    "    \n",
    "    data['rolling_mean'] = data['num_orders'].shift().rolling(rolling_mean_size).mean()\n",
    "    data['std'] = data['num_orders'].shift().rolling(std_mean_size).mean()\n",
    "    \n",
    "make_features(data, 5, 10,10)\n",
    "data.dropna(inplace=True)\n",
    "display(data)"
   ]
  },
  {
   "cell_type": "code",
   "execution_count": 20,
   "metadata": {},
   "outputs": [],
   "source": [
    "#Creating a dummy model with LinearRegression\n",
    "train, test = train_test_split(data, shuffle=False, test_size=0.1)\n",
    "\n",
    "features_train = train.drop('num_orders', axis=1)\n",
    "target_train = train['num_orders']\n",
    "features_test = test.drop('num_orders', axis=1)\n",
    "target_test = test['num_orders']"
   ]
  },
  {
   "cell_type": "code",
   "execution_count": 21,
   "metadata": {},
   "outputs": [
    {
     "data": {
      "text/html": [
       "<div>\n",
       "<style scoped>\n",
       "    .dataframe tbody tr th:only-of-type {\n",
       "        vertical-align: middle;\n",
       "    }\n",
       "\n",
       "    .dataframe tbody tr th {\n",
       "        vertical-align: top;\n",
       "    }\n",
       "\n",
       "    .dataframe thead th {\n",
       "        text-align: right;\n",
       "    }\n",
       "</style>\n",
       "<table border=\"1\" class=\"dataframe\">\n",
       "  <thead>\n",
       "    <tr style=\"text-align: right;\">\n",
       "      <th></th>\n",
       "      <th>num_orders</th>\n",
       "      <th>year</th>\n",
       "      <th>month</th>\n",
       "      <th>day</th>\n",
       "      <th>dayofweek</th>\n",
       "      <th>lag_1</th>\n",
       "      <th>lag_2</th>\n",
       "      <th>lag_3</th>\n",
       "      <th>lag_4</th>\n",
       "      <th>lag_5</th>\n",
       "      <th>rolling_mean</th>\n",
       "      <th>std</th>\n",
       "    </tr>\n",
       "    <tr>\n",
       "      <th>datetime</th>\n",
       "      <th></th>\n",
       "      <th></th>\n",
       "      <th></th>\n",
       "      <th></th>\n",
       "      <th></th>\n",
       "      <th></th>\n",
       "      <th></th>\n",
       "      <th></th>\n",
       "      <th></th>\n",
       "      <th></th>\n",
       "      <th></th>\n",
       "      <th></th>\n",
       "    </tr>\n",
       "  </thead>\n",
       "  <tbody>\n",
       "    <tr>\n",
       "      <td>2018-03-02 10:00:00</td>\n",
       "      <td>9.0</td>\n",
       "      <td>2018</td>\n",
       "      <td>3</td>\n",
       "      <td>2</td>\n",
       "      <td>4</td>\n",
       "      <td>-1.0</td>\n",
       "      <td>39.0</td>\n",
       "      <td>-4.0</td>\n",
       "      <td>0.0</td>\n",
       "      <td>-9.0</td>\n",
       "      <td>-1.3</td>\n",
       "      <td>-1.3</td>\n",
       "    </tr>\n",
       "    <tr>\n",
       "      <td>2018-03-02 11:00:00</td>\n",
       "      <td>37.0</td>\n",
       "      <td>2018</td>\n",
       "      <td>3</td>\n",
       "      <td>2</td>\n",
       "      <td>4</td>\n",
       "      <td>9.0</td>\n",
       "      <td>-1.0</td>\n",
       "      <td>39.0</td>\n",
       "      <td>-4.0</td>\n",
       "      <td>0.0</td>\n",
       "      <td>-3.6</td>\n",
       "      <td>-3.6</td>\n",
       "    </tr>\n",
       "    <tr>\n",
       "      <td>2018-03-02 12:00:00</td>\n",
       "      <td>-55.0</td>\n",
       "      <td>2018</td>\n",
       "      <td>3</td>\n",
       "      <td>2</td>\n",
       "      <td>4</td>\n",
       "      <td>37.0</td>\n",
       "      <td>9.0</td>\n",
       "      <td>-1.0</td>\n",
       "      <td>39.0</td>\n",
       "      <td>-4.0</td>\n",
       "      <td>-2.9</td>\n",
       "      <td>-2.9</td>\n",
       "    </tr>\n",
       "    <tr>\n",
       "      <td>2018-03-02 13:00:00</td>\n",
       "      <td>9.0</td>\n",
       "      <td>2018</td>\n",
       "      <td>3</td>\n",
       "      <td>2</td>\n",
       "      <td>4</td>\n",
       "      <td>-55.0</td>\n",
       "      <td>37.0</td>\n",
       "      <td>9.0</td>\n",
       "      <td>-1.0</td>\n",
       "      <td>39.0</td>\n",
       "      <td>-3.9</td>\n",
       "      <td>-3.9</td>\n",
       "    </tr>\n",
       "    <tr>\n",
       "      <td>2018-03-02 14:00:00</td>\n",
       "      <td>-1.0</td>\n",
       "      <td>2018</td>\n",
       "      <td>3</td>\n",
       "      <td>2</td>\n",
       "      <td>4</td>\n",
       "      <td>9.0</td>\n",
       "      <td>-55.0</td>\n",
       "      <td>37.0</td>\n",
       "      <td>9.0</td>\n",
       "      <td>-1.0</td>\n",
       "      <td>-1.9</td>\n",
       "      <td>-1.9</td>\n",
       "    </tr>\n",
       "    <tr>\n",
       "      <td>...</td>\n",
       "      <td>...</td>\n",
       "      <td>...</td>\n",
       "      <td>...</td>\n",
       "      <td>...</td>\n",
       "      <td>...</td>\n",
       "      <td>...</td>\n",
       "      <td>...</td>\n",
       "      <td>...</td>\n",
       "      <td>...</td>\n",
       "      <td>...</td>\n",
       "      <td>...</td>\n",
       "      <td>...</td>\n",
       "    </tr>\n",
       "    <tr>\n",
       "      <td>2018-08-13 12:00:00</td>\n",
       "      <td>-52.0</td>\n",
       "      <td>2018</td>\n",
       "      <td>8</td>\n",
       "      <td>13</td>\n",
       "      <td>0</td>\n",
       "      <td>-12.0</td>\n",
       "      <td>19.0</td>\n",
       "      <td>46.0</td>\n",
       "      <td>52.0</td>\n",
       "      <td>-27.0</td>\n",
       "      <td>-2.2</td>\n",
       "      <td>-2.2</td>\n",
       "    </tr>\n",
       "    <tr>\n",
       "      <td>2018-08-13 13:00:00</td>\n",
       "      <td>27.0</td>\n",
       "      <td>2018</td>\n",
       "      <td>8</td>\n",
       "      <td>13</td>\n",
       "      <td>0</td>\n",
       "      <td>-52.0</td>\n",
       "      <td>-12.0</td>\n",
       "      <td>19.0</td>\n",
       "      <td>46.0</td>\n",
       "      <td>52.0</td>\n",
       "      <td>-7.5</td>\n",
       "      <td>-7.5</td>\n",
       "    </tr>\n",
       "    <tr>\n",
       "      <td>2018-08-13 14:00:00</td>\n",
       "      <td>-17.0</td>\n",
       "      <td>2018</td>\n",
       "      <td>8</td>\n",
       "      <td>13</td>\n",
       "      <td>0</td>\n",
       "      <td>27.0</td>\n",
       "      <td>-52.0</td>\n",
       "      <td>-12.0</td>\n",
       "      <td>19.0</td>\n",
       "      <td>46.0</td>\n",
       "      <td>-4.9</td>\n",
       "      <td>-4.9</td>\n",
       "    </tr>\n",
       "    <tr>\n",
       "      <td>2018-08-13 15:00:00</td>\n",
       "      <td>73.0</td>\n",
       "      <td>2018</td>\n",
       "      <td>8</td>\n",
       "      <td>13</td>\n",
       "      <td>0</td>\n",
       "      <td>-17.0</td>\n",
       "      <td>27.0</td>\n",
       "      <td>-52.0</td>\n",
       "      <td>-12.0</td>\n",
       "      <td>19.0</td>\n",
       "      <td>-4.1</td>\n",
       "      <td>-4.1</td>\n",
       "    </tr>\n",
       "    <tr>\n",
       "      <td>2018-08-13 16:00:00</td>\n",
       "      <td>-31.0</td>\n",
       "      <td>2018</td>\n",
       "      <td>8</td>\n",
       "      <td>13</td>\n",
       "      <td>0</td>\n",
       "      <td>73.0</td>\n",
       "      <td>-17.0</td>\n",
       "      <td>27.0</td>\n",
       "      <td>-52.0</td>\n",
       "      <td>-12.0</td>\n",
       "      <td>9.2</td>\n",
       "      <td>9.2</td>\n",
       "    </tr>\n",
       "  </tbody>\n",
       "</table>\n",
       "<p>3943 rows × 12 columns</p>\n",
       "</div>"
      ],
      "text/plain": [
       "                     num_orders  year  month  day  dayofweek  lag_1  lag_2  \\\n",
       "datetime                                                                     \n",
       "2018-03-02 10:00:00         9.0  2018      3    2          4   -1.0   39.0   \n",
       "2018-03-02 11:00:00        37.0  2018      3    2          4    9.0   -1.0   \n",
       "2018-03-02 12:00:00       -55.0  2018      3    2          4   37.0    9.0   \n",
       "2018-03-02 13:00:00         9.0  2018      3    2          4  -55.0   37.0   \n",
       "2018-03-02 14:00:00        -1.0  2018      3    2          4    9.0  -55.0   \n",
       "...                         ...   ...    ...  ...        ...    ...    ...   \n",
       "2018-08-13 12:00:00       -52.0  2018      8   13          0  -12.0   19.0   \n",
       "2018-08-13 13:00:00        27.0  2018      8   13          0  -52.0  -12.0   \n",
       "2018-08-13 14:00:00       -17.0  2018      8   13          0   27.0  -52.0   \n",
       "2018-08-13 15:00:00        73.0  2018      8   13          0  -17.0   27.0   \n",
       "2018-08-13 16:00:00       -31.0  2018      8   13          0   73.0  -17.0   \n",
       "\n",
       "                     lag_3  lag_4  lag_5  rolling_mean  std  \n",
       "datetime                                                     \n",
       "2018-03-02 10:00:00   -4.0    0.0   -9.0          -1.3 -1.3  \n",
       "2018-03-02 11:00:00   39.0   -4.0    0.0          -3.6 -3.6  \n",
       "2018-03-02 12:00:00   -1.0   39.0   -4.0          -2.9 -2.9  \n",
       "2018-03-02 13:00:00    9.0   -1.0   39.0          -3.9 -3.9  \n",
       "2018-03-02 14:00:00   37.0    9.0   -1.0          -1.9 -1.9  \n",
       "...                    ...    ...    ...           ...  ...  \n",
       "2018-08-13 12:00:00   46.0   52.0  -27.0          -2.2 -2.2  \n",
       "2018-08-13 13:00:00   19.0   46.0   52.0          -7.5 -7.5  \n",
       "2018-08-13 14:00:00  -12.0   19.0   46.0          -4.9 -4.9  \n",
       "2018-08-13 15:00:00  -52.0  -12.0   19.0          -4.1 -4.1  \n",
       "2018-08-13 16:00:00   27.0  -52.0  -12.0           9.2  9.2  \n",
       "\n",
       "[3943 rows x 12 columns]"
      ]
     },
     "metadata": {},
     "output_type": "display_data"
    }
   ],
   "source": [
    "display(train)"
   ]
  },
  {
   "cell_type": "code",
   "execution_count": 22,
   "metadata": {},
   "outputs": [
    {
     "data": {
      "text/html": [
       "<div>\n",
       "<style scoped>\n",
       "    .dataframe tbody tr th:only-of-type {\n",
       "        vertical-align: middle;\n",
       "    }\n",
       "\n",
       "    .dataframe tbody tr th {\n",
       "        vertical-align: top;\n",
       "    }\n",
       "\n",
       "    .dataframe thead th {\n",
       "        text-align: right;\n",
       "    }\n",
       "</style>\n",
       "<table border=\"1\" class=\"dataframe\">\n",
       "  <thead>\n",
       "    <tr style=\"text-align: right;\">\n",
       "      <th></th>\n",
       "      <th>num_orders</th>\n",
       "      <th>year</th>\n",
       "      <th>month</th>\n",
       "      <th>day</th>\n",
       "      <th>dayofweek</th>\n",
       "      <th>lag_1</th>\n",
       "      <th>lag_2</th>\n",
       "      <th>lag_3</th>\n",
       "      <th>lag_4</th>\n",
       "      <th>lag_5</th>\n",
       "      <th>rolling_mean</th>\n",
       "      <th>std</th>\n",
       "    </tr>\n",
       "    <tr>\n",
       "      <th>datetime</th>\n",
       "      <th></th>\n",
       "      <th></th>\n",
       "      <th></th>\n",
       "      <th></th>\n",
       "      <th></th>\n",
       "      <th></th>\n",
       "      <th></th>\n",
       "      <th></th>\n",
       "      <th></th>\n",
       "      <th></th>\n",
       "      <th></th>\n",
       "      <th></th>\n",
       "    </tr>\n",
       "  </thead>\n",
       "  <tbody>\n",
       "    <tr>\n",
       "      <td>2018-08-13 17:00:00</td>\n",
       "      <td>8.0</td>\n",
       "      <td>2018</td>\n",
       "      <td>8</td>\n",
       "      <td>13</td>\n",
       "      <td>0</td>\n",
       "      <td>-31.0</td>\n",
       "      <td>73.0</td>\n",
       "      <td>-17.0</td>\n",
       "      <td>27.0</td>\n",
       "      <td>-52.0</td>\n",
       "      <td>7.8</td>\n",
       "      <td>7.8</td>\n",
       "    </tr>\n",
       "    <tr>\n",
       "      <td>2018-08-13 18:00:00</td>\n",
       "      <td>-48.0</td>\n",
       "      <td>2018</td>\n",
       "      <td>8</td>\n",
       "      <td>13</td>\n",
       "      <td>0</td>\n",
       "      <td>8.0</td>\n",
       "      <td>-31.0</td>\n",
       "      <td>73.0</td>\n",
       "      <td>-17.0</td>\n",
       "      <td>27.0</td>\n",
       "      <td>11.3</td>\n",
       "      <td>11.3</td>\n",
       "    </tr>\n",
       "    <tr>\n",
       "      <td>2018-08-13 19:00:00</td>\n",
       "      <td>-13.0</td>\n",
       "      <td>2018</td>\n",
       "      <td>8</td>\n",
       "      <td>13</td>\n",
       "      <td>0</td>\n",
       "      <td>-48.0</td>\n",
       "      <td>8.0</td>\n",
       "      <td>-31.0</td>\n",
       "      <td>73.0</td>\n",
       "      <td>-17.0</td>\n",
       "      <td>1.3</td>\n",
       "      <td>1.3</td>\n",
       "    </tr>\n",
       "    <tr>\n",
       "      <td>2018-08-13 20:00:00</td>\n",
       "      <td>-9.0</td>\n",
       "      <td>2018</td>\n",
       "      <td>8</td>\n",
       "      <td>13</td>\n",
       "      <td>0</td>\n",
       "      <td>-13.0</td>\n",
       "      <td>-48.0</td>\n",
       "      <td>8.0</td>\n",
       "      <td>-31.0</td>\n",
       "      <td>73.0</td>\n",
       "      <td>-4.6</td>\n",
       "      <td>-4.6</td>\n",
       "    </tr>\n",
       "    <tr>\n",
       "      <td>2018-08-13 21:00:00</td>\n",
       "      <td>78.0</td>\n",
       "      <td>2018</td>\n",
       "      <td>8</td>\n",
       "      <td>13</td>\n",
       "      <td>0</td>\n",
       "      <td>-9.0</td>\n",
       "      <td>-13.0</td>\n",
       "      <td>-48.0</td>\n",
       "      <td>8.0</td>\n",
       "      <td>-31.0</td>\n",
       "      <td>-7.4</td>\n",
       "      <td>-7.4</td>\n",
       "    </tr>\n",
       "    <tr>\n",
       "      <td>...</td>\n",
       "      <td>...</td>\n",
       "      <td>...</td>\n",
       "      <td>...</td>\n",
       "      <td>...</td>\n",
       "      <td>...</td>\n",
       "      <td>...</td>\n",
       "      <td>...</td>\n",
       "      <td>...</td>\n",
       "      <td>...</td>\n",
       "      <td>...</td>\n",
       "      <td>...</td>\n",
       "      <td>...</td>\n",
       "    </tr>\n",
       "    <tr>\n",
       "      <td>2018-08-31 19:00:00</td>\n",
       "      <td>-71.0</td>\n",
       "      <td>2018</td>\n",
       "      <td>8</td>\n",
       "      <td>31</td>\n",
       "      <td>4</td>\n",
       "      <td>-10.0</td>\n",
       "      <td>20.0</td>\n",
       "      <td>81.0</td>\n",
       "      <td>-17.0</td>\n",
       "      <td>-33.0</td>\n",
       "      <td>2.5</td>\n",
       "      <td>2.5</td>\n",
       "    </tr>\n",
       "    <tr>\n",
       "      <td>2018-08-31 20:00:00</td>\n",
       "      <td>18.0</td>\n",
       "      <td>2018</td>\n",
       "      <td>8</td>\n",
       "      <td>31</td>\n",
       "      <td>4</td>\n",
       "      <td>-71.0</td>\n",
       "      <td>-10.0</td>\n",
       "      <td>20.0</td>\n",
       "      <td>81.0</td>\n",
       "      <td>-17.0</td>\n",
       "      <td>-6.7</td>\n",
       "      <td>-6.7</td>\n",
       "    </tr>\n",
       "    <tr>\n",
       "      <td>2018-08-31 21:00:00</td>\n",
       "      <td>5.0</td>\n",
       "      <td>2018</td>\n",
       "      <td>8</td>\n",
       "      <td>31</td>\n",
       "      <td>4</td>\n",
       "      <td>18.0</td>\n",
       "      <td>-71.0</td>\n",
       "      <td>-10.0</td>\n",
       "      <td>20.0</td>\n",
       "      <td>81.0</td>\n",
       "      <td>-3.7</td>\n",
       "      <td>-3.7</td>\n",
       "    </tr>\n",
       "    <tr>\n",
       "      <td>2018-08-31 22:00:00</td>\n",
       "      <td>64.0</td>\n",
       "      <td>2018</td>\n",
       "      <td>8</td>\n",
       "      <td>31</td>\n",
       "      <td>4</td>\n",
       "      <td>5.0</td>\n",
       "      <td>18.0</td>\n",
       "      <td>-71.0</td>\n",
       "      <td>-10.0</td>\n",
       "      <td>20.0</td>\n",
       "      <td>-0.8</td>\n",
       "      <td>-0.8</td>\n",
       "    </tr>\n",
       "    <tr>\n",
       "      <td>2018-08-31 23:00:00</td>\n",
       "      <td>-18.0</td>\n",
       "      <td>2018</td>\n",
       "      <td>8</td>\n",
       "      <td>31</td>\n",
       "      <td>4</td>\n",
       "      <td>64.0</td>\n",
       "      <td>5.0</td>\n",
       "      <td>18.0</td>\n",
       "      <td>-71.0</td>\n",
       "      <td>-10.0</td>\n",
       "      <td>8.7</td>\n",
       "      <td>8.7</td>\n",
       "    </tr>\n",
       "  </tbody>\n",
       "</table>\n",
       "<p>439 rows × 12 columns</p>\n",
       "</div>"
      ],
      "text/plain": [
       "                     num_orders  year  month  day  dayofweek  lag_1  lag_2  \\\n",
       "datetime                                                                     \n",
       "2018-08-13 17:00:00         8.0  2018      8   13          0  -31.0   73.0   \n",
       "2018-08-13 18:00:00       -48.0  2018      8   13          0    8.0  -31.0   \n",
       "2018-08-13 19:00:00       -13.0  2018      8   13          0  -48.0    8.0   \n",
       "2018-08-13 20:00:00        -9.0  2018      8   13          0  -13.0  -48.0   \n",
       "2018-08-13 21:00:00        78.0  2018      8   13          0   -9.0  -13.0   \n",
       "...                         ...   ...    ...  ...        ...    ...    ...   \n",
       "2018-08-31 19:00:00       -71.0  2018      8   31          4  -10.0   20.0   \n",
       "2018-08-31 20:00:00        18.0  2018      8   31          4  -71.0  -10.0   \n",
       "2018-08-31 21:00:00         5.0  2018      8   31          4   18.0  -71.0   \n",
       "2018-08-31 22:00:00        64.0  2018      8   31          4    5.0   18.0   \n",
       "2018-08-31 23:00:00       -18.0  2018      8   31          4   64.0    5.0   \n",
       "\n",
       "                     lag_3  lag_4  lag_5  rolling_mean   std  \n",
       "datetime                                                      \n",
       "2018-08-13 17:00:00  -17.0   27.0  -52.0           7.8   7.8  \n",
       "2018-08-13 18:00:00   73.0  -17.0   27.0          11.3  11.3  \n",
       "2018-08-13 19:00:00  -31.0   73.0  -17.0           1.3   1.3  \n",
       "2018-08-13 20:00:00    8.0  -31.0   73.0          -4.6  -4.6  \n",
       "2018-08-13 21:00:00  -48.0    8.0  -31.0          -7.4  -7.4  \n",
       "...                    ...    ...    ...           ...   ...  \n",
       "2018-08-31 19:00:00   81.0  -17.0  -33.0           2.5   2.5  \n",
       "2018-08-31 20:00:00   20.0   81.0  -17.0          -6.7  -6.7  \n",
       "2018-08-31 21:00:00  -10.0   20.0   81.0          -3.7  -3.7  \n",
       "2018-08-31 22:00:00  -71.0  -10.0   20.0          -0.8  -0.8  \n",
       "2018-08-31 23:00:00   18.0  -71.0  -10.0           8.7   8.7  \n",
       "\n",
       "[439 rows x 12 columns]"
      ]
     },
     "metadata": {},
     "output_type": "display_data"
    }
   ],
   "source": [
    "display(test)"
   ]
  },
  {
   "cell_type": "code",
   "execution_count": 23,
   "metadata": {},
   "outputs": [
    {
     "name": "stdout",
     "output_type": "stream",
     "text": [
      "MAE for the training set: 24.173474569055283\n",
      "MAE for the test set:  35.41226128147456\n",
      "Model RMSE for the training set: 44.53687388892847\n",
      "Model RMSE for the test set: 44.53687388892847\n"
     ]
    }
   ],
   "source": [
    "model = LinearRegression()\n",
    "model.fit(features_train, target_train)\n",
    "predictions_test = model.predict(features_test)\n",
    "predictions_train = model.predict(features_train)\n",
    "print(\"MAE for the training set:\", mean_absolute_error(predictions_train, target_train))\n",
    "print(\"MAE for the test set: \", mean_absolute_error(predictions_test, target_test))\n",
    "print('Model RMSE for the training set:', mean_squared_error(predictions_test, target_test)**0.5)\n",
    "print('Model RMSE for the test set:', mean_squared_error(predictions_test, target_test)**0.5)"
   ]
  },
  {
   "cell_type": "code",
   "execution_count": 24,
   "metadata": {},
   "outputs": [],
   "source": [
    "### Creating pipelines.\n",
    "pipe_dtr = Pipeline([('scaler0', StandardScaler()),\n",
    "                    ('DecisionTreeRegressor', DecisionTreeRegressor())])\n",
    "\n",
    "pipe_rfr = Pipeline([('scaler1', StandardScaler()),\n",
    "                    ('RandomForestRegressor', RandomForestRegressor(n_estimators=100))])\n",
    "\n",
    "pipe_linear = Pipeline([('scaler2', StandardScaler()),\n",
    "                       ('LinearRegression(Dummy)', LinearRegression())])\n",
    "\n",
    "pipe_cat_boost_r = Pipeline([('scaler3', StandardScaler()),\n",
    "                       ('CatBoostRegressor', CatBoostRegressor(verbose=500))])\n",
    "\n",
    "pipe_lgbm_r =  Pipeline([('scaler4', StandardScaler()),\n",
    "                       ('LGBMRegressor', LGBMRegressor())])\n",
    "\n",
    "pipe_xgb_r = Pipeline([('scaler5', StandardScaler()),\n",
    "                       ('XGBRegressor', XGBRegressor())])"
   ]
  },
  {
   "cell_type": "code",
   "execution_count": 25,
   "metadata": {},
   "outputs": [],
   "source": [
    "#Creating list of pipelines.\n",
    "pipelines = [pipe_dtr, pipe_rfr, pipe_linear, pipe_cat_boost_r, pipe_lgbm_r, pipe_xgb_r]\n",
    "#Creating a dictionary of pipelines.\n",
    "pipe_dict = {pipe_dtr: 'DecisionTreeRegressor', pipe_rfr:'RandomForestRegressor', pipe_linear:'LinearRegression',\\\n",
    "             pipe_cat_boost_r: 'CatBoostRegressor', pipe_lgbm_r: 'LGBMRegressor', pipe_xgb_r:'XGBRegressor'}"
   ]
  },
  {
   "cell_type": "code",
   "execution_count": 26,
   "metadata": {},
   "outputs": [],
   "source": [
    "#Defining a function to calculate RMSE.\n",
    "def rmse(target,predictions): \n",
    "    score = mean_squared_error(target, predictions)\n",
    "    score = score **0.5\n",
    "    return score"
   ]
  },
  {
   "cell_type": "code",
   "execution_count": 27,
   "metadata": {},
   "outputs": [
    {
     "name": "stdout",
     "output_type": "stream",
     "text": [
      "DecisionTreeRegressor\n",
      "[-38.97958583 -39.62103434 -41.97053707 -44.13114972 -49.13692926]\n",
      "RandomForestRegressor\n",
      "[-25.94152271 -26.93912217 -29.34069737 -31.03343304 -36.51038323]\n",
      "LinearRegression\n",
      "[-26.2654808  -27.61762746 -30.61843304 -31.55622917 -37.43094503]\n",
      "CatBoostRegressor\n",
      "0:\tlearn: 34.3695186\ttotal: 49.4ms\tremaining: 49.3s\n",
      "500:\tlearn: 25.6602266\ttotal: 8.03s\tremaining: 8s\n",
      "999:\tlearn: 22.0568415\ttotal: 16s\tremaining: 0us\n",
      "0:\tlearn: 33.8779413\ttotal: 2.14ms\tremaining: 2.13s\n",
      "500:\tlearn: 25.4719429\ttotal: 8.3s\tremaining: 8.27s\n",
      "999:\tlearn: 21.9553582\ttotal: 16.2s\tremaining: 0us\n",
      "0:\tlearn: 33.1971482\ttotal: 2.09ms\tremaining: 2.08s\n",
      "500:\tlearn: 25.1209506\ttotal: 8.26s\tremaining: 8.23s\n",
      "999:\tlearn: 21.7777436\ttotal: 16s\tremaining: 0us\n",
      "0:\tlearn: 32.9320331\ttotal: 2.12ms\tremaining: 2.12s\n",
      "500:\tlearn: 24.5609652\ttotal: 7.98s\tremaining: 7.95s\n",
      "999:\tlearn: 20.8998330\ttotal: 16.2s\tremaining: 0us\n",
      "0:\tlearn: 31.4947711\ttotal: 2.23ms\tremaining: 2.23s\n",
      "500:\tlearn: 23.4432848\ttotal: 9.21s\tremaining: 9.17s\n",
      "999:\tlearn: 20.0812376\ttotal: 17.5s\tremaining: 0us\n",
      "[-25.80803627 -26.44933561 -28.54436251 -30.42140031 -35.81517806]\n",
      "LGBMRegressor\n",
      "[-26.21709043 -26.86630834 -29.41202436 -31.30527236 -36.44937238]\n",
      "XGBRegressor\n",
      "[11:26:41] WARNING: /workspace/src/objective/regression_obj.cu:152: reg:linear is now deprecated in favor of reg:squarederror.\n"
     ]
    },
    {
     "name": "stderr",
     "output_type": "stream",
     "text": [
      "/opt/conda/lib/python3.7/site-packages/xgboost/core.py:587: FutureWarning: Series.base is deprecated and will be removed in a future version\n",
      "  if getattr(data, 'base', None) is not None and \\\n",
      "/opt/conda/lib/python3.7/site-packages/xgboost/core.py:587: FutureWarning: Series.base is deprecated and will be removed in a future version\n",
      "  if getattr(data, 'base', None) is not None and \\\n"
     ]
    },
    {
     "name": "stdout",
     "output_type": "stream",
     "text": [
      "[11:26:41] WARNING: /workspace/src/objective/regression_obj.cu:152: reg:linear is now deprecated in favor of reg:squarederror.\n"
     ]
    },
    {
     "name": "stderr",
     "output_type": "stream",
     "text": [
      "/opt/conda/lib/python3.7/site-packages/xgboost/core.py:587: FutureWarning: Series.base is deprecated and will be removed in a future version\n",
      "  if getattr(data, 'base', None) is not None and \\\n"
     ]
    },
    {
     "name": "stdout",
     "output_type": "stream",
     "text": [
      "[11:26:41] WARNING: /workspace/src/objective/regression_obj.cu:152: reg:linear is now deprecated in favor of reg:squarederror.\n"
     ]
    },
    {
     "name": "stderr",
     "output_type": "stream",
     "text": [
      "/opt/conda/lib/python3.7/site-packages/xgboost/core.py:587: FutureWarning: Series.base is deprecated and will be removed in a future version\n",
      "  if getattr(data, 'base', None) is not None and \\\n"
     ]
    },
    {
     "name": "stdout",
     "output_type": "stream",
     "text": [
      "[11:26:41] WARNING: /workspace/src/objective/regression_obj.cu:152: reg:linear is now deprecated in favor of reg:squarederror.\n"
     ]
    },
    {
     "name": "stderr",
     "output_type": "stream",
     "text": [
      "/opt/conda/lib/python3.7/site-packages/xgboost/core.py:587: FutureWarning: Series.base is deprecated and will be removed in a future version\n",
      "  if getattr(data, 'base', None) is not None and \\\n"
     ]
    },
    {
     "name": "stdout",
     "output_type": "stream",
     "text": [
      "[11:26:42] WARNING: /workspace/src/objective/regression_obj.cu:152: reg:linear is now deprecated in favor of reg:squarederror.\n",
      "[-25.99597946 -27.12286351 -29.17918781 -30.8672145  -36.71103585]\n"
     ]
    }
   ],
   "source": [
    "#Looping trough pipelines to obtain cross validation scores.\n",
    "rmse = make_scorer(rmse, greater_is_better=False)\n",
    "for pipe in pipelines:\n",
    "    print(pipe_dict[pipe])\n",
    "    print(cross_val_score(pipe, features_train, target_train, scoring = rmse, cv=5))"
   ]
  },
  {
   "cell_type": "code",
   "execution_count": 38,
   "metadata": {},
   "outputs": [
    {
     "name": "stdout",
     "output_type": "stream",
     "text": [
      "RandomForestRegressor(bootstrap=True, criterion='mse', max_depth=12,\n",
      "                      max_features='auto', max_leaf_nodes=None,\n",
      "                      min_impurity_decrease=0.0, min_impurity_split=None,\n",
      "                      min_samples_leaf=1, min_samples_split=2,\n",
      "                      min_weight_fraction_leaf=0.0, n_estimators=300,\n",
      "                      n_jobs=None, oob_score=False, random_state=0, verbose=0,\n",
      "                      warm_start=False)\n",
      "-29.73325195049335\n"
     ]
    }
   ],
   "source": [
    "#Creating a tree based model with best hyperparameters.\n",
    "parameters = {'n_estimators': (110,150,200,230,250,80,300),\n",
    "              'max_depth': (7,8,10,12,16,19,25),\n",
    "              } \n",
    "\n",
    "#Creating a grid model.\n",
    "RF_grid = GridSearchCV(RandomForestRegressor(random_state=0, criterion='mse'), param_grid=parameters, \\\n",
    "                       cv=5, scoring=rmse, n_jobs=-1)\n",
    "RF_grid_model = RF_grid.fit(features_train, target_train)\n",
    "print(RF_grid_model.best_estimator_)\n",
    "print(RF_grid_model.best_score_)"
   ]
  },
  {
   "cell_type": "code",
   "execution_count": 39,
   "metadata": {},
   "outputs": [
    {
     "name": "stdout",
     "output_type": "stream",
     "text": [
      "[12:12:17] WARNING: /workspace/src/objective/regression_obj.cu:152: reg:linear is now deprecated in favor of reg:squarederror.\n",
      "[12:12:18] WARNING: /workspace/src/objective/regression_obj.cu:152: reg:linear is now deprecated in favor of reg:squarederror.\n",
      "[12:12:18] WARNING: /workspace/src/objective/regression_obj.cu:152: reg:linear is now deprecated in favor of reg:squarederror.\n",
      "[12:12:19] WARNING: /workspace/src/objective/regression_obj.cu:152: reg:linear is now deprecated in favor of reg:squarederror.\n",
      "[12:12:19] WARNING: /workspace/src/objective/regression_obj.cu:152: reg:linear is now deprecated in favor of reg:squarederror.\n",
      "[12:12:20] WARNING: /workspace/src/objective/regression_obj.cu:152: reg:linear is now deprecated in favor of reg:squarederror.\n",
      "[12:12:20] WARNING: /workspace/src/objective/regression_obj.cu:152: reg:linear is now deprecated in favor of reg:squarederror.\n",
      "[12:12:21] WARNING: /workspace/src/objective/regression_obj.cu:152: reg:linear is now deprecated in favor of reg:squarederror.\n",
      "[12:12:22] WARNING: /workspace/src/objective/regression_obj.cu:152: reg:linear is now deprecated in favor of reg:squarederror.\n",
      "[12:12:23] WARNING: /workspace/src/objective/regression_obj.cu:152: reg:linear is now deprecated in favor of reg:squarederror.\n",
      "[12:12:24] WARNING: /workspace/src/objective/regression_obj.cu:152: reg:linear is now deprecated in favor of reg:squarederror.\n",
      "[12:12:24] WARNING: /workspace/src/objective/regression_obj.cu:152: reg:linear is now deprecated in favor of reg:squarederror.\n",
      "[12:12:25] WARNING: /workspace/src/objective/regression_obj.cu:152: reg:linear is now deprecated in favor of reg:squarederror.\n",
      "[12:12:26] WARNING: /workspace/src/objective/regression_obj.cu:152: reg:linear is now deprecated in favor of reg:squarederror.\n",
      "[12:12:27] WARNING: /workspace/src/objective/regression_obj.cu:152: reg:linear is now deprecated in favor of reg:squarederror.\n",
      "[12:12:28] WARNING: /workspace/src/objective/regression_obj.cu:152: reg:linear is now deprecated in favor of reg:squarederror.\n",
      "[12:12:29] WARNING: /workspace/src/objective/regression_obj.cu:152: reg:linear is now deprecated in favor of reg:squarederror.\n",
      "[12:12:29] WARNING: /workspace/src/objective/regression_obj.cu:152: reg:linear is now deprecated in favor of reg:squarederror.\n",
      "[12:12:29] WARNING: /workspace/src/objective/regression_obj.cu:152: reg:linear is now deprecated in favor of reg:squarederror.\n",
      "[12:12:30] WARNING: /workspace/src/objective/regression_obj.cu:152: reg:linear is now deprecated in favor of reg:squarederror.\n",
      "[12:12:30] WARNING: /workspace/src/objective/regression_obj.cu:152: reg:linear is now deprecated in favor of reg:squarederror.\n",
      "[12:12:30] WARNING: /workspace/src/objective/regression_obj.cu:152: reg:linear is now deprecated in favor of reg:squarederror.\n",
      "[12:12:30] WARNING: /workspace/src/objective/regression_obj.cu:152: reg:linear is now deprecated in favor of reg:squarederror.\n",
      "[12:12:31] WARNING: /workspace/src/objective/regression_obj.cu:152: reg:linear is now deprecated in favor of reg:squarederror.\n",
      "[12:12:31] WARNING: /workspace/src/objective/regression_obj.cu:152: reg:linear is now deprecated in favor of reg:squarederror.\n",
      "[12:12:31] WARNING: /workspace/src/objective/regression_obj.cu:152: reg:linear is now deprecated in favor of reg:squarederror.\n",
      "[12:12:31] WARNING: /workspace/src/objective/regression_obj.cu:152: reg:linear is now deprecated in favor of reg:squarederror.\n",
      "[12:12:32] WARNING: /workspace/src/objective/regression_obj.cu:152: reg:linear is now deprecated in favor of reg:squarederror.\n",
      "[12:12:32] WARNING: /workspace/src/objective/regression_obj.cu:152: reg:linear is now deprecated in favor of reg:squarederror.\n",
      "[12:12:32] WARNING: /workspace/src/objective/regression_obj.cu:152: reg:linear is now deprecated in favor of reg:squarederror.\n",
      "[12:12:33] WARNING: /workspace/src/objective/regression_obj.cu:152: reg:linear is now deprecated in favor of reg:squarederror.\n",
      "[12:12:33] WARNING: /workspace/src/objective/regression_obj.cu:152: reg:linear is now deprecated in favor of reg:squarederror.\n",
      "[12:12:33] WARNING: /workspace/src/objective/regression_obj.cu:152: reg:linear is now deprecated in favor of reg:squarederror.\n",
      "[12:12:34] WARNING: /workspace/src/objective/regression_obj.cu:152: reg:linear is now deprecated in favor of reg:squarederror.\n",
      "[12:12:34] WARNING: /workspace/src/objective/regression_obj.cu:152: reg:linear is now deprecated in favor of reg:squarederror.\n",
      "[12:12:35] WARNING: /workspace/src/objective/regression_obj.cu:152: reg:linear is now deprecated in favor of reg:squarederror.\n",
      "[12:12:36] WARNING: /workspace/src/objective/regression_obj.cu:152: reg:linear is now deprecated in favor of reg:squarederror.\n",
      "[12:12:36] WARNING: /workspace/src/objective/regression_obj.cu:152: reg:linear is now deprecated in favor of reg:squarederror.\n",
      "[12:12:37] WARNING: /workspace/src/objective/regression_obj.cu:152: reg:linear is now deprecated in favor of reg:squarederror.\n",
      "[12:12:38] WARNING: /workspace/src/objective/regression_obj.cu:152: reg:linear is now deprecated in favor of reg:squarederror.\n",
      "[12:12:39] WARNING: /workspace/src/objective/regression_obj.cu:152: reg:linear is now deprecated in favor of reg:squarederror.\n",
      "[12:12:40] WARNING: /workspace/src/objective/regression_obj.cu:152: reg:linear is now deprecated in favor of reg:squarederror.\n",
      "[12:12:41] WARNING: /workspace/src/objective/regression_obj.cu:152: reg:linear is now deprecated in favor of reg:squarederror.\n",
      "[12:12:42] WARNING: /workspace/src/objective/regression_obj.cu:152: reg:linear is now deprecated in favor of reg:squarederror.\n",
      "[12:12:43] WARNING: /workspace/src/objective/regression_obj.cu:152: reg:linear is now deprecated in favor of reg:squarederror.\n",
      "[12:12:44] WARNING: /workspace/src/objective/regression_obj.cu:152: reg:linear is now deprecated in favor of reg:squarederror.\n",
      "[12:12:44] WARNING: /workspace/src/objective/regression_obj.cu:152: reg:linear is now deprecated in favor of reg:squarederror.\n",
      "[12:12:44] WARNING: /workspace/src/objective/regression_obj.cu:152: reg:linear is now deprecated in favor of reg:squarederror.\n",
      "[12:12:45] WARNING: /workspace/src/objective/regression_obj.cu:152: reg:linear is now deprecated in favor of reg:squarederror.\n",
      "[12:12:45] WARNING: /workspace/src/objective/regression_obj.cu:152: reg:linear is now deprecated in favor of reg:squarederror.\n",
      "[12:12:45] WARNING: /workspace/src/objective/regression_obj.cu:152: reg:linear is now deprecated in favor of reg:squarederror.\n",
      "[12:12:46] WARNING: /workspace/src/objective/regression_obj.cu:152: reg:linear is now deprecated in favor of reg:squarederror.\n",
      "[12:12:46] WARNING: /workspace/src/objective/regression_obj.cu:152: reg:linear is now deprecated in favor of reg:squarederror.\n",
      "[12:12:46] WARNING: /workspace/src/objective/regression_obj.cu:152: reg:linear is now deprecated in favor of reg:squarederror.\n",
      "[12:12:46] WARNING: /workspace/src/objective/regression_obj.cu:152: reg:linear is now deprecated in favor of reg:squarederror.\n",
      "[12:12:47] WARNING: /workspace/src/objective/regression_obj.cu:152: reg:linear is now deprecated in favor of reg:squarederror.\n",
      "[12:12:47] WARNING: /workspace/src/objective/regression_obj.cu:152: reg:linear is now deprecated in favor of reg:squarederror.\n",
      "[12:12:47] WARNING: /workspace/src/objective/regression_obj.cu:152: reg:linear is now deprecated in favor of reg:squarederror.\n",
      "[12:12:47] WARNING: /workspace/src/objective/regression_obj.cu:152: reg:linear is now deprecated in favor of reg:squarederror.\n",
      "[12:12:48] WARNING: /workspace/src/objective/regression_obj.cu:152: reg:linear is now deprecated in favor of reg:squarederror.\n",
      "[12:12:48] WARNING: /workspace/src/objective/regression_obj.cu:152: reg:linear is now deprecated in favor of reg:squarederror.\n",
      "[12:12:48] WARNING: /workspace/src/objective/regression_obj.cu:152: reg:linear is now deprecated in favor of reg:squarederror.\n",
      "[12:12:49] WARNING: /workspace/src/objective/regression_obj.cu:152: reg:linear is now deprecated in favor of reg:squarederror.\n",
      "[12:12:50] WARNING: /workspace/src/objective/regression_obj.cu:152: reg:linear is now deprecated in favor of reg:squarederror.\n",
      "[12:12:50] WARNING: /workspace/src/objective/regression_obj.cu:152: reg:linear is now deprecated in favor of reg:squarederror.\n"
     ]
    },
    {
     "name": "stdout",
     "output_type": "stream",
     "text": [
      "[12:12:51] WARNING: /workspace/src/objective/regression_obj.cu:152: reg:linear is now deprecated in favor of reg:squarederror.\n",
      "[12:12:51] WARNING: /workspace/src/objective/regression_obj.cu:152: reg:linear is now deprecated in favor of reg:squarederror.\n",
      "[12:12:52] WARNING: /workspace/src/objective/regression_obj.cu:152: reg:linear is now deprecated in favor of reg:squarederror.\n",
      "[12:12:53] WARNING: /workspace/src/objective/regression_obj.cu:152: reg:linear is now deprecated in favor of reg:squarederror.\n",
      "[12:12:54] WARNING: /workspace/src/objective/regression_obj.cu:152: reg:linear is now deprecated in favor of reg:squarederror.\n",
      "[12:12:54] WARNING: /workspace/src/objective/regression_obj.cu:152: reg:linear is now deprecated in favor of reg:squarederror.\n",
      "[12:12:55] WARNING: /workspace/src/objective/regression_obj.cu:152: reg:linear is now deprecated in favor of reg:squarederror.\n",
      "[12:12:56] WARNING: /workspace/src/objective/regression_obj.cu:152: reg:linear is now deprecated in favor of reg:squarederror.\n",
      "[12:12:57] WARNING: /workspace/src/objective/regression_obj.cu:152: reg:linear is now deprecated in favor of reg:squarederror.\n",
      "[12:12:58] WARNING: /workspace/src/objective/regression_obj.cu:152: reg:linear is now deprecated in favor of reg:squarederror.\n",
      "[12:12:59] WARNING: /workspace/src/objective/regression_obj.cu:152: reg:linear is now deprecated in favor of reg:squarederror.\n",
      "[12:13:00] WARNING: /workspace/src/objective/regression_obj.cu:152: reg:linear is now deprecated in favor of reg:squarederror.\n",
      "[12:13:00] WARNING: /workspace/src/objective/regression_obj.cu:152: reg:linear is now deprecated in favor of reg:squarederror.\n",
      "[12:13:00] WARNING: /workspace/src/objective/regression_obj.cu:152: reg:linear is now deprecated in favor of reg:squarederror.\n",
      "[12:13:01] WARNING: /workspace/src/objective/regression_obj.cu:152: reg:linear is now deprecated in favor of reg:squarederror.\n",
      "[12:13:01] WARNING: /workspace/src/objective/regression_obj.cu:152: reg:linear is now deprecated in favor of reg:squarederror.\n",
      "[12:13:01] WARNING: /workspace/src/objective/regression_obj.cu:152: reg:linear is now deprecated in favor of reg:squarederror.\n",
      "[12:13:01] WARNING: /workspace/src/objective/regression_obj.cu:152: reg:linear is now deprecated in favor of reg:squarederror.\n",
      "[12:13:02] WARNING: /workspace/src/objective/regression_obj.cu:152: reg:linear is now deprecated in favor of reg:squarederror.\n",
      "[12:13:02] WARNING: /workspace/src/objective/regression_obj.cu:152: reg:linear is now deprecated in favor of reg:squarederror.\n",
      "[12:13:02] WARNING: /workspace/src/objective/regression_obj.cu:152: reg:linear is now deprecated in favor of reg:squarederror.\n",
      "[12:13:02] WARNING: /workspace/src/objective/regression_obj.cu:152: reg:linear is now deprecated in favor of reg:squarederror.\n",
      "[12:13:03] WARNING: /workspace/src/objective/regression_obj.cu:152: reg:linear is now deprecated in favor of reg:squarederror.\n",
      "[12:13:03] WARNING: /workspace/src/objective/regression_obj.cu:152: reg:linear is now deprecated in favor of reg:squarederror.\n",
      "[12:13:03] WARNING: /workspace/src/objective/regression_obj.cu:152: reg:linear is now deprecated in favor of reg:squarederror.\n",
      "[12:13:03] WARNING: /workspace/src/objective/regression_obj.cu:152: reg:linear is now deprecated in favor of reg:squarederror.\n",
      "[12:13:04] WARNING: /workspace/src/objective/regression_obj.cu:152: reg:linear is now deprecated in favor of reg:squarederror.\n",
      "[12:13:04] WARNING: /workspace/src/objective/regression_obj.cu:152: reg:linear is now deprecated in favor of reg:squarederror.\n",
      "[12:13:05] WARNING: /workspace/src/objective/regression_obj.cu:152: reg:linear is now deprecated in favor of reg:squarederror.\n",
      "[12:13:05] WARNING: /workspace/src/objective/regression_obj.cu:152: reg:linear is now deprecated in favor of reg:squarederror.\n",
      "[12:13:06] WARNING: /workspace/src/objective/regression_obj.cu:152: reg:linear is now deprecated in favor of reg:squarederror.\n",
      "[12:13:06] WARNING: /workspace/src/objective/regression_obj.cu:152: reg:linear is now deprecated in favor of reg:squarederror.\n",
      "[12:13:07] WARNING: /workspace/src/objective/regression_obj.cu:152: reg:linear is now deprecated in favor of reg:squarederror.\n",
      "[12:13:08] WARNING: /workspace/src/objective/regression_obj.cu:152: reg:linear is now deprecated in favor of reg:squarederror.\n",
      "[12:13:09] WARNING: /workspace/src/objective/regression_obj.cu:152: reg:linear is now deprecated in favor of reg:squarederror.\n",
      "[12:13:10] WARNING: /workspace/src/objective/regression_obj.cu:152: reg:linear is now deprecated in favor of reg:squarederror.\n",
      "[12:13:11] WARNING: /workspace/src/objective/regression_obj.cu:152: reg:linear is now deprecated in favor of reg:squarederror.\n",
      "[12:13:11] WARNING: /workspace/src/objective/regression_obj.cu:152: reg:linear is now deprecated in favor of reg:squarederror.\n",
      "[12:13:13] WARNING: /workspace/src/objective/regression_obj.cu:152: reg:linear is now deprecated in favor of reg:squarederror.\n",
      "[12:13:14] WARNING: /workspace/src/objective/regression_obj.cu:152: reg:linear is now deprecated in favor of reg:squarederror.\n",
      "[12:13:15] WARNING: /workspace/src/objective/regression_obj.cu:152: reg:linear is now deprecated in favor of reg:squarederror.\n",
      "[12:13:15] WARNING: /workspace/src/objective/regression_obj.cu:152: reg:linear is now deprecated in favor of reg:squarederror.\n",
      "[12:13:15] WARNING: /workspace/src/objective/regression_obj.cu:152: reg:linear is now deprecated in favor of reg:squarederror.\n",
      "[12:13:16] WARNING: /workspace/src/objective/regression_obj.cu:152: reg:linear is now deprecated in favor of reg:squarederror.\n",
      "[12:13:16] WARNING: /workspace/src/objective/regression_obj.cu:152: reg:linear is now deprecated in favor of reg:squarederror.\n",
      "[12:13:16] WARNING: /workspace/src/objective/regression_obj.cu:152: reg:linear is now deprecated in favor of reg:squarederror.\n",
      "[12:13:17] WARNING: /workspace/src/objective/regression_obj.cu:152: reg:linear is now deprecated in favor of reg:squarederror.\n",
      "[12:13:17] WARNING: /workspace/src/objective/regression_obj.cu:152: reg:linear is now deprecated in favor of reg:squarederror.\n",
      "[12:13:17] WARNING: /workspace/src/objective/regression_obj.cu:152: reg:linear is now deprecated in favor of reg:squarederror.\n",
      "[12:13:17] WARNING: /workspace/src/objective/regression_obj.cu:152: reg:linear is now deprecated in favor of reg:squarederror.\n",
      "[12:13:17] WARNING: /workspace/src/objective/regression_obj.cu:152: reg:linear is now deprecated in favor of reg:squarederror.\n",
      "[12:13:18] WARNING: /workspace/src/objective/regression_obj.cu:152: reg:linear is now deprecated in favor of reg:squarederror.\n",
      "[12:13:18] WARNING: /workspace/src/objective/regression_obj.cu:152: reg:linear is now deprecated in favor of reg:squarederror.\n",
      "[12:13:18] WARNING: /workspace/src/objective/regression_obj.cu:152: reg:linear is now deprecated in favor of reg:squarederror.\n",
      "[12:13:19] WARNING: /workspace/src/objective/regression_obj.cu:152: reg:linear is now deprecated in favor of reg:squarederror.\n",
      "[12:13:19] WARNING: /workspace/src/objective/regression_obj.cu:152: reg:linear is now deprecated in favor of reg:squarederror.\n",
      "[12:13:19] WARNING: /workspace/src/objective/regression_obj.cu:152: reg:linear is now deprecated in favor of reg:squarederror.\n",
      "[12:13:20] WARNING: /workspace/src/objective/regression_obj.cu:152: reg:linear is now deprecated in favor of reg:squarederror.\n",
      "[12:13:20] WARNING: /workspace/src/objective/regression_obj.cu:152: reg:linear is now deprecated in favor of reg:squarederror.\n",
      "[12:13:21] WARNING: /workspace/src/objective/regression_obj.cu:152: reg:linear is now deprecated in favor of reg:squarederror.\n",
      "[12:13:21] WARNING: /workspace/src/objective/regression_obj.cu:152: reg:linear is now deprecated in favor of reg:squarederror.\n",
      "[12:13:22] WARNING: /workspace/src/objective/regression_obj.cu:152: reg:linear is now deprecated in favor of reg:squarederror.\n",
      "[12:13:23] WARNING: /workspace/src/objective/regression_obj.cu:152: reg:linear is now deprecated in favor of reg:squarederror.\n",
      "[12:13:24] WARNING: /workspace/src/objective/regression_obj.cu:152: reg:linear is now deprecated in favor of reg:squarederror.\n",
      "[12:13:24] WARNING: /workspace/src/objective/regression_obj.cu:152: reg:linear is now deprecated in favor of reg:squarederror.\n"
     ]
    },
    {
     "name": "stdout",
     "output_type": "stream",
     "text": [
      "[12:13:25] WARNING: /workspace/src/objective/regression_obj.cu:152: reg:linear is now deprecated in favor of reg:squarederror.\n",
      "[12:13:26] WARNING: /workspace/src/objective/regression_obj.cu:152: reg:linear is now deprecated in favor of reg:squarederror.\n",
      "[12:13:27] WARNING: /workspace/src/objective/regression_obj.cu:152: reg:linear is now deprecated in favor of reg:squarederror.\n",
      "[12:13:28] WARNING: /workspace/src/objective/regression_obj.cu:152: reg:linear is now deprecated in favor of reg:squarederror.\n",
      "[12:13:29] WARNING: /workspace/src/objective/regression_obj.cu:152: reg:linear is now deprecated in favor of reg:squarederror.\n",
      "[12:13:30] WARNING: /workspace/src/objective/regression_obj.cu:152: reg:linear is now deprecated in favor of reg:squarederror.\n",
      "[12:13:30] WARNING: /workspace/src/objective/regression_obj.cu:152: reg:linear is now deprecated in favor of reg:squarederror.\n",
      "[12:13:31] WARNING: /workspace/src/objective/regression_obj.cu:152: reg:linear is now deprecated in favor of reg:squarederror.\n",
      "[12:13:31] WARNING: /workspace/src/objective/regression_obj.cu:152: reg:linear is now deprecated in favor of reg:squarederror.\n",
      "[12:13:31] WARNING: /workspace/src/objective/regression_obj.cu:152: reg:linear is now deprecated in favor of reg:squarederror.\n",
      "[12:13:32] WARNING: /workspace/src/objective/regression_obj.cu:152: reg:linear is now deprecated in favor of reg:squarederror.\n",
      "[12:13:32] WARNING: /workspace/src/objective/regression_obj.cu:152: reg:linear is now deprecated in favor of reg:squarederror.\n",
      "[12:13:32] WARNING: /workspace/src/objective/regression_obj.cu:152: reg:linear is now deprecated in favor of reg:squarederror.\n",
      "[12:13:32] WARNING: /workspace/src/objective/regression_obj.cu:152: reg:linear is now deprecated in favor of reg:squarederror.\n",
      "[12:13:33] WARNING: /workspace/src/objective/regression_obj.cu:152: reg:linear is now deprecated in favor of reg:squarederror.\n",
      "[12:13:33] WARNING: /workspace/src/objective/regression_obj.cu:152: reg:linear is now deprecated in favor of reg:squarederror.\n",
      "[12:13:33] WARNING: /workspace/src/objective/regression_obj.cu:152: reg:linear is now deprecated in favor of reg:squarederror.\n",
      "[12:13:34] WARNING: /workspace/src/objective/regression_obj.cu:152: reg:linear is now deprecated in favor of reg:squarederror.\n",
      "[12:13:34] WARNING: /workspace/src/objective/regression_obj.cu:152: reg:linear is now deprecated in favor of reg:squarederror.\n",
      "[12:13:34] WARNING: /workspace/src/objective/regression_obj.cu:152: reg:linear is now deprecated in favor of reg:squarederror.\n",
      "[12:13:34] WARNING: /workspace/src/objective/regression_obj.cu:152: reg:linear is now deprecated in favor of reg:squarederror.\n",
      "[12:13:35] WARNING: /workspace/src/objective/regression_obj.cu:152: reg:linear is now deprecated in favor of reg:squarederror.\n",
      "[12:13:35] WARNING: /workspace/src/objective/regression_obj.cu:152: reg:linear is now deprecated in favor of reg:squarederror.\n",
      "[12:13:36] WARNING: /workspace/src/objective/regression_obj.cu:152: reg:linear is now deprecated in favor of reg:squarederror.\n",
      "[12:13:36] WARNING: /workspace/src/objective/regression_obj.cu:152: reg:linear is now deprecated in favor of reg:squarederror.\n",
      "[12:13:37] WARNING: /workspace/src/objective/regression_obj.cu:152: reg:linear is now deprecated in favor of reg:squarederror.\n",
      "[12:13:37] WARNING: /workspace/src/objective/regression_obj.cu:152: reg:linear is now deprecated in favor of reg:squarederror.\n",
      "[12:13:38] WARNING: /workspace/src/objective/regression_obj.cu:152: reg:linear is now deprecated in favor of reg:squarederror.\n",
      "[12:13:39] WARNING: /workspace/src/objective/regression_obj.cu:152: reg:linear is now deprecated in favor of reg:squarederror.\n",
      "[12:13:40] WARNING: /workspace/src/objective/regression_obj.cu:152: reg:linear is now deprecated in favor of reg:squarederror.\n",
      "[12:13:40] WARNING: /workspace/src/objective/regression_obj.cu:152: reg:linear is now deprecated in favor of reg:squarederror.\n",
      "[12:13:41] WARNING: /workspace/src/objective/regression_obj.cu:152: reg:linear is now deprecated in favor of reg:squarederror.\n",
      "[12:13:42] WARNING: /workspace/src/objective/regression_obj.cu:152: reg:linear is now deprecated in favor of reg:squarederror.\n",
      "[12:13:43] WARNING: /workspace/src/objective/regression_obj.cu:152: reg:linear is now deprecated in favor of reg:squarederror.\n",
      "[12:13:44] WARNING: /workspace/src/objective/regression_obj.cu:152: reg:linear is now deprecated in favor of reg:squarederror.\n",
      "[12:13:45] WARNING: /workspace/src/objective/regression_obj.cu:152: reg:linear is now deprecated in favor of reg:squarederror.\n",
      "[12:13:46] WARNING: /workspace/src/objective/regression_obj.cu:152: reg:linear is now deprecated in favor of reg:squarederror.\n",
      "[12:13:46] WARNING: /workspace/src/objective/regression_obj.cu:152: reg:linear is now deprecated in favor of reg:squarederror.\n",
      "[12:13:46] WARNING: /workspace/src/objective/regression_obj.cu:152: reg:linear is now deprecated in favor of reg:squarederror.\n",
      "[12:13:47] WARNING: /workspace/src/objective/regression_obj.cu:152: reg:linear is now deprecated in favor of reg:squarederror.\n",
      "[12:13:47] WARNING: /workspace/src/objective/regression_obj.cu:152: reg:linear is now deprecated in favor of reg:squarederror.\n",
      "[12:13:47] WARNING: /workspace/src/objective/regression_obj.cu:152: reg:linear is now deprecated in favor of reg:squarederror.\n",
      "[12:13:47] WARNING: /workspace/src/objective/regression_obj.cu:152: reg:linear is now deprecated in favor of reg:squarederror.\n",
      "[12:13:48] WARNING: /workspace/src/objective/regression_obj.cu:152: reg:linear is now deprecated in favor of reg:squarederror.\n",
      "[12:13:48] WARNING: /workspace/src/objective/regression_obj.cu:152: reg:linear is now deprecated in favor of reg:squarederror.\n",
      "[12:13:48] WARNING: /workspace/src/objective/regression_obj.cu:152: reg:linear is now deprecated in favor of reg:squarederror.\n",
      "[12:13:48] WARNING: /workspace/src/objective/regression_obj.cu:152: reg:linear is now deprecated in favor of reg:squarederror.\n",
      "[12:13:49] WARNING: /workspace/src/objective/regression_obj.cu:152: reg:linear is now deprecated in favor of reg:squarederror.\n",
      "[12:13:49] WARNING: /workspace/src/objective/regression_obj.cu:152: reg:linear is now deprecated in favor of reg:squarederror.\n",
      "[12:13:49] WARNING: /workspace/src/objective/regression_obj.cu:152: reg:linear is now deprecated in favor of reg:squarederror.\n",
      "[12:13:50] WARNING: /workspace/src/objective/regression_obj.cu:152: reg:linear is now deprecated in favor of reg:squarederror.\n",
      "[12:13:50] WARNING: /workspace/src/objective/regression_obj.cu:152: reg:linear is now deprecated in favor of reg:squarederror.\n",
      "[12:13:51] WARNING: /workspace/src/objective/regression_obj.cu:152: reg:linear is now deprecated in favor of reg:squarederror.\n",
      "[12:13:51] WARNING: /workspace/src/objective/regression_obj.cu:152: reg:linear is now deprecated in favor of reg:squarederror.\n",
      "[12:13:51] WARNING: /workspace/src/objective/regression_obj.cu:152: reg:linear is now deprecated in favor of reg:squarederror.\n",
      "[12:13:52] WARNING: /workspace/src/objective/regression_obj.cu:152: reg:linear is now deprecated in favor of reg:squarederror.\n",
      "[12:13:53] WARNING: /workspace/src/objective/regression_obj.cu:152: reg:linear is now deprecated in favor of reg:squarederror.\n",
      "[12:13:53] WARNING: /workspace/src/objective/regression_obj.cu:152: reg:linear is now deprecated in favor of reg:squarederror.\n",
      "[12:13:54] WARNING: /workspace/src/objective/regression_obj.cu:152: reg:linear is now deprecated in favor of reg:squarederror.\n",
      "[12:13:55] WARNING: /workspace/src/objective/regression_obj.cu:152: reg:linear is now deprecated in favor of reg:squarederror.\n",
      "[12:13:56] WARNING: /workspace/src/objective/regression_obj.cu:152: reg:linear is now deprecated in favor of reg:squarederror.\n",
      "[12:13:57] WARNING: /workspace/src/objective/regression_obj.cu:152: reg:linear is now deprecated in favor of reg:squarederror.\n",
      "[12:13:58] WARNING: /workspace/src/objective/regression_obj.cu:152: reg:linear is now deprecated in favor of reg:squarederror.\n",
      "[12:13:58] WARNING: /workspace/src/objective/regression_obj.cu:152: reg:linear is now deprecated in favor of reg:squarederror.\n",
      "[12:13:59] WARNING: /workspace/src/objective/regression_obj.cu:152: reg:linear is now deprecated in favor of reg:squarederror.\n"
     ]
    },
    {
     "name": "stdout",
     "output_type": "stream",
     "text": [
      "[12:14:00] WARNING: /workspace/src/objective/regression_obj.cu:152: reg:linear is now deprecated in favor of reg:squarederror.\n",
      "[12:14:01] WARNING: /workspace/src/objective/regression_obj.cu:152: reg:linear is now deprecated in favor of reg:squarederror.\n",
      "[12:14:01] WARNING: /workspace/src/objective/regression_obj.cu:152: reg:linear is now deprecated in favor of reg:squarederror.\n",
      "[12:14:02] WARNING: /workspace/src/objective/regression_obj.cu:152: reg:linear is now deprecated in favor of reg:squarederror.\n",
      "[12:14:02] WARNING: /workspace/src/objective/regression_obj.cu:152: reg:linear is now deprecated in favor of reg:squarederror.\n",
      "[12:14:02] WARNING: /workspace/src/objective/regression_obj.cu:152: reg:linear is now deprecated in favor of reg:squarederror.\n",
      "[12:14:02] WARNING: /workspace/src/objective/regression_obj.cu:152: reg:linear is now deprecated in favor of reg:squarederror.\n",
      "[12:14:03] WARNING: /workspace/src/objective/regression_obj.cu:152: reg:linear is now deprecated in favor of reg:squarederror.\n",
      "[12:14:03] WARNING: /workspace/src/objective/regression_obj.cu:152: reg:linear is now deprecated in favor of reg:squarederror.\n",
      "[12:14:03] WARNING: /workspace/src/objective/regression_obj.cu:152: reg:linear is now deprecated in favor of reg:squarederror.\n",
      "[12:14:03] WARNING: /workspace/src/objective/regression_obj.cu:152: reg:linear is now deprecated in favor of reg:squarederror.\n",
      "[12:14:04] WARNING: /workspace/src/objective/regression_obj.cu:152: reg:linear is now deprecated in favor of reg:squarederror.\n",
      "[12:14:04] WARNING: /workspace/src/objective/regression_obj.cu:152: reg:linear is now deprecated in favor of reg:squarederror.\n",
      "[12:14:04] WARNING: /workspace/src/objective/regression_obj.cu:152: reg:linear is now deprecated in favor of reg:squarederror.\n",
      "[12:14:04] WARNING: /workspace/src/objective/regression_obj.cu:152: reg:linear is now deprecated in favor of reg:squarederror.\n",
      "[12:14:05] WARNING: /workspace/src/objective/regression_obj.cu:152: reg:linear is now deprecated in favor of reg:squarederror.\n",
      "[12:14:05] WARNING: /workspace/src/objective/regression_obj.cu:152: reg:linear is now deprecated in favor of reg:squarederror.\n",
      "[12:14:06] WARNING: /workspace/src/objective/regression_obj.cu:152: reg:linear is now deprecated in favor of reg:squarederror.\n",
      "[12:14:06] WARNING: /workspace/src/objective/regression_obj.cu:152: reg:linear is now deprecated in favor of reg:squarederror.\n",
      "[12:14:06] WARNING: /workspace/src/objective/regression_obj.cu:152: reg:linear is now deprecated in favor of reg:squarederror.\n",
      "[12:14:07] WARNING: /workspace/src/objective/regression_obj.cu:152: reg:linear is now deprecated in favor of reg:squarederror.\n",
      "[12:14:08] WARNING: /workspace/src/objective/regression_obj.cu:152: reg:linear is now deprecated in favor of reg:squarederror.\n",
      "[12:14:08] WARNING: /workspace/src/objective/regression_obj.cu:152: reg:linear is now deprecated in favor of reg:squarederror.\n",
      "[12:14:09] WARNING: /workspace/src/objective/regression_obj.cu:152: reg:linear is now deprecated in favor of reg:squarederror.\n",
      "[12:14:10] WARNING: /workspace/src/objective/regression_obj.cu:152: reg:linear is now deprecated in favor of reg:squarederror.\n",
      "[12:14:11] WARNING: /workspace/src/objective/regression_obj.cu:152: reg:linear is now deprecated in favor of reg:squarederror.\n",
      "[12:14:12] WARNING: /workspace/src/objective/regression_obj.cu:152: reg:linear is now deprecated in favor of reg:squarederror.\n",
      "[12:14:13] WARNING: /workspace/src/objective/regression_obj.cu:152: reg:linear is now deprecated in favor of reg:squarederror.\n",
      "[12:14:13] WARNING: /workspace/src/objective/regression_obj.cu:152: reg:linear is now deprecated in favor of reg:squarederror.\n",
      "[12:14:14] WARNING: /workspace/src/objective/regression_obj.cu:152: reg:linear is now deprecated in favor of reg:squarederror.\n",
      "[12:14:16] WARNING: /workspace/src/objective/regression_obj.cu:152: reg:linear is now deprecated in favor of reg:squarederror.\n",
      "[12:14:16] WARNING: /workspace/src/objective/regression_obj.cu:152: reg:linear is now deprecated in favor of reg:squarederror.\n",
      "[12:14:16] WARNING: /workspace/src/objective/regression_obj.cu:152: reg:linear is now deprecated in favor of reg:squarederror.\n",
      "[12:14:17] WARNING: /workspace/src/objective/regression_obj.cu:152: reg:linear is now deprecated in favor of reg:squarederror.\n",
      "[12:14:17] WARNING: /workspace/src/objective/regression_obj.cu:152: reg:linear is now deprecated in favor of reg:squarederror.\n",
      "[12:14:17] WARNING: /workspace/src/objective/regression_obj.cu:152: reg:linear is now deprecated in favor of reg:squarederror.\n",
      "[12:14:18] WARNING: /workspace/src/objective/regression_obj.cu:152: reg:linear is now deprecated in favor of reg:squarederror.\n",
      "[12:14:18] WARNING: /workspace/src/objective/regression_obj.cu:152: reg:linear is now deprecated in favor of reg:squarederror.\n",
      "[12:14:18] WARNING: /workspace/src/objective/regression_obj.cu:152: reg:linear is now deprecated in favor of reg:squarederror.\n",
      "[12:14:18] WARNING: /workspace/src/objective/regression_obj.cu:152: reg:linear is now deprecated in favor of reg:squarederror.\n",
      "[12:14:18] WARNING: /workspace/src/objective/regression_obj.cu:152: reg:linear is now deprecated in favor of reg:squarederror.\n",
      "[12:14:19] WARNING: /workspace/src/objective/regression_obj.cu:152: reg:linear is now deprecated in favor of reg:squarederror.\n",
      "[12:14:19] WARNING: /workspace/src/objective/regression_obj.cu:152: reg:linear is now deprecated in favor of reg:squarederror.\n",
      "[12:14:19] WARNING: /workspace/src/objective/regression_obj.cu:152: reg:linear is now deprecated in favor of reg:squarederror.\n",
      "[12:14:20] WARNING: /workspace/src/objective/regression_obj.cu:152: reg:linear is now deprecated in favor of reg:squarederror.\n",
      "[12:14:20] WARNING: /workspace/src/objective/regression_obj.cu:152: reg:linear is now deprecated in favor of reg:squarederror.\n",
      "[12:14:20] WARNING: /workspace/src/objective/regression_obj.cu:152: reg:linear is now deprecated in favor of reg:squarederror.\n",
      "[12:14:21] WARNING: /workspace/src/objective/regression_obj.cu:152: reg:linear is now deprecated in favor of reg:squarederror.\n",
      "[12:14:21] WARNING: /workspace/src/objective/regression_obj.cu:152: reg:linear is now deprecated in favor of reg:squarederror.\n",
      "[12:14:22] WARNING: /workspace/src/objective/regression_obj.cu:152: reg:linear is now deprecated in favor of reg:squarederror.\n",
      "[12:14:22] WARNING: /workspace/src/objective/regression_obj.cu:152: reg:linear is now deprecated in favor of reg:squarederror.\n",
      "[12:14:23] WARNING: /workspace/src/objective/regression_obj.cu:152: reg:linear is now deprecated in favor of reg:squarederror.\n",
      "[12:14:24] WARNING: /workspace/src/objective/regression_obj.cu:152: reg:linear is now deprecated in favor of reg:squarederror.\n",
      "[12:14:24] WARNING: /workspace/src/objective/regression_obj.cu:152: reg:linear is now deprecated in favor of reg:squarederror.\n",
      "[12:14:25] WARNING: /workspace/src/objective/regression_obj.cu:152: reg:linear is now deprecated in favor of reg:squarederror.\n",
      "[12:14:26] WARNING: /workspace/src/objective/regression_obj.cu:152: reg:linear is now deprecated in favor of reg:squarederror.\n",
      "[12:14:27] WARNING: /workspace/src/objective/regression_obj.cu:152: reg:linear is now deprecated in favor of reg:squarederror.\n",
      "[12:14:28] WARNING: /workspace/src/objective/regression_obj.cu:152: reg:linear is now deprecated in favor of reg:squarederror.\n",
      "[12:14:29] WARNING: /workspace/src/objective/regression_obj.cu:152: reg:linear is now deprecated in favor of reg:squarederror.\n",
      "[12:14:30] WARNING: /workspace/src/objective/regression_obj.cu:152: reg:linear is now deprecated in favor of reg:squarederror.\n",
      "[12:14:31] WARNING: /workspace/src/objective/regression_obj.cu:152: reg:linear is now deprecated in favor of reg:squarederror.\n",
      "[12:14:31] WARNING: /workspace/src/objective/regression_obj.cu:152: reg:linear is now deprecated in favor of reg:squarederror.\n",
      "[12:14:31] WARNING: /workspace/src/objective/regression_obj.cu:152: reg:linear is now deprecated in favor of reg:squarederror.\n",
      "[12:14:32] WARNING: /workspace/src/objective/regression_obj.cu:152: reg:linear is now deprecated in favor of reg:squarederror.\n",
      "[12:14:32] WARNING: /workspace/src/objective/regression_obj.cu:152: reg:linear is now deprecated in favor of reg:squarederror.\n"
     ]
    },
    {
     "name": "stdout",
     "output_type": "stream",
     "text": [
      "[12:14:32] WARNING: /workspace/src/objective/regression_obj.cu:152: reg:linear is now deprecated in favor of reg:squarederror.\n",
      "[12:14:33] WARNING: /workspace/src/objective/regression_obj.cu:152: reg:linear is now deprecated in favor of reg:squarederror.\n",
      "[12:14:33] WARNING: /workspace/src/objective/regression_obj.cu:152: reg:linear is now deprecated in favor of reg:squarederror.\n",
      "[12:14:33] WARNING: /workspace/src/objective/regression_obj.cu:152: reg:linear is now deprecated in favor of reg:squarederror.\n",
      "[12:14:33] WARNING: /workspace/src/objective/regression_obj.cu:152: reg:linear is now deprecated in favor of reg:squarederror.\n",
      "[12:14:34] WARNING: /workspace/src/objective/regression_obj.cu:152: reg:linear is now deprecated in favor of reg:squarederror.\n",
      "[12:14:34] WARNING: /workspace/src/objective/regression_obj.cu:152: reg:linear is now deprecated in favor of reg:squarederror.\n",
      "[12:14:34] WARNING: /workspace/src/objective/regression_obj.cu:152: reg:linear is now deprecated in favor of reg:squarederror.\n",
      "[12:14:34] WARNING: /workspace/src/objective/regression_obj.cu:152: reg:linear is now deprecated in favor of reg:squarederror.\n",
      "[12:14:35] WARNING: /workspace/src/objective/regression_obj.cu:152: reg:linear is now deprecated in favor of reg:squarederror.\n",
      "[12:14:35] WARNING: /workspace/src/objective/regression_obj.cu:152: reg:linear is now deprecated in favor of reg:squarederror.\n",
      "[12:14:35] WARNING: /workspace/src/objective/regression_obj.cu:152: reg:linear is now deprecated in favor of reg:squarederror.\n",
      "[12:14:36] WARNING: /workspace/src/objective/regression_obj.cu:152: reg:linear is now deprecated in favor of reg:squarederror.\n",
      "[12:14:36] WARNING: /workspace/src/objective/regression_obj.cu:152: reg:linear is now deprecated in favor of reg:squarederror.\n",
      "[12:14:37] WARNING: /workspace/src/objective/regression_obj.cu:152: reg:linear is now deprecated in favor of reg:squarederror.\n",
      "[12:14:37] WARNING: /workspace/src/objective/regression_obj.cu:152: reg:linear is now deprecated in favor of reg:squarederror.\n",
      "[12:14:38] WARNING: /workspace/src/objective/regression_obj.cu:152: reg:linear is now deprecated in favor of reg:squarederror.\n",
      "[12:14:39] WARNING: /workspace/src/objective/regression_obj.cu:152: reg:linear is now deprecated in favor of reg:squarederror.\n",
      "[12:14:40] WARNING: /workspace/src/objective/regression_obj.cu:152: reg:linear is now deprecated in favor of reg:squarederror.\n",
      "[12:14:40] WARNING: /workspace/src/objective/regression_obj.cu:152: reg:linear is now deprecated in favor of reg:squarederror.\n",
      "[12:14:41] WARNING: /workspace/src/objective/regression_obj.cu:152: reg:linear is now deprecated in favor of reg:squarederror.\n",
      "[12:14:42] WARNING: /workspace/src/objective/regression_obj.cu:152: reg:linear is now deprecated in favor of reg:squarederror.\n",
      "[12:14:43] WARNING: /workspace/src/objective/regression_obj.cu:152: reg:linear is now deprecated in favor of reg:squarederror.\n",
      "[12:14:44] WARNING: /workspace/src/objective/regression_obj.cu:152: reg:linear is now deprecated in favor of reg:squarederror.\n",
      "[12:14:45] WARNING: /workspace/src/objective/regression_obj.cu:152: reg:linear is now deprecated in favor of reg:squarederror.\n",
      "[12:14:46] WARNING: /workspace/src/objective/regression_obj.cu:152: reg:linear is now deprecated in favor of reg:squarederror.\n",
      "[12:14:46] WARNING: /workspace/src/objective/regression_obj.cu:152: reg:linear is now deprecated in favor of reg:squarederror.\n",
      "[12:14:47] WARNING: /workspace/src/objective/regression_obj.cu:152: reg:linear is now deprecated in favor of reg:squarederror.\n",
      "[12:14:47] WARNING: /workspace/src/objective/regression_obj.cu:152: reg:linear is now deprecated in favor of reg:squarederror.\n",
      "[12:14:47] WARNING: /workspace/src/objective/regression_obj.cu:152: reg:linear is now deprecated in favor of reg:squarederror.\n",
      "[12:14:48] WARNING: /workspace/src/objective/regression_obj.cu:152: reg:linear is now deprecated in favor of reg:squarederror.\n",
      "[12:14:48] WARNING: /workspace/src/objective/regression_obj.cu:152: reg:linear is now deprecated in favor of reg:squarederror.\n",
      "[12:14:48] WARNING: /workspace/src/objective/regression_obj.cu:152: reg:linear is now deprecated in favor of reg:squarederror.\n",
      "[12:14:48] WARNING: /workspace/src/objective/regression_obj.cu:152: reg:linear is now deprecated in favor of reg:squarederror.\n",
      "[12:14:48] WARNING: /workspace/src/objective/regression_obj.cu:152: reg:linear is now deprecated in favor of reg:squarederror.\n",
      "[12:14:49] WARNING: /workspace/src/objective/regression_obj.cu:152: reg:linear is now deprecated in favor of reg:squarederror.\n",
      "[12:14:49] WARNING: /workspace/src/objective/regression_obj.cu:152: reg:linear is now deprecated in favor of reg:squarederror.\n",
      "[12:14:49] WARNING: /workspace/src/objective/regression_obj.cu:152: reg:linear is now deprecated in favor of reg:squarederror.\n",
      "[12:14:50] WARNING: /workspace/src/objective/regression_obj.cu:152: reg:linear is now deprecated in favor of reg:squarederror.\n",
      "[12:14:50] WARNING: /workspace/src/objective/regression_obj.cu:152: reg:linear is now deprecated in favor of reg:squarederror.\n",
      "[12:14:50] WARNING: /workspace/src/objective/regression_obj.cu:152: reg:linear is now deprecated in favor of reg:squarederror.\n",
      "[12:14:51] WARNING: /workspace/src/objective/regression_obj.cu:152: reg:linear is now deprecated in favor of reg:squarederror.\n",
      "[12:14:51] WARNING: /workspace/src/objective/regression_obj.cu:152: reg:linear is now deprecated in favor of reg:squarederror.\n",
      "[12:14:51] WARNING: /workspace/src/objective/regression_obj.cu:152: reg:linear is now deprecated in favor of reg:squarederror.\n",
      "[12:14:52] WARNING: /workspace/src/objective/regression_obj.cu:152: reg:linear is now deprecated in favor of reg:squarederror.\n",
      "[12:14:52] WARNING: /workspace/src/objective/regression_obj.cu:152: reg:linear is now deprecated in favor of reg:squarederror.\n",
      "[12:14:53] WARNING: /workspace/src/objective/regression_obj.cu:152: reg:linear is now deprecated in favor of reg:squarederror.\n",
      "[12:14:54] WARNING: /workspace/src/objective/regression_obj.cu:152: reg:linear is now deprecated in favor of reg:squarederror.\n",
      "[12:14:55] WARNING: /workspace/src/objective/regression_obj.cu:152: reg:linear is now deprecated in favor of reg:squarederror.\n",
      "[12:14:55] WARNING: /workspace/src/objective/regression_obj.cu:152: reg:linear is now deprecated in favor of reg:squarederror.\n",
      "[12:14:56] WARNING: /workspace/src/objective/regression_obj.cu:152: reg:linear is now deprecated in favor of reg:squarederror.\n",
      "[12:14:57] WARNING: /workspace/src/objective/regression_obj.cu:152: reg:linear is now deprecated in favor of reg:squarederror.\n",
      "[12:14:58] WARNING: /workspace/src/objective/regression_obj.cu:152: reg:linear is now deprecated in favor of reg:squarederror.\n",
      "[12:14:59] WARNING: /workspace/src/objective/regression_obj.cu:152: reg:linear is now deprecated in favor of reg:squarederror.\n",
      "[12:15:00] WARNING: /workspace/src/objective/regression_obj.cu:152: reg:linear is now deprecated in favor of reg:squarederror.\n",
      "[12:15:01] WARNING: /workspace/src/objective/regression_obj.cu:152: reg:linear is now deprecated in favor of reg:squarederror.\n",
      "[12:15:01] WARNING: /workspace/src/objective/regression_obj.cu:152: reg:linear is now deprecated in favor of reg:squarederror.\n",
      "[12:15:02] WARNING: /workspace/src/objective/regression_obj.cu:152: reg:linear is now deprecated in favor of reg:squarederror.\n",
      "[12:15:02] WARNING: /workspace/src/objective/regression_obj.cu:152: reg:linear is now deprecated in favor of reg:squarederror.\n",
      "[12:15:02] WARNING: /workspace/src/objective/regression_obj.cu:152: reg:linear is now deprecated in favor of reg:squarederror.\n",
      "[12:15:03] WARNING: /workspace/src/objective/regression_obj.cu:152: reg:linear is now deprecated in favor of reg:squarederror.\n",
      "[12:15:03] WARNING: /workspace/src/objective/regression_obj.cu:152: reg:linear is now deprecated in favor of reg:squarederror.\n",
      "[12:15:03] WARNING: /workspace/src/objective/regression_obj.cu:152: reg:linear is now deprecated in favor of reg:squarederror.\n",
      "[12:15:03] WARNING: /workspace/src/objective/regression_obj.cu:152: reg:linear is now deprecated in favor of reg:squarederror.\n",
      "[12:15:04] WARNING: /workspace/src/objective/regression_obj.cu:152: reg:linear is now deprecated in favor of reg:squarederror.\n"
     ]
    },
    {
     "name": "stdout",
     "output_type": "stream",
     "text": [
      "[12:15:04] WARNING: /workspace/src/objective/regression_obj.cu:152: reg:linear is now deprecated in favor of reg:squarederror.\n",
      "[12:15:04] WARNING: /workspace/src/objective/regression_obj.cu:152: reg:linear is now deprecated in favor of reg:squarederror.\n",
      "[12:15:04] WARNING: /workspace/src/objective/regression_obj.cu:152: reg:linear is now deprecated in favor of reg:squarederror.\n",
      "[12:15:05] WARNING: /workspace/src/objective/regression_obj.cu:152: reg:linear is now deprecated in favor of reg:squarederror.\n",
      "[12:15:05] WARNING: /workspace/src/objective/regression_obj.cu:152: reg:linear is now deprecated in favor of reg:squarederror.\n",
      "[12:15:05] WARNING: /workspace/src/objective/regression_obj.cu:152: reg:linear is now deprecated in favor of reg:squarederror.\n",
      "[12:15:06] WARNING: /workspace/src/objective/regression_obj.cu:152: reg:linear is now deprecated in favor of reg:squarederror.\n",
      "[12:15:06] WARNING: /workspace/src/objective/regression_obj.cu:152: reg:linear is now deprecated in favor of reg:squarederror.\n",
      "[12:15:07] WARNING: /workspace/src/objective/regression_obj.cu:152: reg:linear is now deprecated in favor of reg:squarederror.\n",
      "[12:15:07] WARNING: /workspace/src/objective/regression_obj.cu:152: reg:linear is now deprecated in favor of reg:squarederror.\n",
      "[12:15:07] WARNING: /workspace/src/objective/regression_obj.cu:152: reg:linear is now deprecated in favor of reg:squarederror.\n",
      "[12:15:08] WARNING: /workspace/src/objective/regression_obj.cu:152: reg:linear is now deprecated in favor of reg:squarederror.\n",
      "[12:15:09] WARNING: /workspace/src/objective/regression_obj.cu:152: reg:linear is now deprecated in favor of reg:squarederror.\n",
      "[12:15:10] WARNING: /workspace/src/objective/regression_obj.cu:152: reg:linear is now deprecated in favor of reg:squarederror.\n",
      "[12:15:10] WARNING: /workspace/src/objective/regression_obj.cu:152: reg:linear is now deprecated in favor of reg:squarederror.\n",
      "[12:15:11] WARNING: /workspace/src/objective/regression_obj.cu:152: reg:linear is now deprecated in favor of reg:squarederror.\n",
      "[12:15:12] WARNING: /workspace/src/objective/regression_obj.cu:152: reg:linear is now deprecated in favor of reg:squarederror.\n",
      "[12:15:13] WARNING: /workspace/src/objective/regression_obj.cu:152: reg:linear is now deprecated in favor of reg:squarederror.\n",
      "[12:15:14] WARNING: /workspace/src/objective/regression_obj.cu:152: reg:linear is now deprecated in favor of reg:squarederror.\n",
      "[12:15:15] WARNING: /workspace/src/objective/regression_obj.cu:152: reg:linear is now deprecated in favor of reg:squarederror.\n",
      "[12:15:16] WARNING: /workspace/src/objective/regression_obj.cu:152: reg:linear is now deprecated in favor of reg:squarederror.\n",
      "[12:15:17] WARNING: /workspace/src/objective/regression_obj.cu:152: reg:linear is now deprecated in favor of reg:squarederror.\n",
      "[12:15:17] WARNING: /workspace/src/objective/regression_obj.cu:152: reg:linear is now deprecated in favor of reg:squarederror.\n",
      "[12:15:17] WARNING: /workspace/src/objective/regression_obj.cu:152: reg:linear is now deprecated in favor of reg:squarederror.\n",
      "[12:15:18] WARNING: /workspace/src/objective/regression_obj.cu:152: reg:linear is now deprecated in favor of reg:squarederror.\n",
      "[12:15:18] WARNING: /workspace/src/objective/regression_obj.cu:152: reg:linear is now deprecated in favor of reg:squarederror.\n",
      "[12:15:18] WARNING: /workspace/src/objective/regression_obj.cu:152: reg:linear is now deprecated in favor of reg:squarederror.\n",
      "[12:15:18] WARNING: /workspace/src/objective/regression_obj.cu:152: reg:linear is now deprecated in favor of reg:squarederror.\n",
      "[12:15:19] WARNING: /workspace/src/objective/regression_obj.cu:152: reg:linear is now deprecated in favor of reg:squarederror.\n",
      "[12:15:19] WARNING: /workspace/src/objective/regression_obj.cu:152: reg:linear is now deprecated in favor of reg:squarederror.\n",
      "[12:15:19] WARNING: /workspace/src/objective/regression_obj.cu:152: reg:linear is now deprecated in favor of reg:squarederror.\n",
      "[12:15:19] WARNING: /workspace/src/objective/regression_obj.cu:152: reg:linear is now deprecated in favor of reg:squarederror.\n",
      "[12:15:20] WARNING: /workspace/src/objective/regression_obj.cu:152: reg:linear is now deprecated in favor of reg:squarederror.\n",
      "[12:15:20] WARNING: /workspace/src/objective/regression_obj.cu:152: reg:linear is now deprecated in favor of reg:squarederror.\n",
      "[12:15:20] WARNING: /workspace/src/objective/regression_obj.cu:152: reg:linear is now deprecated in favor of reg:squarederror.\n",
      "[12:15:20] WARNING: /workspace/src/objective/regression_obj.cu:152: reg:linear is now deprecated in favor of reg:squarederror.\n",
      "[12:15:21] WARNING: /workspace/src/objective/regression_obj.cu:152: reg:linear is now deprecated in favor of reg:squarederror.\n",
      "[12:15:21] WARNING: /workspace/src/objective/regression_obj.cu:152: reg:linear is now deprecated in favor of reg:squarederror.\n",
      "[12:15:22] WARNING: /workspace/src/objective/regression_obj.cu:152: reg:linear is now deprecated in favor of reg:squarederror.\n",
      "[12:15:22] WARNING: /workspace/src/objective/regression_obj.cu:152: reg:linear is now deprecated in favor of reg:squarederror.\n",
      "[12:15:23] WARNING: /workspace/src/objective/regression_obj.cu:152: reg:linear is now deprecated in favor of reg:squarederror.\n",
      "[12:15:23] WARNING: /workspace/src/objective/regression_obj.cu:152: reg:linear is now deprecated in favor of reg:squarederror.\n",
      "[12:15:24] WARNING: /workspace/src/objective/regression_obj.cu:152: reg:linear is now deprecated in favor of reg:squarederror.\n",
      "[12:15:25] WARNING: /workspace/src/objective/regression_obj.cu:152: reg:linear is now deprecated in favor of reg:squarederror.\n",
      "[12:15:26] WARNING: /workspace/src/objective/regression_obj.cu:152: reg:linear is now deprecated in favor of reg:squarederror.\n",
      "[12:15:26] WARNING: /workspace/src/objective/regression_obj.cu:152: reg:linear is now deprecated in favor of reg:squarederror.\n",
      "[12:15:27] WARNING: /workspace/src/objective/regression_obj.cu:152: reg:linear is now deprecated in favor of reg:squarederror.\n",
      "[12:15:28] WARNING: /workspace/src/objective/regression_obj.cu:152: reg:linear is now deprecated in favor of reg:squarederror.\n",
      "[12:15:29] WARNING: /workspace/src/objective/regression_obj.cu:152: reg:linear is now deprecated in favor of reg:squarederror.\n",
      "[12:15:30] WARNING: /workspace/src/objective/regression_obj.cu:152: reg:linear is now deprecated in favor of reg:squarederror.\n",
      "[12:15:31] WARNING: /workspace/src/objective/regression_obj.cu:152: reg:linear is now deprecated in favor of reg:squarederror.\n",
      "[12:15:32] WARNING: /workspace/src/objective/regression_obj.cu:152: reg:linear is now deprecated in favor of reg:squarederror.\n",
      "[12:15:32] WARNING: /workspace/src/objective/regression_obj.cu:152: reg:linear is now deprecated in favor of reg:squarederror.\n",
      "[12:15:32] WARNING: /workspace/src/objective/regression_obj.cu:152: reg:linear is now deprecated in favor of reg:squarederror.\n",
      "[12:15:33] WARNING: /workspace/src/objective/regression_obj.cu:152: reg:linear is now deprecated in favor of reg:squarederror.\n",
      "[12:15:33] WARNING: /workspace/src/objective/regression_obj.cu:152: reg:linear is now deprecated in favor of reg:squarederror.\n",
      "[12:15:33] WARNING: /workspace/src/objective/regression_obj.cu:152: reg:linear is now deprecated in favor of reg:squarederror.\n",
      "[12:15:34] WARNING: /workspace/src/objective/regression_obj.cu:152: reg:linear is now deprecated in favor of reg:squarederror.\n",
      "[12:15:34] WARNING: /workspace/src/objective/regression_obj.cu:152: reg:linear is now deprecated in favor of reg:squarederror.\n",
      "[12:15:34] WARNING: /workspace/src/objective/regression_obj.cu:152: reg:linear is now deprecated in favor of reg:squarederror.\n",
      "[12:15:34] WARNING: /workspace/src/objective/regression_obj.cu:152: reg:linear is now deprecated in favor of reg:squarederror.\n",
      "[12:15:35] WARNING: /workspace/src/objective/regression_obj.cu:152: reg:linear is now deprecated in favor of reg:squarederror.\n",
      "[12:15:35] WARNING: /workspace/src/objective/regression_obj.cu:152: reg:linear is now deprecated in favor of reg:squarederror.\n",
      "[12:15:35] WARNING: /workspace/src/objective/regression_obj.cu:152: reg:linear is now deprecated in favor of reg:squarederror.\n",
      "[12:15:35] WARNING: /workspace/src/objective/regression_obj.cu:152: reg:linear is now deprecated in favor of reg:squarederror.\n"
     ]
    },
    {
     "name": "stdout",
     "output_type": "stream",
     "text": [
      "[12:15:36] WARNING: /workspace/src/objective/regression_obj.cu:152: reg:linear is now deprecated in favor of reg:squarederror.\n",
      "[12:15:36] WARNING: /workspace/src/objective/regression_obj.cu:152: reg:linear is now deprecated in favor of reg:squarederror.\n",
      "[12:15:37] WARNING: /workspace/src/objective/regression_obj.cu:152: reg:linear is now deprecated in favor of reg:squarederror.\n",
      "[12:15:37] WARNING: /workspace/src/objective/regression_obj.cu:152: reg:linear is now deprecated in favor of reg:squarederror.\n",
      "[12:15:37] WARNING: /workspace/src/objective/regression_obj.cu:152: reg:linear is now deprecated in favor of reg:squarederror.\n",
      "[12:15:38] WARNING: /workspace/src/objective/regression_obj.cu:152: reg:linear is now deprecated in favor of reg:squarederror.\n",
      "[12:15:39] WARNING: /workspace/src/objective/regression_obj.cu:152: reg:linear is now deprecated in favor of reg:squarederror.\n",
      "[12:15:39] WARNING: /workspace/src/objective/regression_obj.cu:152: reg:linear is now deprecated in favor of reg:squarederror.\n",
      "[12:15:40] WARNING: /workspace/src/objective/regression_obj.cu:152: reg:linear is now deprecated in favor of reg:squarederror.\n",
      "[12:15:41] WARNING: /workspace/src/objective/regression_obj.cu:152: reg:linear is now deprecated in favor of reg:squarederror.\n",
      "[12:15:42] WARNING: /workspace/src/objective/regression_obj.cu:152: reg:linear is now deprecated in favor of reg:squarederror.\n",
      "[12:15:43] WARNING: /workspace/src/objective/regression_obj.cu:152: reg:linear is now deprecated in favor of reg:squarederror.\n",
      "[12:15:44] WARNING: /workspace/src/objective/regression_obj.cu:152: reg:linear is now deprecated in favor of reg:squarederror.\n",
      "[12:15:45] WARNING: /workspace/src/objective/regression_obj.cu:152: reg:linear is now deprecated in favor of reg:squarederror.\n",
      "[12:15:46] WARNING: /workspace/src/objective/regression_obj.cu:152: reg:linear is now deprecated in favor of reg:squarederror.\n",
      "[12:15:47] WARNING: /workspace/src/objective/regression_obj.cu:152: reg:linear is now deprecated in favor of reg:squarederror.\n",
      "[12:15:47] WARNING: /workspace/src/objective/regression_obj.cu:152: reg:linear is now deprecated in favor of reg:squarederror.\n",
      "[12:15:47] WARNING: /workspace/src/objective/regression_obj.cu:152: reg:linear is now deprecated in favor of reg:squarederror.\n",
      "[12:15:48] WARNING: /workspace/src/objective/regression_obj.cu:152: reg:linear is now deprecated in favor of reg:squarederror.\n",
      "[12:15:48] WARNING: /workspace/src/objective/regression_obj.cu:152: reg:linear is now deprecated in favor of reg:squarederror.\n",
      "[12:15:48] WARNING: /workspace/src/objective/regression_obj.cu:152: reg:linear is now deprecated in favor of reg:squarederror.\n",
      "[12:15:49] WARNING: /workspace/src/objective/regression_obj.cu:152: reg:linear is now deprecated in favor of reg:squarederror.\n",
      "[12:15:49] WARNING: /workspace/src/objective/regression_obj.cu:152: reg:linear is now deprecated in favor of reg:squarederror.\n",
      "[12:15:49] WARNING: /workspace/src/objective/regression_obj.cu:152: reg:linear is now deprecated in favor of reg:squarederror.\n",
      "[12:15:49] WARNING: /workspace/src/objective/regression_obj.cu:152: reg:linear is now deprecated in favor of reg:squarederror.\n",
      "[12:15:50] WARNING: /workspace/src/objective/regression_obj.cu:152: reg:linear is now deprecated in favor of reg:squarederror.\n",
      "[12:15:50] WARNING: /workspace/src/objective/regression_obj.cu:152: reg:linear is now deprecated in favor of reg:squarederror.\n",
      "[12:15:50] WARNING: /workspace/src/objective/regression_obj.cu:152: reg:linear is now deprecated in favor of reg:squarederror.\n",
      "[12:15:50] WARNING: /workspace/src/objective/regression_obj.cu:152: reg:linear is now deprecated in favor of reg:squarederror.\n",
      "[12:15:51] WARNING: /workspace/src/objective/regression_obj.cu:152: reg:linear is now deprecated in favor of reg:squarederror.\n",
      "[12:15:51] WARNING: /workspace/src/objective/regression_obj.cu:152: reg:linear is now deprecated in favor of reg:squarederror.\n",
      "[12:15:51] WARNING: /workspace/src/objective/regression_obj.cu:152: reg:linear is now deprecated in favor of reg:squarederror.\n",
      "[12:15:52] WARNING: /workspace/src/objective/regression_obj.cu:152: reg:linear is now deprecated in favor of reg:squarederror.\n",
      "[12:15:52] WARNING: /workspace/src/objective/regression_obj.cu:152: reg:linear is now deprecated in favor of reg:squarederror.\n",
      "[12:15:53] WARNING: /workspace/src/objective/regression_obj.cu:152: reg:linear is now deprecated in favor of reg:squarederror.\n",
      "[12:15:53] WARNING: /workspace/src/objective/regression_obj.cu:152: reg:linear is now deprecated in favor of reg:squarederror.\n",
      "[12:15:54] WARNING: /workspace/src/objective/regression_obj.cu:152: reg:linear is now deprecated in favor of reg:squarederror.\n",
      "[12:15:55] WARNING: /workspace/src/objective/regression_obj.cu:152: reg:linear is now deprecated in favor of reg:squarederror.\n",
      "[12:15:56] WARNING: /workspace/src/objective/regression_obj.cu:152: reg:linear is now deprecated in favor of reg:squarederror.\n",
      "[12:15:56] WARNING: /workspace/src/objective/regression_obj.cu:152: reg:linear is now deprecated in favor of reg:squarederror.\n",
      "[12:15:57] WARNING: /workspace/src/objective/regression_obj.cu:152: reg:linear is now deprecated in favor of reg:squarederror.\n",
      "[12:15:58] WARNING: /workspace/src/objective/regression_obj.cu:152: reg:linear is now deprecated in favor of reg:squarederror.\n",
      "[12:15:59] WARNING: /workspace/src/objective/regression_obj.cu:152: reg:linear is now deprecated in favor of reg:squarederror.\n",
      "[12:16:00] WARNING: /workspace/src/objective/regression_obj.cu:152: reg:linear is now deprecated in favor of reg:squarederror.\n",
      "[12:16:01] WARNING: /workspace/src/objective/regression_obj.cu:152: reg:linear is now deprecated in favor of reg:squarederror.\n",
      "[12:16:02] WARNING: /workspace/src/objective/regression_obj.cu:152: reg:linear is now deprecated in favor of reg:squarederror.\n",
      "[12:16:03] WARNING: /workspace/src/objective/regression_obj.cu:152: reg:linear is now deprecated in favor of reg:squarederror.\n",
      "[12:16:03] WARNING: /workspace/src/objective/regression_obj.cu:152: reg:linear is now deprecated in favor of reg:squarederror.\n",
      "[12:16:03] WARNING: /workspace/src/objective/regression_obj.cu:152: reg:linear is now deprecated in favor of reg:squarederror.\n",
      "[12:16:04] WARNING: /workspace/src/objective/regression_obj.cu:152: reg:linear is now deprecated in favor of reg:squarederror.\n",
      "[12:16:04] WARNING: /workspace/src/objective/regression_obj.cu:152: reg:linear is now deprecated in favor of reg:squarederror.\n",
      "[12:16:04] WARNING: /workspace/src/objective/regression_obj.cu:152: reg:linear is now deprecated in favor of reg:squarederror.\n",
      "[12:16:04] WARNING: /workspace/src/objective/regression_obj.cu:152: reg:linear is now deprecated in favor of reg:squarederror.\n",
      "[12:16:05] WARNING: /workspace/src/objective/regression_obj.cu:152: reg:linear is now deprecated in favor of reg:squarederror.\n",
      "[12:16:05] WARNING: /workspace/src/objective/regression_obj.cu:152: reg:linear is now deprecated in favor of reg:squarederror.\n",
      "[12:16:05] WARNING: /workspace/src/objective/regression_obj.cu:152: reg:linear is now deprecated in favor of reg:squarederror.\n",
      "[12:16:05] WARNING: /workspace/src/objective/regression_obj.cu:152: reg:linear is now deprecated in favor of reg:squarederror.\n",
      "[12:16:06] WARNING: /workspace/src/objective/regression_obj.cu:152: reg:linear is now deprecated in favor of reg:squarederror.\n",
      "[12:16:06] WARNING: /workspace/src/objective/regression_obj.cu:152: reg:linear is now deprecated in favor of reg:squarederror.\n",
      "[12:16:06] WARNING: /workspace/src/objective/regression_obj.cu:152: reg:linear is now deprecated in favor of reg:squarederror.\n",
      "[12:16:06] WARNING: /workspace/src/objective/regression_obj.cu:152: reg:linear is now deprecated in favor of reg:squarederror.\n",
      "[12:16:07] WARNING: /workspace/src/objective/regression_obj.cu:152: reg:linear is now deprecated in favor of reg:squarederror.\n",
      "[12:16:07] WARNING: /workspace/src/objective/regression_obj.cu:152: reg:linear is now deprecated in favor of reg:squarederror.\n",
      "[12:16:08] WARNING: /workspace/src/objective/regression_obj.cu:152: reg:linear is now deprecated in favor of reg:squarederror.\n",
      "[12:16:08] WARNING: /workspace/src/objective/regression_obj.cu:152: reg:linear is now deprecated in favor of reg:squarederror.\n"
     ]
    },
    {
     "name": "stdout",
     "output_type": "stream",
     "text": [
      "[12:16:09] WARNING: /workspace/src/objective/regression_obj.cu:152: reg:linear is now deprecated in favor of reg:squarederror.\n",
      "[12:16:09] WARNING: /workspace/src/objective/regression_obj.cu:152: reg:linear is now deprecated in favor of reg:squarederror.\n",
      "[12:16:10] WARNING: /workspace/src/objective/regression_obj.cu:152: reg:linear is now deprecated in favor of reg:squarederror.\n",
      "[12:16:11] WARNING: /workspace/src/objective/regression_obj.cu:152: reg:linear is now deprecated in favor of reg:squarederror.\n",
      "[12:16:12] WARNING: /workspace/src/objective/regression_obj.cu:152: reg:linear is now deprecated in favor of reg:squarederror.\n",
      "[12:16:12] WARNING: /workspace/src/objective/regression_obj.cu:152: reg:linear is now deprecated in favor of reg:squarederror.\n",
      "[12:16:13] WARNING: /workspace/src/objective/regression_obj.cu:152: reg:linear is now deprecated in favor of reg:squarederror.\n",
      "[12:16:14] WARNING: /workspace/src/objective/regression_obj.cu:152: reg:linear is now deprecated in favor of reg:squarederror.\n",
      "[12:16:15] WARNING: /workspace/src/objective/regression_obj.cu:152: reg:linear is now deprecated in favor of reg:squarederror.\n",
      "[12:16:17] WARNING: /workspace/src/objective/regression_obj.cu:152: reg:linear is now deprecated in favor of reg:squarederror.\n",
      "[12:16:18] WARNING: /workspace/src/objective/regression_obj.cu:152: reg:linear is now deprecated in favor of reg:squarederror.\n",
      "[12:16:18] WARNING: /workspace/src/objective/regression_obj.cu:152: reg:linear is now deprecated in favor of reg:squarederror.\n",
      "[12:16:18] WARNING: /workspace/src/objective/regression_obj.cu:152: reg:linear is now deprecated in favor of reg:squarederror.\n",
      "[12:16:19] WARNING: /workspace/src/objective/regression_obj.cu:152: reg:linear is now deprecated in favor of reg:squarederror.\n",
      "[12:16:19] WARNING: /workspace/src/objective/regression_obj.cu:152: reg:linear is now deprecated in favor of reg:squarederror.\n",
      "[12:16:19] WARNING: /workspace/src/objective/regression_obj.cu:152: reg:linear is now deprecated in favor of reg:squarederror.\n",
      "[12:16:19] WARNING: /workspace/src/objective/regression_obj.cu:152: reg:linear is now deprecated in favor of reg:squarederror.\n",
      "[12:16:20] WARNING: /workspace/src/objective/regression_obj.cu:152: reg:linear is now deprecated in favor of reg:squarederror.\n",
      "[12:16:20] WARNING: /workspace/src/objective/regression_obj.cu:152: reg:linear is now deprecated in favor of reg:squarederror.\n",
      "[12:16:20] WARNING: /workspace/src/objective/regression_obj.cu:152: reg:linear is now deprecated in favor of reg:squarederror.\n",
      "[12:16:20] WARNING: /workspace/src/objective/regression_obj.cu:152: reg:linear is now deprecated in favor of reg:squarederror.\n",
      "[12:16:21] WARNING: /workspace/src/objective/regression_obj.cu:152: reg:linear is now deprecated in favor of reg:squarederror.\n",
      "[12:16:21] WARNING: /workspace/src/objective/regression_obj.cu:152: reg:linear is now deprecated in favor of reg:squarederror.\n",
      "[12:16:21] WARNING: /workspace/src/objective/regression_obj.cu:152: reg:linear is now deprecated in favor of reg:squarederror.\n",
      "[12:16:21] WARNING: /workspace/src/objective/regression_obj.cu:152: reg:linear is now deprecated in favor of reg:squarederror.\n",
      "[12:16:22] WARNING: /workspace/src/objective/regression_obj.cu:152: reg:linear is now deprecated in favor of reg:squarederror.\n",
      "[12:16:22] WARNING: /workspace/src/objective/regression_obj.cu:152: reg:linear is now deprecated in favor of reg:squarederror.\n",
      "[12:16:23] WARNING: /workspace/src/objective/regression_obj.cu:152: reg:linear is now deprecated in favor of reg:squarederror.\n",
      "[12:16:23] WARNING: /workspace/src/objective/regression_obj.cu:152: reg:linear is now deprecated in favor of reg:squarederror.\n",
      "[12:16:23] WARNING: /workspace/src/objective/regression_obj.cu:152: reg:linear is now deprecated in favor of reg:squarederror.\n",
      "[12:16:24] WARNING: /workspace/src/objective/regression_obj.cu:152: reg:linear is now deprecated in favor of reg:squarederror.\n",
      "[12:16:25] WARNING: /workspace/src/objective/regression_obj.cu:152: reg:linear is now deprecated in favor of reg:squarederror.\n",
      "[12:16:25] WARNING: /workspace/src/objective/regression_obj.cu:152: reg:linear is now deprecated in favor of reg:squarederror.\n",
      "[12:16:26] WARNING: /workspace/src/objective/regression_obj.cu:152: reg:linear is now deprecated in favor of reg:squarederror.\n",
      "[12:16:27] WARNING: /workspace/src/objective/regression_obj.cu:152: reg:linear is now deprecated in favor of reg:squarederror.\n",
      "[12:16:28] WARNING: /workspace/src/objective/regression_obj.cu:152: reg:linear is now deprecated in favor of reg:squarederror.\n",
      "[12:16:29] WARNING: /workspace/src/objective/regression_obj.cu:152: reg:linear is now deprecated in favor of reg:squarederror.\n",
      "[12:16:30] WARNING: /workspace/src/objective/regression_obj.cu:152: reg:linear is now deprecated in favor of reg:squarederror.\n",
      "[12:16:31] WARNING: /workspace/src/objective/regression_obj.cu:152: reg:linear is now deprecated in favor of reg:squarederror.\n",
      "[12:16:32] WARNING: /workspace/src/objective/regression_obj.cu:152: reg:linear is now deprecated in favor of reg:squarederror.\n",
      "[12:16:33] WARNING: /workspace/src/objective/regression_obj.cu:152: reg:linear is now deprecated in favor of reg:squarederror.\n",
      "[12:16:33] WARNING: /workspace/src/objective/regression_obj.cu:152: reg:linear is now deprecated in favor of reg:squarederror.\n",
      "[12:16:33] WARNING: /workspace/src/objective/regression_obj.cu:152: reg:linear is now deprecated in favor of reg:squarederror.\n",
      "[12:16:34] WARNING: /workspace/src/objective/regression_obj.cu:152: reg:linear is now deprecated in favor of reg:squarederror.\n",
      "[12:16:34] WARNING: /workspace/src/objective/regression_obj.cu:152: reg:linear is now deprecated in favor of reg:squarederror.\n",
      "[12:16:34] WARNING: /workspace/src/objective/regression_obj.cu:152: reg:linear is now deprecated in favor of reg:squarederror.\n",
      "[12:16:34] WARNING: /workspace/src/objective/regression_obj.cu:152: reg:linear is now deprecated in favor of reg:squarederror.\n",
      "[12:16:35] WARNING: /workspace/src/objective/regression_obj.cu:152: reg:linear is now deprecated in favor of reg:squarederror.\n",
      "[12:16:35] WARNING: /workspace/src/objective/regression_obj.cu:152: reg:linear is now deprecated in favor of reg:squarederror.\n",
      "[12:16:35] WARNING: /workspace/src/objective/regression_obj.cu:152: reg:linear is now deprecated in favor of reg:squarederror.\n",
      "[12:16:35] WARNING: /workspace/src/objective/regression_obj.cu:152: reg:linear is now deprecated in favor of reg:squarederror.\n",
      "[12:16:36] WARNING: /workspace/src/objective/regression_obj.cu:152: reg:linear is now deprecated in favor of reg:squarederror.\n",
      "[12:16:36] WARNING: /workspace/src/objective/regression_obj.cu:152: reg:linear is now deprecated in favor of reg:squarederror.\n",
      "[12:16:36] WARNING: /workspace/src/objective/regression_obj.cu:152: reg:linear is now deprecated in favor of reg:squarederror.\n",
      "[12:16:37] WARNING: /workspace/src/objective/regression_obj.cu:152: reg:linear is now deprecated in favor of reg:squarederror.\n",
      "[12:16:37] WARNING: /workspace/src/objective/regression_obj.cu:152: reg:linear is now deprecated in favor of reg:squarederror.\n",
      "[12:16:37] WARNING: /workspace/src/objective/regression_obj.cu:152: reg:linear is now deprecated in favor of reg:squarederror.\n",
      "[12:16:38] WARNING: /workspace/src/objective/regression_obj.cu:152: reg:linear is now deprecated in favor of reg:squarederror.\n",
      "[12:16:38] WARNING: /workspace/src/objective/regression_obj.cu:152: reg:linear is now deprecated in favor of reg:squarederror.\n",
      "[12:16:39] WARNING: /workspace/src/objective/regression_obj.cu:152: reg:linear is now deprecated in favor of reg:squarederror.\n",
      "[12:16:39] WARNING: /workspace/src/objective/regression_obj.cu:152: reg:linear is now deprecated in favor of reg:squarederror.\n",
      "[12:16:40] WARNING: /workspace/src/objective/regression_obj.cu:152: reg:linear is now deprecated in favor of reg:squarederror.\n",
      "[12:16:41] WARNING: /workspace/src/objective/regression_obj.cu:152: reg:linear is now deprecated in favor of reg:squarederror.\n",
      "[12:16:41] WARNING: /workspace/src/objective/regression_obj.cu:152: reg:linear is now deprecated in favor of reg:squarederror.\n",
      "[12:16:42] WARNING: /workspace/src/objective/regression_obj.cu:152: reg:linear is now deprecated in favor of reg:squarederror.\n"
     ]
    },
    {
     "name": "stdout",
     "output_type": "stream",
     "text": [
      "[12:16:43] WARNING: /workspace/src/objective/regression_obj.cu:152: reg:linear is now deprecated in favor of reg:squarederror.\n",
      "[12:16:44] WARNING: /workspace/src/objective/regression_obj.cu:152: reg:linear is now deprecated in favor of reg:squarederror.\n",
      "[12:16:45] WARNING: /workspace/src/objective/regression_obj.cu:152: reg:linear is now deprecated in favor of reg:squarederror.\n",
      "[12:16:46] WARNING: /workspace/src/objective/regression_obj.cu:152: reg:linear is now deprecated in favor of reg:squarederror.\n",
      "[12:16:47] WARNING: /workspace/src/objective/regression_obj.cu:152: reg:linear is now deprecated in favor of reg:squarederror.\n",
      "[12:16:48] WARNING: /workspace/src/objective/regression_obj.cu:152: reg:linear is now deprecated in favor of reg:squarederror.\n",
      "[12:16:48] WARNING: /workspace/src/objective/regression_obj.cu:152: reg:linear is now deprecated in favor of reg:squarederror.\n",
      "[12:16:48] WARNING: /workspace/src/objective/regression_obj.cu:152: reg:linear is now deprecated in favor of reg:squarederror.\n",
      "[12:16:49] WARNING: /workspace/src/objective/regression_obj.cu:152: reg:linear is now deprecated in favor of reg:squarederror.\n",
      "[12:16:49] WARNING: /workspace/src/objective/regression_obj.cu:152: reg:linear is now deprecated in favor of reg:squarederror.\n",
      "[12:16:49] WARNING: /workspace/src/objective/regression_obj.cu:152: reg:linear is now deprecated in favor of reg:squarederror.\n",
      "[12:16:49] WARNING: /workspace/src/objective/regression_obj.cu:152: reg:linear is now deprecated in favor of reg:squarederror.\n",
      "[12:16:50] WARNING: /workspace/src/objective/regression_obj.cu:152: reg:linear is now deprecated in favor of reg:squarederror.\n",
      "[12:16:50] WARNING: /workspace/src/objective/regression_obj.cu:152: reg:linear is now deprecated in favor of reg:squarederror.\n",
      "[12:16:50] WARNING: /workspace/src/objective/regression_obj.cu:152: reg:linear is now deprecated in favor of reg:squarederror.\n",
      "[12:16:50] WARNING: /workspace/src/objective/regression_obj.cu:152: reg:linear is now deprecated in favor of reg:squarederror.\n",
      "[12:16:51] WARNING: /workspace/src/objective/regression_obj.cu:152: reg:linear is now deprecated in favor of reg:squarederror.\n",
      "[12:16:51] WARNING: /workspace/src/objective/regression_obj.cu:152: reg:linear is now deprecated in favor of reg:squarederror.\n",
      "[12:16:51] WARNING: /workspace/src/objective/regression_obj.cu:152: reg:linear is now deprecated in favor of reg:squarederror.\n",
      "[12:16:52] WARNING: /workspace/src/objective/regression_obj.cu:152: reg:linear is now deprecated in favor of reg:squarederror.\n",
      "[12:16:52] WARNING: /workspace/src/objective/regression_obj.cu:152: reg:linear is now deprecated in favor of reg:squarederror.\n",
      "XGBRegressor(base_score=0.5, booster='gbtree', colsample_bylevel=1,\n",
      "             colsample_bynode=1, colsample_bytree=1, gamma=0,\n",
      "             importance_type='gain', learning_rate=0.15, max_delta_step=0,\n",
      "             max_depth=3, min_child_weight=1, missing=None, n_estimators=200,\n",
      "             n_jobs=1, nthread=None, objective='reg:linear', random_state=0,\n",
      "             reg_alpha=0, reg_lambda=1, scale_pos_weight=1, seed=None,\n",
      "             silent=None, subsample=1, verbosity=1)\n",
      "-29.910911309140744\n"
     ]
    }
   ],
   "source": [
    "#Creating a gradient boosting descent model with best hyperparameters.\n",
    "warnings.simplefilter(action='ignore', category=FutureWarning)\n",
    "\n",
    "parameters = {'learning_rate': (0.15,0.1,0.2,0.3,0.25,0.05),\n",
    "              'n_estimators': (200,350,450,150,100,120),\n",
    "              'base_score': (0.25, 0.5, 0.75)\n",
    "              } \n",
    "\n",
    "#Creating a grid model.\n",
    "XGB_grid = GridSearchCV(XGBRegressor(), param_grid=parameters, cv=5, scoring=rmse, n_jobs=-1) \n",
    "XGB_grid_model = XGB_grid.fit(features_train, target_train)\n",
    "print(XGB_grid_model.best_estimator_)\n",
    "print(XGB_grid_model.best_score_)"
   ]
  },
  {
   "cell_type": "code",
   "execution_count": 31,
   "metadata": {},
   "outputs": [
    {
     "name": "stdout",
     "output_type": "stream",
     "text": [
      "LGBMRegressor(boosting_type='gbdt', class_weight=None, colsample_bytree=1.0,\n",
      "              importance_type='split', learning_rate=0.05, max_depth=-1,\n",
      "              min_child_samples=20, min_child_weight=0.001, min_split_gain=0.0,\n",
      "              n_estimators=100, n_jobs=-1, num_leaves=31, objective=None,\n",
      "              random_state=None, reg_alpha=0.0, reg_lambda=0.0, silent=True,\n",
      "              subsample=1.0, subsample_for_bin=200000, subsample_freq=0)\n",
      "-29.786096937835783\n"
     ]
    }
   ],
   "source": [
    "#Creating a gradient boosting descent model tuning best hyperparameters.\n",
    "parameters = {'learning_rate': (0.05,0.04,0.03,0.02,0.06,0.07,0.08),\n",
    "              'n_estimators': (200,350,450,150,100,120),\n",
    "              } \n",
    "\n",
    "#Creating a grid model.\n",
    "LGBM_grid = GridSearchCV(LGBMRegressor(), param_grid=parameters, cv=5, scoring=rmse, n_jobs=1) \n",
    "LGBM_grid_model = LGBM_grid.fit(features_train, target_train)\n",
    "print(LGBM_grid_model.best_estimator_)\n",
    "print(LGBM_grid_model.best_score_)"
   ]
  },
  {
   "cell_type": "markdown",
   "metadata": {},
   "source": [
    "# Brief summarize. Point 5.\n",
    "Divided train and test assigning 0.1 to the test size, shuffle = False to don't shuffle my data.\n",
    "- Train index from 2018-03-01 00:00:00 to 2018-08-13 13:00:00\n",
    "- Test index from 2018-08-13 14:00:00 to 2018-08-31 23:00:00. \n",
    "\n",
    "After calculating MAE using median and previous prediction method I obtained:\n",
    "- Median method returned MAE: 35.30909090909091\n",
    "- Previous value method returned MAE: 55.00681818181818\n",
    "\n",
    "Created the features of the dataset extracting day, month and year from the indexes, assigning 5 level of lag. 10 was the choosen value to calculate again rolling_mean and standard deviation from the final shifted values. Recreated the train and test set with the same parameters after adding the new features column. \n",
    "\n",
    "With a base LinearRegression calculated the MAE and RMSE metric obtaining:\n",
    "- MAE for the training set: 24.173474569055283\n",
    "- MAE for the test set:  35.41226128147456\n",
    "- Model RMSE for the training set: 44.53687388892847\n",
    "- Model RMSE for the test set: 44.53687388892847\n",
    "\n",
    "Created Pipelines for the CV on the main models. After CV on training set. I got the following results:\n",
    "\n",
    "- DecisionTreeRegressor [-38.97958583 -39.62103434 -41.97053707 -44.13114972 -49.13692926]\n",
    "- RandomForestRegressor [-25.94152271 -26.93912217 -29.34069737 -31.03343304 -36.51038323]\n",
    "- LinearRegression [-26.2654808  -27.61762746 -30.61843304 -31.55622917 -37.43094503]\n",
    "- CatBoostRegressor [-25.80803627 -26.44933561 -28.54436251 -30.42140031 -35.81517806]\n",
    "- LGBMRegressor [-26.21709043 -26.86630834 -29.41202436 -31.30527236 -36.44937238]\n",
    "- XGBRegressor [-25.99597946 -27.12286351 -29.17918781 -30.8672145  -36.71103585]\n",
    "\n",
    "Proceeded with the tuning of hyperparameters for RandomForestRegressor(model) and XGBRegressor (gradient descent algorithim)."
   ]
  },
  {
   "cell_type": "markdown",
   "metadata": {},
   "source": [
    "## Testing"
   ]
  },
  {
   "cell_type": "code",
   "execution_count": 32,
   "metadata": {},
   "outputs": [
    {
     "name": "stdout",
     "output_type": "stream",
     "text": [
      "Model RMSE for the test set: 44.53687388892846\n"
     ]
    }
   ],
   "source": [
    "model = Pipeline([('scaler0', StandardScaler()),\n",
    "                       ('LinearRegression(Dummy)', LinearRegression())])\n",
    "model.fit(features_train, target_train)\n",
    "predictions_test = model.predict(features_test)\n",
    "print('Model RMSE for the test set:', mean_squared_error(predictions_test, target_test)**0.5)"
   ]
  },
  {
   "cell_type": "code",
   "execution_count": 40,
   "metadata": {},
   "outputs": [
    {
     "name": "stdout",
     "output_type": "stream",
     "text": [
      "Model RMSE for the test set: 43.46853315440498\n"
     ]
    }
   ],
   "source": [
    "model = Pipeline([('scaler1', StandardScaler()),\n",
    "                ('RandomForestRegressor', RandomForestRegressor(bootstrap=True, criterion='mse', max_depth=12,\n",
    "                      max_features='auto', max_leaf_nodes=None,\n",
    "                      min_impurity_decrease=0.0, min_impurity_split=None,\n",
    "                      min_samples_leaf=1, min_samples_split=2,\n",
    "                      min_weight_fraction_leaf=0.0, n_estimators=300,\n",
    "                      n_jobs=None, oob_score=False, random_state=0, verbose=0,\n",
    "                      warm_start=False))])\n",
    "model.fit(features_train, target_train)\n",
    "predictions_test = model.predict(features_test)\n",
    "print('Model RMSE for the test set:', mean_squared_error(predictions_test, target_test)**0.5)"
   ]
  },
  {
   "cell_type": "code",
   "execution_count": 43,
   "metadata": {},
   "outputs": [
    {
     "name": "stdout",
     "output_type": "stream",
     "text": [
      "[12:32:06] WARNING: /workspace/src/objective/regression_obj.cu:152: reg:linear is now deprecated in favor of reg:squarederror.\n",
      "Model RMSE for the test set: 44.20948080238403\n"
     ]
    }
   ],
   "source": [
    "warnings.simplefilter(action='ignore', category=FutureWarning)\n",
    "\n",
    "model = Pipeline([('scaler2', StandardScaler()),\n",
    "        ('XGBRegressor', XGBRegressor(base_score=0.5, booster='gbtree', colsample_bylevel=1,\n",
    "             colsample_bynode=1, colsample_bytree=1, gamma=0,\n",
    "             importance_type='gain', learning_rate=0.15, max_delta_step=0,\n",
    "             max_depth=3, min_child_weight=1, missing=None, n_estimators=200,\n",
    "             n_jobs=1, nthread=None, objective='reg:linear', random_state=0,\n",
    "             reg_alpha=0, reg_lambda=1, scale_pos_weight=1, seed=None,\n",
    "             silent=None, subsample=1, verbosity=1))])\n",
    "model.fit(features_train, target_train)\n",
    "predictions_test = model.predict(features_test)\n",
    "print('Model RMSE for the test set:', mean_squared_error(predictions_test, target_test)**0.5)"
   ]
  },
  {
   "cell_type": "code",
   "execution_count": 36,
   "metadata": {},
   "outputs": [
    {
     "name": "stdout",
     "output_type": "stream",
     "text": [
      "Model RMSE for the test set: 43.51361398763156\n"
     ]
    }
   ],
   "source": [
    "model = Pipeline([('scaler3', StandardScaler()),\n",
    "        ('LGBMRegressor', LGBMRegressor(boosting_type='gbdt', class_weight=None, colsample_bytree=1.0,\n",
    "              importance_type='split', learning_rate=0.05, max_depth=-1,\n",
    "              min_child_samples=20, min_child_weight=0.001, min_split_gain=0.0,\n",
    "              n_estimators=100, n_jobs=-1, num_leaves=31, objective=None,\n",
    "              random_state=None, reg_alpha=0.0, reg_lambda=0.0, silent=True,\n",
    "              subsample=1.0, subsample_for_bin=200000, subsample_freq=0))])\n",
    "model.fit(features_train, target_train)\n",
    "predictions_test = model.predict(features_test)\n",
    "print('Model RMSE for the test set:', mean_squared_error(predictions_test, target_test)**0.5)"
   ]
  },
  {
   "cell_type": "markdown",
   "metadata": {},
   "source": [
    "# Brief summarize. Point 6.\n",
    "Created pipelines for the defined models, creted pipelines with scaler and instances of models and calculated RMSE on the testing set. The choosen models were: \n",
    "\n",
    "- LinearRegression RMSE: 44.53687388892846\n",
    "- RandomForestRegressor RMSE: 43.46853315440498\n",
    "- XGBRegressor RMSE: 44.20948080238403\n",
    "- LGBMRegressor RMSE: 43.51361398763156\n",
    "\n",
    "\n",
    "XGBRegressor looks to be the best algorithim to deal with this task. Obtained 44.80 compared to the max value to succeed in the project wich was 48."
   ]
  },
  {
   "cell_type": "markdown",
   "metadata": {},
   "source": [
    "# Overall Conclusion\n",
    "Sweet Lift Taxi company needed to build model to predict the amount of taxi orders for the next hour. Requirement for the model was that the RMSE metric on the test set should not be more than 48. After preparing and analyzing my data I passed to the model training and testing phases. I tried couple of different models. They performed the task pretty in similar ways, obtaining better results then the stated one. The better one was The RandomForestRegressor built with 29.733 as training set RMSE and 43.468 as testing set RMSE. "
   ]
  },
  {
   "cell_type": "markdown",
   "metadata": {},
   "source": [
    "# Review checklist"
   ]
  },
  {
   "cell_type": "markdown",
   "metadata": {},
   "source": [
    "- [x]  Jupyter Notebook is open\n",
    "- [x]  The code is error-free\n",
    "- [x]  The cells with the code have been arranged in order of execution\n",
    "- [x]  The data has been downloaded and prepared\n",
    "- [x]  The data has been analyzed\n",
    "- [x]  The model has been trained and hyperparameters have been selected\n",
    "- [x]  The models have been evaluated. Conclusion has been provided\n",
    "- [x] *RMSE* for the test set is not more than 48"
   ]
  }
 ],
 "metadata": {
  "ExecuteTimeLog": [
   {
    "duration": 378,
    "start_time": "2021-06-21T10:34:52.521Z"
   },
   {
    "duration": 924,
    "start_time": "2021-06-21T10:35:07.015Z"
   },
   {
    "duration": 56,
    "start_time": "2021-06-21T10:35:32.340Z"
   },
   {
    "duration": 358,
    "start_time": "2021-06-21T10:36:29.889Z"
   },
   {
    "duration": 21,
    "start_time": "2021-06-21T10:36:42.056Z"
   },
   {
    "duration": 53,
    "start_time": "2021-06-21T10:36:51.985Z"
   },
   {
    "duration": 18,
    "start_time": "2021-06-21T10:36:53.609Z"
   },
   {
    "duration": 592,
    "start_time": "2021-06-21T10:37:35.481Z"
   },
   {
    "duration": 566,
    "start_time": "2021-06-21T10:38:35.683Z"
   },
   {
    "duration": 655,
    "start_time": "2021-06-21T10:41:06.693Z"
   },
   {
    "duration": 602,
    "start_time": "2021-06-21T10:41:09.032Z"
   },
   {
    "duration": 597,
    "start_time": "2021-06-21T10:41:38.072Z"
   },
   {
    "duration": 26,
    "start_time": "2021-06-21T10:42:06.135Z"
   },
   {
    "duration": 526,
    "start_time": "2021-06-21T10:42:11.992Z"
   },
   {
    "duration": 510,
    "start_time": "2021-06-21T10:42:23.570Z"
   },
   {
    "duration": 24,
    "start_time": "2021-06-21T10:43:07.018Z"
   },
   {
    "duration": 508,
    "start_time": "2021-06-21T10:43:08.049Z"
   },
   {
    "duration": 27,
    "start_time": "2021-06-21T10:43:13.777Z"
   },
   {
    "duration": 488,
    "start_time": "2021-06-21T10:43:15.312Z"
   },
   {
    "duration": 30,
    "start_time": "2021-06-21T10:43:22.385Z"
   },
   {
    "duration": 619,
    "start_time": "2021-06-21T10:43:23.537Z"
   },
   {
    "duration": 529,
    "start_time": "2021-06-21T10:45:25.997Z"
   },
   {
    "duration": 528,
    "start_time": "2021-06-21T10:45:36.797Z"
   },
   {
    "duration": 548,
    "start_time": "2021-06-21T10:45:41.949Z"
   },
   {
    "duration": 577,
    "start_time": "2021-06-21T10:45:48.477Z"
   },
   {
    "duration": 521,
    "start_time": "2021-06-21T10:45:56.781Z"
   },
   {
    "duration": 633,
    "start_time": "2021-06-21T10:46:04.037Z"
   },
   {
    "duration": 548,
    "start_time": "2021-06-21T10:46:46.791Z"
   },
   {
    "duration": 583,
    "start_time": "2021-06-21T10:47:40.375Z"
   },
   {
    "duration": 570,
    "start_time": "2021-06-21T10:47:49.745Z"
   },
   {
    "duration": 86,
    "start_time": "2021-06-21T10:49:03.746Z"
   },
   {
    "duration": 24,
    "start_time": "2021-06-21T10:49:07.242Z"
   },
   {
    "duration": 651,
    "start_time": "2021-06-21T10:49:11.425Z"
   },
   {
    "duration": 365,
    "start_time": "2021-06-21T10:49:57.897Z"
   },
   {
    "duration": 9,
    "start_time": "2021-06-21T10:50:28.378Z"
   },
   {
    "duration": 35,
    "start_time": "2021-06-21T10:50:41.171Z"
   },
   {
    "duration": 11,
    "start_time": "2021-06-21T10:50:43.547Z"
   },
   {
    "duration": 35,
    "start_time": "2021-06-21T10:51:06.661Z"
   },
   {
    "duration": 10,
    "start_time": "2021-06-21T10:51:09.695Z"
   },
   {
    "duration": 9,
    "start_time": "2021-06-21T10:53:13.439Z"
   },
   {
    "duration": 728,
    "start_time": "2021-06-21T10:53:20.966Z"
   },
   {
    "duration": 2496,
    "start_time": "2021-06-21T10:53:23.784Z"
   },
   {
    "duration": 1603,
    "start_time": "2021-06-21T10:54:01.344Z"
   },
   {
    "duration": 2083,
    "start_time": "2021-06-21T10:54:12.952Z"
   },
   {
    "duration": 2089,
    "start_time": "2021-06-21T10:54:45.705Z"
   },
   {
    "duration": 2125,
    "start_time": "2021-06-21T10:55:11.637Z"
   },
   {
    "duration": 4747,
    "start_time": "2021-06-21T10:56:24.738Z"
   },
   {
    "duration": 599,
    "start_time": "2021-06-21T10:59:11.054Z"
   },
   {
    "duration": 334,
    "start_time": "2021-06-21T10:59:26.197Z"
   },
   {
    "duration": 35,
    "start_time": "2021-06-21T10:59:47.055Z"
   },
   {
    "duration": 23,
    "start_time": "2021-06-21T11:00:13.318Z"
   },
   {
    "duration": 9,
    "start_time": "2021-06-21T11:00:23.505Z"
   },
   {
    "duration": 601,
    "start_time": "2021-06-21T11:00:28.266Z"
   },
   {
    "duration": 723,
    "start_time": "2021-06-21T11:00:49.642Z"
   },
   {
    "duration": 2095,
    "start_time": "2021-06-21T11:00:56.161Z"
   },
   {
    "duration": 1931,
    "start_time": "2021-06-21T11:01:35.826Z"
   },
   {
    "duration": 8548,
    "start_time": "2021-06-21T11:01:52.242Z"
   },
   {
    "duration": 343,
    "start_time": "2021-06-21T11:02:20.388Z"
   },
   {
    "duration": 1790,
    "start_time": "2021-06-21T11:02:29.419Z"
   },
   {
    "duration": 10,
    "start_time": "2021-06-21T11:04:18.598Z"
   },
   {
    "duration": 692,
    "start_time": "2021-06-21T11:04:25.064Z"
   },
   {
    "duration": 671,
    "start_time": "2021-06-21T11:04:49.159Z"
   },
   {
    "duration": 871,
    "start_time": "2021-06-21T11:05:26.544Z"
   },
   {
    "duration": 594,
    "start_time": "2021-06-21T11:11:00.207Z"
   },
   {
    "duration": 11144,
    "start_time": "2021-06-21T11:18:58.110Z"
   },
   {
    "duration": 9,
    "start_time": "2021-06-21T11:19:51.489Z"
   },
   {
    "duration": 7,
    "start_time": "2021-06-21T11:20:05.745Z"
   },
   {
    "duration": 368,
    "start_time": "2021-06-21T11:20:29.739Z"
   },
   {
    "duration": 72,
    "start_time": "2021-06-21T11:20:55.029Z"
   },
   {
    "duration": 23,
    "start_time": "2021-06-21T11:20:56.443Z"
   },
   {
    "duration": 30,
    "start_time": "2021-06-21T11:20:56.979Z"
   },
   {
    "duration": 12,
    "start_time": "2021-06-21T11:20:57.299Z"
   },
   {
    "duration": 560,
    "start_time": "2021-06-21T11:20:57.907Z"
   },
   {
    "duration": 613,
    "start_time": "2021-06-21T11:20:58.636Z"
   },
   {
    "duration": 1733,
    "start_time": "2021-06-21T11:20:59.532Z"
   },
   {
    "duration": 715,
    "start_time": "2021-06-21T11:21:01.269Z"
   },
   {
    "duration": 335,
    "start_time": "2021-06-21T11:21:02.718Z"
   },
   {
    "duration": 14,
    "start_time": "2021-06-21T11:21:27.534Z"
   },
   {
    "duration": 25,
    "start_time": "2021-06-21T11:21:56.495Z"
   },
   {
    "duration": 629,
    "start_time": "2021-06-21T11:23:01.592Z"
   },
   {
    "duration": 11,
    "start_time": "2021-06-21T11:24:10.328Z"
   },
   {
    "duration": 315,
    "start_time": "2021-06-21T11:24:55.433Z"
   },
   {
    "duration": 319,
    "start_time": "2021-06-21T11:27:11.939Z"
   },
   {
    "duration": 115,
    "start_time": "2021-06-21T11:27:31.205Z"
   },
   {
    "duration": 302,
    "start_time": "2021-06-21T11:27:36.700Z"
   },
   {
    "duration": 337,
    "start_time": "2021-06-21T11:27:44.621Z"
   },
   {
    "duration": 300,
    "start_time": "2021-06-21T11:27:58.661Z"
   },
   {
    "duration": 321,
    "start_time": "2021-06-21T11:28:11.149Z"
   },
   {
    "duration": 698,
    "start_time": "2021-06-21T11:28:17.357Z"
   },
   {
    "duration": 592,
    "start_time": "2021-06-21T11:28:33.694Z"
   },
   {
    "duration": 534,
    "start_time": "2021-06-21T11:28:42.968Z"
   },
   {
    "duration": 12,
    "start_time": "2021-06-21T11:28:51.398Z"
   },
   {
    "duration": 510,
    "start_time": "2021-06-21T11:28:56.270Z"
   },
   {
    "duration": 324,
    "start_time": "2021-06-21T11:29:02.936Z"
   },
   {
    "duration": 32,
    "start_time": "2021-06-21T11:30:21.874Z"
   },
   {
    "duration": 47,
    "start_time": "2021-06-21T11:30:34.649Z"
   },
   {
    "duration": 17,
    "start_time": "2021-06-21T11:31:58.025Z"
   },
   {
    "duration": 19,
    "start_time": "2021-06-21T11:32:13.196Z"
   },
   {
    "duration": 521,
    "start_time": "2021-06-21T11:32:13.738Z"
   },
   {
    "duration": 23,
    "start_time": "2021-06-21T11:32:14.627Z"
   },
   {
    "duration": 45,
    "start_time": "2021-06-21T11:32:15.354Z"
   },
   {
    "duration": 326,
    "start_time": "2021-06-21T11:33:29.868Z"
   },
   {
    "duration": 1819,
    "start_time": "2021-06-21T12:15:18.235Z"
   },
   {
    "duration": 22,
    "start_time": "2021-06-21T12:15:21.187Z"
   },
   {
    "duration": 23,
    "start_time": "2021-06-21T12:15:21.442Z"
   },
   {
    "duration": 9,
    "start_time": "2021-06-21T12:15:21.603Z"
   },
   {
    "duration": 547,
    "start_time": "2021-06-21T12:15:22.080Z"
   },
   {
    "duration": 595,
    "start_time": "2021-06-21T12:15:22.630Z"
   },
   {
    "duration": 1835,
    "start_time": "2021-06-21T12:15:23.227Z"
   },
   {
    "duration": 23,
    "start_time": "2021-06-21T12:15:25.066Z"
   },
   {
    "duration": 522,
    "start_time": "2021-06-21T12:15:25.091Z"
   },
   {
    "duration": 26,
    "start_time": "2021-06-21T12:15:25.616Z"
   },
   {
    "duration": 69,
    "start_time": "2021-06-21T12:15:25.645Z"
   },
   {
    "duration": 447,
    "start_time": "2021-06-21T12:15:25.717Z"
   },
   {
    "duration": 26,
    "start_time": "2021-06-21T12:16:32.302Z"
   },
   {
    "duration": 8,
    "start_time": "2021-06-21T12:16:48.956Z"
   },
   {
    "duration": 336,
    "start_time": "2021-06-21T12:19:44.441Z"
   },
   {
    "duration": 62,
    "start_time": "2021-06-21T12:19:52.351Z"
   },
   {
    "duration": 19,
    "start_time": "2021-06-21T12:19:52.743Z"
   },
   {
    "duration": 25,
    "start_time": "2021-06-21T12:19:52.897Z"
   },
   {
    "duration": 11,
    "start_time": "2021-06-21T12:19:53.480Z"
   },
   {
    "duration": 608,
    "start_time": "2021-06-21T12:19:53.692Z"
   },
   {
    "duration": 578,
    "start_time": "2021-06-21T12:19:54.303Z"
   },
   {
    "duration": 2005,
    "start_time": "2021-06-21T12:19:54.887Z"
   },
   {
    "duration": 12,
    "start_time": "2021-06-21T12:19:56.895Z"
   },
   {
    "duration": 549,
    "start_time": "2021-06-21T12:19:56.910Z"
   },
   {
    "duration": 34,
    "start_time": "2021-06-21T12:19:57.462Z"
   },
   {
    "duration": 89,
    "start_time": "2021-06-21T12:19:57.500Z"
   },
   {
    "duration": 25,
    "start_time": "2021-06-21T12:19:57.594Z"
   },
   {
    "duration": 13,
    "start_time": "2021-06-21T12:19:57.687Z"
   },
   {
    "duration": 335,
    "start_time": "2021-06-21T12:24:06.407Z"
   },
   {
    "duration": 381,
    "start_time": "2021-06-21T12:24:06.364Z"
   },
   {
    "duration": 60,
    "start_time": "2021-06-21T12:24:29.303Z"
   },
   {
    "duration": 1645,
    "start_time": "2021-06-21T12:24:39.099Z"
   },
   {
    "duration": 24,
    "start_time": "2021-06-21T12:24:40.747Z"
   },
   {
    "duration": 84,
    "start_time": "2021-06-21T12:24:40.774Z"
   },
   {
    "duration": 18,
    "start_time": "2021-06-21T12:24:40.861Z"
   },
   {
    "duration": 626,
    "start_time": "2021-06-21T12:24:41.588Z"
   },
   {
    "duration": 624,
    "start_time": "2021-06-21T12:24:42.218Z"
   },
   {
    "duration": 1867,
    "start_time": "2021-06-21T12:24:42.845Z"
   },
   {
    "duration": 14,
    "start_time": "2021-06-21T12:24:44.715Z"
   },
   {
    "duration": 741,
    "start_time": "2021-06-21T12:24:44.734Z"
   },
   {
    "duration": 35,
    "start_time": "2021-06-21T12:24:45.478Z"
   },
   {
    "duration": 45,
    "start_time": "2021-06-21T12:24:47.230Z"
   },
   {
    "duration": 108,
    "start_time": "2021-06-21T12:24:47.277Z"
   },
   {
    "duration": 101,
    "start_time": "2021-06-21T12:24:47.391Z"
   },
   {
    "duration": 1639,
    "start_time": "2021-06-21T12:24:47.496Z"
   },
   {
    "duration": 387,
    "start_time": "2021-06-21T12:24:48.750Z"
   },
   {
    "duration": 384,
    "start_time": "2021-06-21T12:24:48.755Z"
   },
   {
    "duration": 381,
    "start_time": "2021-06-21T12:24:48.759Z"
   },
   {
    "duration": 1765,
    "start_time": "2021-06-21T12:25:39.098Z"
   },
   {
    "duration": 28,
    "start_time": "2021-06-21T12:25:41.817Z"
   },
   {
    "duration": 28,
    "start_time": "2021-06-21T12:25:42.065Z"
   },
   {
    "duration": 11,
    "start_time": "2021-06-21T12:25:42.273Z"
   },
   {
    "duration": 562,
    "start_time": "2021-06-21T12:25:42.602Z"
   },
   {
    "duration": 594,
    "start_time": "2021-06-21T12:25:43.166Z"
   },
   {
    "duration": 1770,
    "start_time": "2021-06-21T12:25:43.765Z"
   },
   {
    "duration": 11,
    "start_time": "2021-06-21T12:25:45.538Z"
   },
   {
    "duration": 524,
    "start_time": "2021-06-21T12:25:45.552Z"
   },
   {
    "duration": 28,
    "start_time": "2021-06-21T12:25:46.085Z"
   },
   {
    "duration": 38,
    "start_time": "2021-06-21T12:25:46.115Z"
   },
   {
    "duration": 55,
    "start_time": "2021-06-21T12:25:46.156Z"
   },
   {
    "duration": 101,
    "start_time": "2021-06-21T12:25:46.288Z"
   },
   {
    "duration": 12,
    "start_time": "2021-06-21T12:25:46.392Z"
   },
   {
    "duration": 5,
    "start_time": "2021-06-21T12:25:46.407Z"
   },
   {
    "duration": 7,
    "start_time": "2021-06-21T12:25:46.415Z"
   },
   {
    "duration": 492,
    "start_time": "2021-06-21T12:25:46.473Z"
   },
   {
    "duration": 3123,
    "start_time": "2021-06-21T12:26:16.531Z"
   },
   {
    "duration": 21,
    "start_time": "2021-06-21T12:26:19.657Z"
   },
   {
    "duration": 30,
    "start_time": "2021-06-21T12:26:19.681Z"
   },
   {
    "duration": 9,
    "start_time": "2021-06-21T12:26:19.714Z"
   },
   {
    "duration": 612,
    "start_time": "2021-06-21T12:26:19.726Z"
   },
   {
    "duration": 587,
    "start_time": "2021-06-21T12:26:20.341Z"
   },
   {
    "duration": 1728,
    "start_time": "2021-06-21T12:26:20.931Z"
   },
   {
    "duration": 23,
    "start_time": "2021-06-21T12:26:22.663Z"
   },
   {
    "duration": 527,
    "start_time": "2021-06-21T12:26:22.689Z"
   },
   {
    "duration": 25,
    "start_time": "2021-06-21T12:26:23.219Z"
   },
   {
    "duration": 81,
    "start_time": "2021-06-21T12:26:23.247Z"
   },
   {
    "duration": 56,
    "start_time": "2021-06-21T12:26:23.331Z"
   },
   {
    "duration": 102,
    "start_time": "2021-06-21T12:26:23.391Z"
   },
   {
    "duration": 10,
    "start_time": "2021-06-21T12:26:23.497Z"
   },
   {
    "duration": 8,
    "start_time": "2021-06-21T12:26:23.510Z"
   },
   {
    "duration": 10,
    "start_time": "2021-06-21T12:26:23.521Z"
   },
   {
    "duration": 450,
    "start_time": "2021-06-21T12:26:23.534Z"
   },
   {
    "duration": 1670,
    "start_time": "2021-06-21T12:27:08.302Z"
   },
   {
    "duration": 24,
    "start_time": "2021-06-21T12:27:09.975Z"
   },
   {
    "duration": 23,
    "start_time": "2021-06-21T12:27:10.003Z"
   },
   {
    "duration": 12,
    "start_time": "2021-06-21T12:27:10.029Z"
   },
   {
    "duration": 606,
    "start_time": "2021-06-21T12:27:10.043Z"
   },
   {
    "duration": 595,
    "start_time": "2021-06-21T12:27:10.652Z"
   },
   {
    "duration": 1847,
    "start_time": "2021-06-21T12:27:11.250Z"
   },
   {
    "duration": 14,
    "start_time": "2021-06-21T12:27:13.101Z"
   },
   {
    "duration": 567,
    "start_time": "2021-06-21T12:27:13.118Z"
   },
   {
    "duration": 30,
    "start_time": "2021-06-21T12:27:13.688Z"
   },
   {
    "duration": 67,
    "start_time": "2021-06-21T12:27:13.721Z"
   },
   {
    "duration": 95,
    "start_time": "2021-06-21T12:27:13.791Z"
   },
   {
    "duration": 97,
    "start_time": "2021-06-21T12:27:13.889Z"
   },
   {
    "duration": 11,
    "start_time": "2021-06-21T12:27:13.990Z"
   },
   {
    "duration": 8,
    "start_time": "2021-06-21T12:27:14.005Z"
   },
   {
    "duration": 4,
    "start_time": "2021-06-21T12:27:14.564Z"
   },
   {
    "duration": 304773,
    "start_time": "2021-06-21T12:27:15.444Z"
   },
   {
    "duration": 222277,
    "start_time": "2021-06-21T12:35:26.919Z"
   },
   {
    "duration": 48867,
    "start_time": "2021-06-21T12:39:09.200Z"
   },
   {
    "duration": 64238,
    "start_time": "2021-06-21T12:40:23.725Z"
   },
   {
    "duration": 6,
    "start_time": "2021-06-21T12:42:48.203Z"
   },
   {
    "duration": 65802,
    "start_time": "2021-06-21T12:43:37.395Z"
   },
   {
    "duration": 3468,
    "start_time": "2021-06-21T12:44:56.501Z"
   },
   {
    "duration": 3549,
    "start_time": "2021-06-21T12:45:42.723Z"
   },
   {
    "duration": 415,
    "start_time": "2021-06-21T12:46:01.999Z"
   },
   {
    "duration": 132080,
    "start_time": "2021-06-21T12:46:12.742Z"
   },
   {
    "duration": 270,
    "start_time": "2021-06-21T12:48:24.555Z"
   },
   {
    "duration": 310,
    "start_time": "2021-06-21T12:48:25.985Z"
   },
   {
    "duration": 328,
    "start_time": "2021-06-21T12:55:58.687Z"
   },
   {
    "duration": 409,
    "start_time": "2021-06-21T12:56:05.958Z"
   },
   {
    "duration": 330,
    "start_time": "2021-06-21T12:56:30.819Z"
   },
   {
    "duration": 1822,
    "start_time": "2021-06-21T12:56:51.960Z"
   },
   {
    "duration": 29,
    "start_time": "2021-06-21T12:56:53.786Z"
   },
   {
    "duration": 26,
    "start_time": "2021-06-21T12:56:53.820Z"
   },
   {
    "duration": 43,
    "start_time": "2021-06-21T12:56:53.849Z"
   },
   {
    "duration": 622,
    "start_time": "2021-06-21T12:56:53.896Z"
   },
   {
    "duration": 634,
    "start_time": "2021-06-21T12:56:54.520Z"
   },
   {
    "duration": 1941,
    "start_time": "2021-06-21T12:56:55.157Z"
   },
   {
    "duration": 13,
    "start_time": "2021-06-21T12:56:57.104Z"
   },
   {
    "duration": 555,
    "start_time": "2021-06-21T12:56:57.120Z"
   },
   {
    "duration": 36,
    "start_time": "2021-06-21T12:56:57.678Z"
   },
   {
    "duration": 43,
    "start_time": "2021-06-21T12:56:57.717Z"
   },
   {
    "duration": 108,
    "start_time": "2021-06-21T12:56:57.788Z"
   },
   {
    "duration": 92,
    "start_time": "2021-06-21T12:56:57.903Z"
   },
   {
    "duration": 15,
    "start_time": "2021-06-21T12:56:57.998Z"
   },
   {
    "duration": 7,
    "start_time": "2021-06-21T12:56:58.018Z"
   },
   {
    "duration": 7,
    "start_time": "2021-06-21T12:56:58.028Z"
   },
   {
    "duration": 245576,
    "start_time": "2021-06-21T12:56:58.037Z"
   },
   {
    "duration": 763,
    "start_time": "2021-06-21T13:01:03.616Z"
   },
   {
    "duration": 356,
    "start_time": "2021-06-21T13:01:04.026Z"
   },
   {
    "duration": 353,
    "start_time": "2021-06-21T13:01:04.031Z"
   },
   {
    "duration": 349,
    "start_time": "2021-06-21T13:01:04.036Z"
   },
   {
    "duration": 311,
    "start_time": "2021-06-21T13:01:39.039Z"
   },
   {
    "duration": 313,
    "start_time": "2021-06-21T13:01:44.038Z"
   },
   {
    "duration": 11,
    "start_time": "2021-06-21T13:05:06.859Z"
   },
   {
    "duration": 28,
    "start_time": "2021-06-21T13:05:19.650Z"
   },
   {
    "duration": 8,
    "start_time": "2021-06-21T13:05:30.202Z"
   },
   {
    "duration": 6,
    "start_time": "2021-06-21T13:05:32.160Z"
   },
   {
    "duration": 308,
    "start_time": "2021-06-21T13:05:34.963Z"
   },
   {
    "duration": 1744,
    "start_time": "2021-06-21T13:06:02.927Z"
   },
   {
    "duration": 24,
    "start_time": "2021-06-21T13:06:06.277Z"
   },
   {
    "duration": 23,
    "start_time": "2021-06-21T13:06:06.660Z"
   },
   {
    "duration": 13,
    "start_time": "2021-06-21T13:06:07.492Z"
   },
   {
    "duration": 564,
    "start_time": "2021-06-21T13:06:08.148Z"
   },
   {
    "duration": 584,
    "start_time": "2021-06-21T13:06:08.715Z"
   },
   {
    "duration": 1822,
    "start_time": "2021-06-21T13:06:09.303Z"
   },
   {
    "duration": 10,
    "start_time": "2021-06-21T13:06:11.128Z"
   },
   {
    "duration": 521,
    "start_time": "2021-06-21T13:06:11.453Z"
   },
   {
    "duration": 22,
    "start_time": "2021-06-21T13:06:19.230Z"
   },
   {
    "duration": 52,
    "start_time": "2021-06-21T13:06:23.958Z"
   },
   {
    "duration": 119,
    "start_time": "2021-06-21T13:06:40.669Z"
   },
   {
    "duration": 9,
    "start_time": "2021-06-21T13:06:44.116Z"
   },
   {
    "duration": 8,
    "start_time": "2021-06-21T13:09:00.280Z"
   },
   {
    "duration": 4,
    "start_time": "2021-06-21T13:09:01.064Z"
   },
   {
    "duration": 3,
    "start_time": "2021-06-21T13:09:01.929Z"
   },
   {
    "duration": 444,
    "start_time": "2021-06-21T13:10:45.949Z"
   },
   {
    "duration": 17,
    "start_time": "2021-06-21T13:11:06.936Z"
   },
   {
    "duration": 304,
    "start_time": "2021-06-21T13:11:09.995Z"
   },
   {
    "duration": 1653,
    "start_time": "2021-06-21T13:11:47.597Z"
   },
   {
    "duration": 21,
    "start_time": "2021-06-21T13:11:49.252Z"
   },
   {
    "duration": 27,
    "start_time": "2021-06-21T13:11:49.276Z"
   },
   {
    "duration": 11,
    "start_time": "2021-06-21T13:11:49.306Z"
   },
   {
    "duration": 651,
    "start_time": "2021-06-21T13:11:49.319Z"
   },
   {
    "duration": 573,
    "start_time": "2021-06-21T13:11:49.973Z"
   },
   {
    "duration": 1699,
    "start_time": "2021-06-21T13:11:50.549Z"
   },
   {
    "duration": 10,
    "start_time": "2021-06-21T13:11:52.252Z"
   },
   {
    "duration": 524,
    "start_time": "2021-06-21T13:11:52.265Z"
   },
   {
    "duration": 22,
    "start_time": "2021-06-21T13:11:52.791Z"
   },
   {
    "duration": 42,
    "start_time": "2021-06-21T13:11:56.169Z"
   },
   {
    "duration": 40,
    "start_time": "2021-06-21T13:11:57.145Z"
   },
   {
    "duration": 9,
    "start_time": "2021-06-21T13:11:59.984Z"
   },
   {
    "duration": 445,
    "start_time": "2021-06-21T13:12:15.057Z"
   },
   {
    "duration": 1666,
    "start_time": "2021-06-21T13:12:35.167Z"
   },
   {
    "duration": 21,
    "start_time": "2021-06-21T13:12:38.067Z"
   },
   {
    "duration": 23,
    "start_time": "2021-06-21T13:12:38.714Z"
   },
   {
    "duration": 9,
    "start_time": "2021-06-21T13:12:39.074Z"
   },
   {
    "duration": 540,
    "start_time": "2021-06-21T13:12:40.146Z"
   },
   {
    "duration": 604,
    "start_time": "2021-06-21T13:12:40.689Z"
   },
   {
    "duration": 1642,
    "start_time": "2021-06-21T13:12:41.296Z"
   },
   {
    "duration": 10,
    "start_time": "2021-06-21T13:12:42.940Z"
   },
   {
    "duration": 521,
    "start_time": "2021-06-21T13:12:42.953Z"
   },
   {
    "duration": 27,
    "start_time": "2021-06-21T13:12:43.956Z"
   },
   {
    "duration": 65,
    "start_time": "2021-06-21T13:12:44.678Z"
   },
   {
    "duration": 77,
    "start_time": "2021-06-21T13:12:45.420Z"
   },
   {
    "duration": 13,
    "start_time": "2021-06-21T13:12:46.067Z"
   },
   {
    "duration": 12,
    "start_time": "2021-06-21T13:12:46.853Z"
   },
   {
    "duration": 5,
    "start_time": "2021-06-21T13:12:48.035Z"
   },
   {
    "duration": 4,
    "start_time": "2021-06-21T13:12:49.067Z"
   },
   {
    "duration": 147731,
    "start_time": "2021-06-21T13:12:49.858Z"
   },
   {
    "duration": 466,
    "start_time": "2021-06-21T13:15:17.591Z"
   },
   {
    "duration": 34,
    "start_time": "2021-06-21T13:17:57.307Z"
   },
   {
    "duration": 28,
    "start_time": "2021-06-21T13:18:09.041Z"
   },
   {
    "duration": 322,
    "start_time": "2021-06-21T13:18:33.450Z"
   },
   {
    "duration": 308,
    "start_time": "2021-06-21T13:19:02.468Z"
   },
   {
    "duration": 107990,
    "start_time": "2021-06-21T13:21:13.623Z"
   },
   {
    "duration": 14,
    "start_time": "2021-06-21T13:23:08.856Z"
   },
   {
    "duration": 349,
    "start_time": "2021-06-21T13:24:11.891Z"
   },
   {
    "duration": 358,
    "start_time": "2021-06-21T13:24:39.244Z"
   },
   {
    "duration": 725,
    "start_time": "2021-06-21T13:25:00.045Z"
   },
   {
    "duration": 297,
    "start_time": "2021-06-21T13:25:30.291Z"
   },
   {
    "duration": 200570,
    "start_time": "2021-06-21T13:26:32.422Z"
   },
   {
    "duration": 613,
    "start_time": "2021-06-21T13:29:52.995Z"
   },
   {
    "duration": 453,
    "start_time": "2021-06-21T13:29:53.157Z"
   },
   {
    "duration": 234,
    "start_time": "2021-06-21T13:30:38.027Z"
   },
   {
    "duration": 131503,
    "start_time": "2021-06-21T13:30:58.819Z"
   },
   {
    "duration": 1775,
    "start_time": "2021-06-21T13:33:22.979Z"
   },
   {
    "duration": 21,
    "start_time": "2021-06-21T13:33:24.757Z"
   },
   {
    "duration": 29,
    "start_time": "2021-06-21T13:33:24.781Z"
   },
   {
    "duration": 10,
    "start_time": "2021-06-21T13:33:24.812Z"
   },
   {
    "duration": 605,
    "start_time": "2021-06-21T13:33:24.824Z"
   },
   {
    "duration": 698,
    "start_time": "2021-06-21T13:33:25.432Z"
   },
   {
    "duration": 1941,
    "start_time": "2021-06-21T13:33:26.133Z"
   },
   {
    "duration": 19,
    "start_time": "2021-06-21T13:33:28.078Z"
   },
   {
    "duration": 542,
    "start_time": "2021-06-21T13:33:28.102Z"
   },
   {
    "duration": 40,
    "start_time": "2021-06-21T13:33:28.647Z"
   },
   {
    "duration": 47,
    "start_time": "2021-06-21T13:33:28.691Z"
   },
   {
    "duration": 45,
    "start_time": "2021-06-21T13:33:45.970Z"
   },
   {
    "duration": 10,
    "start_time": "2021-06-21T13:34:03.763Z"
   },
   {
    "duration": 100,
    "start_time": "2021-06-21T13:34:04.491Z"
   },
   {
    "duration": 10,
    "start_time": "2021-06-21T13:34:06.605Z"
   },
   {
    "duration": 4,
    "start_time": "2021-06-21T13:34:10.843Z"
   },
   {
    "duration": 4,
    "start_time": "2021-06-21T13:34:12.057Z"
   },
   {
    "duration": 191188,
    "start_time": "2021-06-21T13:34:12.778Z"
   },
   {
    "duration": 41,
    "start_time": "2021-06-21T13:37:23.969Z"
   },
   {
    "duration": 26,
    "start_time": "2021-06-21T13:37:24.013Z"
   },
   {
    "duration": 659,
    "start_time": "2021-06-21T13:37:24.042Z"
   },
   {
    "duration": 392,
    "start_time": "2021-06-21T13:37:24.312Z"
   },
   {
    "duration": 388,
    "start_time": "2021-06-21T13:37:24.317Z"
   },
   {
    "duration": 93300,
    "start_time": "2021-06-21T13:46:05.993Z"
   },
   {
    "duration": 2012,
    "start_time": "2021-06-21T13:48:30.121Z"
   },
   {
    "duration": 22,
    "start_time": "2021-06-21T13:48:32.136Z"
   },
   {
    "duration": 44,
    "start_time": "2021-06-21T13:48:32.162Z"
   },
   {
    "duration": 11,
    "start_time": "2021-06-21T13:48:32.209Z"
   },
   {
    "duration": 649,
    "start_time": "2021-06-21T13:48:32.224Z"
   },
   {
    "duration": 698,
    "start_time": "2021-06-21T13:48:32.876Z"
   },
   {
    "duration": 2289,
    "start_time": "2021-06-21T13:48:33.577Z"
   },
   {
    "duration": 21,
    "start_time": "2021-06-21T13:48:35.869Z"
   },
   {
    "duration": 575,
    "start_time": "2021-06-21T13:48:35.894Z"
   },
   {
    "duration": 36,
    "start_time": "2021-06-21T13:48:36.471Z"
   },
   {
    "duration": 85,
    "start_time": "2021-06-21T13:48:36.509Z"
   },
   {
    "duration": 10,
    "start_time": "2021-06-21T13:48:36.916Z"
   },
   {
    "duration": 149,
    "start_time": "2021-06-21T13:48:39.950Z"
   },
   {
    "duration": 8,
    "start_time": "2021-06-21T13:48:46.564Z"
   },
   {
    "duration": 4,
    "start_time": "2021-06-21T13:48:47.780Z"
   },
   {
    "duration": 5,
    "start_time": "2021-06-21T13:48:49.661Z"
   },
   {
    "duration": 497474,
    "start_time": "2021-06-21T13:48:56.244Z"
   },
   {
    "duration": 6038,
    "start_time": "2021-06-21T13:57:13.721Z"
   },
   {
    "duration": 114117,
    "start_time": "2021-06-21T13:57:22.161Z"
   },
   {
    "duration": 274,
    "start_time": "2021-06-21T13:59:50.740Z"
   },
   {
    "duration": 7423,
    "start_time": "2021-06-21T14:00:12.941Z"
   },
   {
    "duration": 7809,
    "start_time": "2021-06-21T14:00:29.078Z"
   },
   {
    "duration": 9503,
    "start_time": "2021-06-21T14:00:45.702Z"
   },
   {
    "duration": 11026,
    "start_time": "2021-06-21T14:01:05.118Z"
   },
   {
    "duration": 14146,
    "start_time": "2021-06-21T14:01:25.702Z"
   },
   {
    "duration": 10945,
    "start_time": "2021-06-21T14:01:49.006Z"
   },
   {
    "duration": 4899,
    "start_time": "2021-06-21T14:02:09.343Z"
   },
   {
    "duration": 8148,
    "start_time": "2021-06-21T14:02:27.343Z"
   },
   {
    "duration": 10950,
    "start_time": "2021-06-21T14:02:44.616Z"
   },
   {
    "duration": 15294,
    "start_time": "2021-06-21T14:03:03.731Z"
   },
   {
    "duration": 10159,
    "start_time": "2021-06-21T14:03:25.571Z"
   },
   {
    "duration": 15512,
    "start_time": "2021-06-21T14:04:04.059Z"
   },
   {
    "duration": 19699,
    "start_time": "2021-06-21T14:04:25.596Z"
   },
   {
    "duration": 6701,
    "start_time": "2021-06-21T14:05:29.556Z"
   },
   {
    "duration": 306949,
    "start_time": "2021-06-21T14:06:00.822Z"
   },
   {
    "duration": 306,
    "start_time": "2021-06-21T14:12:07.697Z"
   },
   {
    "duration": 305,
    "start_time": "2021-06-21T14:12:14.388Z"
   },
   {
    "duration": 305,
    "start_time": "2021-06-21T14:12:20.916Z"
   },
   {
    "duration": 325,
    "start_time": "2021-06-21T14:12:24.820Z"
   },
   {
    "duration": 12335,
    "start_time": "2021-06-21T14:12:29.451Z"
   },
   {
    "duration": 7886,
    "start_time": "2021-06-21T14:12:48.804Z"
   },
   {
    "duration": 7768,
    "start_time": "2021-06-21T14:13:33.822Z"
   },
   {
    "duration": 9005,
    "start_time": "2021-06-21T14:13:47.157Z"
   },
   {
    "duration": 8950,
    "start_time": "2021-06-21T14:14:02.903Z"
   },
   {
    "duration": 9923,
    "start_time": "2021-06-21T14:14:15.839Z"
   },
   {
    "duration": 9203,
    "start_time": "2021-06-21T14:14:31.920Z"
   },
   {
    "duration": 8557,
    "start_time": "2021-06-21T14:14:47.104Z"
   },
   {
    "duration": 7835,
    "start_time": "2021-06-21T14:15:01.968Z"
   },
   {
    "duration": 8088,
    "start_time": "2021-06-21T14:15:20.776Z"
   },
   {
    "duration": 8738,
    "start_time": "2021-06-21T14:15:33.450Z"
   },
   {
    "duration": 9817,
    "start_time": "2021-06-21T14:16:11.203Z"
   },
   {
    "duration": 522,
    "start_time": "2021-06-21T14:16:31.449Z"
   },
   {
    "duration": 909,
    "start_time": "2021-06-21T14:16:37.273Z"
   },
   {
    "duration": 505,
    "start_time": "2021-06-21T14:16:45.074Z"
   },
   {
    "duration": 635,
    "start_time": "2021-06-21T14:16:54.218Z"
   },
   {
    "duration": 747,
    "start_time": "2021-06-21T14:17:01.027Z"
   },
   {
    "duration": 1350,
    "start_time": "2021-06-21T14:17:09.154Z"
   },
   {
    "duration": 646,
    "start_time": "2021-06-21T14:17:20.666Z"
   },
   {
    "duration": 473,
    "start_time": "2021-06-21T14:17:26.106Z"
   },
   {
    "duration": 524,
    "start_time": "2021-06-21T14:17:32.700Z"
   },
   {
    "duration": 633,
    "start_time": "2021-06-21T14:17:39.730Z"
   },
   {
    "duration": 616,
    "start_time": "2021-06-21T14:17:45.417Z"
   },
   {
    "duration": 692,
    "start_time": "2021-06-21T14:17:52.036Z"
   },
   {
    "duration": 728,
    "start_time": "2021-06-21T14:17:58.323Z"
   },
   {
    "duration": 560,
    "start_time": "2021-06-21T14:18:04.893Z"
   },
   {
    "duration": 579,
    "start_time": "2021-06-21T14:18:09.571Z"
   },
   {
    "duration": 628,
    "start_time": "2021-06-21T14:19:07.572Z"
   },
   {
    "duration": 603,
    "start_time": "2021-06-21T14:19:14.748Z"
   },
   {
    "duration": 571,
    "start_time": "2021-06-21T14:19:20.205Z"
   },
   {
    "duration": 590,
    "start_time": "2021-06-21T14:19:28.143Z"
   },
   {
    "duration": 15,
    "start_time": "2021-06-21T14:19:59.357Z"
   },
   {
    "duration": 314,
    "start_time": "2021-06-21T14:20:39.030Z"
   },
   {
    "duration": 638,
    "start_time": "2021-06-21T14:20:55.367Z"
   },
   {
    "duration": 15824,
    "start_time": "2021-06-21T14:22:08.023Z"
   },
   {
    "duration": 32081,
    "start_time": "2021-06-21T14:22:30.737Z"
   },
   {
    "duration": 39608,
    "start_time": "2021-06-21T14:23:39.106Z"
   },
   {
    "duration": 24973,
    "start_time": "2021-06-21T14:24:22.212Z"
   },
   {
    "duration": 16393,
    "start_time": "2021-06-21T14:24:57.675Z"
   },
   {
    "duration": 1832,
    "start_time": "2021-06-21T14:28:02.929Z"
   },
   {
    "duration": 21,
    "start_time": "2021-06-21T14:28:04.764Z"
   },
   {
    "duration": 44,
    "start_time": "2021-06-21T14:28:04.790Z"
   },
   {
    "duration": 11,
    "start_time": "2021-06-21T14:28:04.836Z"
   },
   {
    "duration": 605,
    "start_time": "2021-06-21T14:28:04.849Z"
   },
   {
    "duration": 615,
    "start_time": "2021-06-21T14:28:05.457Z"
   },
   {
    "duration": 1800,
    "start_time": "2021-06-21T14:28:06.076Z"
   },
   {
    "duration": 19,
    "start_time": "2021-06-21T14:28:07.887Z"
   },
   {
    "duration": 567,
    "start_time": "2021-06-21T14:28:07.910Z"
   },
   {
    "duration": 35,
    "start_time": "2021-06-21T14:28:08.480Z"
   },
   {
    "duration": 83,
    "start_time": "2021-06-21T14:28:08.518Z"
   },
   {
    "duration": 13,
    "start_time": "2021-06-21T14:28:10.216Z"
   },
   {
    "duration": 197,
    "start_time": "2021-06-21T14:28:11.113Z"
   },
   {
    "duration": 7,
    "start_time": "2021-06-21T14:28:11.729Z"
   },
   {
    "duration": 4,
    "start_time": "2021-06-21T14:28:12.568Z"
   },
   {
    "duration": 5,
    "start_time": "2021-06-21T14:28:12.911Z"
   },
   {
    "duration": 85935,
    "start_time": "2021-06-21T14:28:25.128Z"
   },
   {
    "duration": 48884,
    "start_time": "2021-06-21T14:30:14.561Z"
   },
   {
    "duration": 31329,
    "start_time": "2021-06-21T14:31:18.588Z"
   },
   {
    "duration": 29799,
    "start_time": "2021-06-21T14:31:57.020Z"
   },
   {
    "duration": 28009,
    "start_time": "2021-06-21T14:32:40.592Z"
   },
   {
    "duration": 23790,
    "start_time": "2021-06-21T14:33:17.022Z"
   },
   {
    "duration": 3039,
    "start_time": "2021-06-21T14:33:44.766Z"
   },
   {
    "duration": 110,
    "start_time": "2021-06-21T14:34:42.072Z"
   },
   {
    "duration": 51482,
    "start_time": "2021-06-21T14:34:46.848Z"
   },
   {
    "duration": 79927,
    "start_time": "2021-06-21T14:36:20.379Z"
   },
   {
    "duration": 354,
    "start_time": "2021-06-21T14:40:00.279Z"
   },
   {
    "duration": 381,
    "start_time": "2021-06-21T14:40:18.767Z"
   },
   {
    "duration": 338,
    "start_time": "2021-06-21T14:40:53.074Z"
   },
   {
    "duration": 350,
    "start_time": "2021-06-21T14:41:48.929Z"
   },
   {
    "duration": 328,
    "start_time": "2021-06-21T14:43:11.700Z"
   },
   {
    "duration": 29998,
    "start_time": "2021-06-21T14:43:43.511Z"
   },
   {
    "duration": 67170,
    "start_time": "2021-06-21T14:44:17.053Z"
   },
   {
    "duration": 11713,
    "start_time": "2021-06-21T14:45:26.446Z"
   },
   {
    "duration": 34773,
    "start_time": "2021-06-21T14:45:42.919Z"
   },
   {
    "duration": 29483,
    "start_time": "2021-06-21T14:46:19.360Z"
   },
   {
    "duration": 30290,
    "start_time": "2021-06-21T14:46:55.528Z"
   },
   {
    "duration": 31489,
    "start_time": "2021-06-21T14:47:33.136Z"
   },
   {
    "duration": 31073,
    "start_time": "2021-06-21T14:48:10.154Z"
   },
   {
    "duration": 32143,
    "start_time": "2021-06-21T14:48:49.114Z"
   },
   {
    "duration": 30771,
    "start_time": "2021-06-21T14:49:28.252Z"
   },
   {
    "duration": 67110,
    "start_time": "2021-06-21T14:50:11.956Z"
   },
   {
    "duration": 21482,
    "start_time": "2021-06-21T14:51:33.823Z"
   },
   {
    "duration": 45718,
    "start_time": "2021-06-21T14:52:34.624Z"
   },
   {
    "duration": 8528,
    "start_time": "2021-06-21T14:53:24.082Z"
   },
   {
    "duration": 14280,
    "start_time": "2021-06-21T14:53:42.845Z"
   },
   {
    "duration": 314,
    "start_time": "2021-06-21T14:54:50.722Z"
   },
   {
    "duration": 328,
    "start_time": "2021-06-21T14:55:22.467Z"
   },
   {
    "duration": 1806,
    "start_time": "2021-06-21T14:57:30.648Z"
   },
   {
    "duration": 22,
    "start_time": "2021-06-21T14:57:32.457Z"
   },
   {
    "duration": 32,
    "start_time": "2021-06-21T14:57:32.482Z"
   },
   {
    "duration": 9,
    "start_time": "2021-06-21T14:57:32.517Z"
   },
   {
    "duration": 623,
    "start_time": "2021-06-21T14:57:32.529Z"
   },
   {
    "duration": 623,
    "start_time": "2021-06-21T14:57:33.154Z"
   },
   {
    "duration": 1858,
    "start_time": "2021-06-21T14:57:33.780Z"
   },
   {
    "duration": 12,
    "start_time": "2021-06-21T14:57:35.641Z"
   },
   {
    "duration": 565,
    "start_time": "2021-06-21T14:57:35.655Z"
   },
   {
    "duration": 23,
    "start_time": "2021-06-21T14:57:36.223Z"
   },
   {
    "duration": 61,
    "start_time": "2021-06-21T14:57:37.255Z"
   },
   {
    "duration": 10,
    "start_time": "2021-06-21T14:57:38.551Z"
   },
   {
    "duration": 20,
    "start_time": "2021-06-21T14:57:42.406Z"
   },
   {
    "duration": 7,
    "start_time": "2021-06-21T14:57:46.950Z"
   },
   {
    "duration": 5,
    "start_time": "2021-06-21T14:57:47.087Z"
   },
   {
    "duration": 4,
    "start_time": "2021-06-21T14:57:47.237Z"
   },
   {
    "duration": 19,
    "start_time": "2021-06-21T14:57:53.095Z"
   },
   {
    "duration": 10020,
    "start_time": "2021-06-21T14:57:54.592Z"
   },
   {
    "duration": 610,
    "start_time": "2021-06-21T14:58:06.663Z"
   },
   {
    "duration": 13632,
    "start_time": "2021-06-21T14:58:14.095Z"
   },
   {
    "duration": 1701,
    "start_time": "2021-06-21T14:58:50.002Z"
   },
   {
    "duration": 25,
    "start_time": "2021-06-21T14:58:51.707Z"
   },
   {
    "duration": 25,
    "start_time": "2021-06-21T14:58:51.736Z"
   },
   {
    "duration": 32,
    "start_time": "2021-06-21T14:58:51.765Z"
   },
   {
    "duration": 622,
    "start_time": "2021-06-21T14:58:51.804Z"
   },
   {
    "duration": 648,
    "start_time": "2021-06-21T14:58:52.428Z"
   },
   {
    "duration": 1899,
    "start_time": "2021-06-21T14:58:53.087Z"
   },
   {
    "duration": 16,
    "start_time": "2021-06-21T14:58:54.992Z"
   },
   {
    "duration": 710,
    "start_time": "2021-06-21T14:58:55.012Z"
   },
   {
    "duration": 29,
    "start_time": "2021-06-21T14:58:55.726Z"
   },
   {
    "duration": 77,
    "start_time": "2021-06-21T14:58:55.758Z"
   },
   {
    "duration": 10,
    "start_time": "2021-06-21T14:58:55.838Z"
   },
   {
    "duration": 44,
    "start_time": "2021-06-21T14:58:55.851Z"
   },
   {
    "duration": 89,
    "start_time": "2021-06-21T14:58:55.900Z"
   },
   {
    "duration": 16,
    "start_time": "2021-06-21T14:58:55.991Z"
   },
   {
    "duration": 7,
    "start_time": "2021-06-21T14:58:56.010Z"
   },
   {
    "duration": 209960,
    "start_time": "2021-06-21T14:58:56.089Z"
   },
   {
    "duration": 44,
    "start_time": "2021-06-21T15:02:26.052Z"
   },
   {
    "duration": 11,
    "start_time": "2021-06-21T15:02:26.099Z"
   },
   {
    "duration": 787447,
    "start_time": "2021-06-21T15:02:26.114Z"
   },
   {
    "duration": 319950,
    "start_time": "2021-06-21T15:15:33.564Z"
   },
   {
    "duration": 16,
    "start_time": "2021-06-21T15:20:53.517Z"
   },
   {
    "duration": 10623,
    "start_time": "2021-06-21T15:20:53.538Z"
   },
   {
    "duration": 689,
    "start_time": "2021-06-21T15:21:04.165Z"
   },
   {
    "duration": 13602,
    "start_time": "2021-06-21T15:21:04.856Z"
   },
   {
    "duration": 522,
    "start_time": "2021-06-21T15:21:18.461Z"
   },
   {
    "duration": 1675,
    "start_time": "2021-06-22T10:35:12.082Z"
   },
   {
    "duration": 22,
    "start_time": "2021-06-22T10:35:15.120Z"
   },
   {
    "duration": 23,
    "start_time": "2021-06-22T10:35:16.015Z"
   },
   {
    "duration": 10,
    "start_time": "2021-06-22T10:35:16.711Z"
   },
   {
    "duration": 533,
    "start_time": "2021-06-22T10:35:18.800Z"
   },
   {
    "duration": 540,
    "start_time": "2021-06-22T10:35:20.489Z"
   },
   {
    "duration": 1637,
    "start_time": "2021-06-22T10:35:22.736Z"
   },
   {
    "duration": 11,
    "start_time": "2021-06-22T10:35:25.432Z"
   },
   {
    "duration": 501,
    "start_time": "2021-06-22T10:35:27.904Z"
   },
   {
    "duration": 24,
    "start_time": "2021-06-22T10:35:29.913Z"
   },
   {
    "duration": 48,
    "start_time": "2021-06-22T10:35:31.418Z"
   },
   {
    "duration": 10,
    "start_time": "2021-06-22T10:35:32.804Z"
   },
   {
    "duration": 20,
    "start_time": "2021-06-22T10:35:33.833Z"
   },
   {
    "duration": 7,
    "start_time": "2021-06-22T10:35:36.833Z"
   },
   {
    "duration": 5,
    "start_time": "2021-06-22T10:35:38.297Z"
   },
   {
    "duration": 4,
    "start_time": "2021-06-22T10:35:39.576Z"
   },
   {
    "duration": 14,
    "start_time": "2021-06-22T10:35:49.409Z"
   },
   {
    "duration": 10566,
    "start_time": "2021-06-22T10:35:50.426Z"
   },
   {
    "duration": 584,
    "start_time": "2021-06-22T10:36:02.643Z"
   },
   {
    "duration": 720,
    "start_time": "2021-06-22T10:36:17.539Z"
   },
   {
    "duration": 1052,
    "start_time": "2021-06-22T10:36:23.345Z"
   },
   {
    "duration": 772,
    "start_time": "2021-06-22T10:36:28.882Z"
   },
   {
    "duration": 1191,
    "start_time": "2021-06-22T10:36:35.036Z"
   },
   {
    "duration": 1899,
    "start_time": "2021-06-22T10:36:40.923Z"
   },
   {
    "duration": 729,
    "start_time": "2021-06-22T10:36:50.852Z"
   },
   {
    "duration": 1719,
    "start_time": "2021-06-22T10:37:33.163Z"
   },
   {
    "duration": 25,
    "start_time": "2021-06-22T10:37:34.885Z"
   },
   {
    "duration": 23,
    "start_time": "2021-06-22T10:37:34.913Z"
   },
   {
    "duration": 9,
    "start_time": "2021-06-22T10:37:34.939Z"
   },
   {
    "duration": 539,
    "start_time": "2021-06-22T10:37:35.859Z"
   },
   {
    "duration": 530,
    "start_time": "2021-06-22T10:37:37.362Z"
   },
   {
    "duration": 1621,
    "start_time": "2021-06-22T10:37:38.194Z"
   },
   {
    "duration": 10,
    "start_time": "2021-06-22T10:37:39.817Z"
   },
   {
    "duration": 486,
    "start_time": "2021-06-22T10:37:40.236Z"
   },
   {
    "duration": 22,
    "start_time": "2021-06-22T10:37:42.517Z"
   },
   {
    "duration": 47,
    "start_time": "2021-06-22T10:37:43.347Z"
   },
   {
    "duration": 9,
    "start_time": "2021-06-22T10:37:48.508Z"
   },
   {
    "duration": 21,
    "start_time": "2021-06-22T10:37:50.588Z"
   },
   {
    "duration": 16,
    "start_time": "2021-06-22T10:37:57.937Z"
   },
   {
    "duration": 2757,
    "start_time": "2021-06-22T10:38:04.340Z"
   },
   {
    "duration": 650,
    "start_time": "2021-06-22T10:38:10.253Z"
   },
   {
    "duration": 1697,
    "start_time": "2021-06-22T10:38:38.716Z"
   },
   {
    "duration": 22,
    "start_time": "2021-06-22T10:38:41.380Z"
   },
   {
    "duration": 32,
    "start_time": "2021-06-22T10:38:42.234Z"
   },
   {
    "duration": 9,
    "start_time": "2021-06-22T10:38:43.170Z"
   },
   {
    "duration": 553,
    "start_time": "2021-06-22T10:38:44.651Z"
   },
   {
    "duration": 553,
    "start_time": "2021-06-22T10:38:45.978Z"
   },
   {
    "duration": 1732,
    "start_time": "2021-06-22T10:38:46.570Z"
   },
   {
    "duration": 15,
    "start_time": "2021-06-22T10:38:48.310Z"
   },
   {
    "duration": 407,
    "start_time": "2021-06-22T10:38:52.274Z"
   },
   {
    "duration": 146,
    "start_time": "2021-06-22T10:39:01.947Z"
   },
   {
    "duration": 422,
    "start_time": "2021-06-22T10:39:08.186Z"
   },
   {
    "duration": 24,
    "start_time": "2021-06-22T10:39:10.499Z"
   },
   {
    "duration": 46,
    "start_time": "2021-06-22T10:39:12.214Z"
   },
   {
    "duration": 9,
    "start_time": "2021-06-22T10:39:13.843Z"
   },
   {
    "duration": 22,
    "start_time": "2021-06-22T10:39:14.804Z"
   },
   {
    "duration": 19,
    "start_time": "2021-06-22T10:39:24.395Z"
   },
   {
    "duration": 1866,
    "start_time": "2021-06-22T10:39:25.596Z"
   },
   {
    "duration": 469,
    "start_time": "2021-06-22T10:39:28.668Z"
   },
   {
    "duration": 11,
    "start_time": "2021-06-22T10:39:59.461Z"
   },
   {
    "duration": 665,
    "start_time": "2021-06-22T10:40:00.052Z"
   },
   {
    "duration": 26,
    "start_time": "2021-06-22T10:40:05.509Z"
   },
   {
    "duration": 43,
    "start_time": "2021-06-22T10:40:06.855Z"
   },
   {
    "duration": 10,
    "start_time": "2021-06-22T10:40:10.566Z"
   },
   {
    "duration": 96,
    "start_time": "2021-06-22T10:40:10.725Z"
   },
   {
    "duration": 12,
    "start_time": "2021-06-22T10:40:14.900Z"
   },
   {
    "duration": 978,
    "start_time": "2021-06-22T10:40:15.845Z"
   },
   {
    "duration": 280,
    "start_time": "2021-06-22T10:40:17.493Z"
   },
   {
    "duration": 1597,
    "start_time": "2021-06-22T10:40:42.955Z"
   },
   {
    "duration": 21,
    "start_time": "2021-06-22T10:40:46.360Z"
   },
   {
    "duration": 23,
    "start_time": "2021-06-22T10:40:49.538Z"
   },
   {
    "duration": 9,
    "start_time": "2021-06-22T10:40:50.352Z"
   },
   {
    "duration": 531,
    "start_time": "2021-06-22T10:40:53.472Z"
   },
   {
    "duration": 525,
    "start_time": "2021-06-22T10:40:54.872Z"
   },
   {
    "duration": 1625,
    "start_time": "2021-06-22T10:40:58.696Z"
   },
   {
    "duration": 12,
    "start_time": "2021-06-22T10:41:19.929Z"
   },
   {
    "duration": 812,
    "start_time": "2021-06-22T10:41:20.329Z"
   },
   {
    "duration": 624,
    "start_time": "2021-06-22T10:41:22.291Z"
   },
   {
    "duration": 74,
    "start_time": "2021-06-22T10:41:23.299Z"
   },
   {
    "duration": 11,
    "start_time": "2021-06-22T10:41:40.506Z"
   },
   {
    "duration": 75,
    "start_time": "2021-06-22T10:41:41.947Z"
   },
   {
    "duration": 16,
    "start_time": "2021-06-22T10:41:46.898Z"
   },
   {
    "duration": 3174,
    "start_time": "2021-06-22T10:41:47.978Z"
   },
   {
    "duration": 717,
    "start_time": "2021-06-22T10:41:52.370Z"
   },
   {
    "duration": 1641,
    "start_time": "2021-06-22T10:42:55.967Z"
   },
   {
    "duration": 28,
    "start_time": "2021-06-22T10:42:59.367Z"
   },
   {
    "duration": 27,
    "start_time": "2021-06-22T10:43:02.182Z"
   },
   {
    "duration": 11,
    "start_time": "2021-06-22T10:43:03.118Z"
   },
   {
    "duration": 542,
    "start_time": "2021-06-22T10:43:04.637Z"
   },
   {
    "duration": 529,
    "start_time": "2021-06-22T10:43:05.974Z"
   },
   {
    "duration": 1682,
    "start_time": "2021-06-22T10:43:06.847Z"
   },
   {
    "duration": 13,
    "start_time": "2021-06-22T10:43:08.532Z"
   },
   {
    "duration": 492,
    "start_time": "2021-06-22T10:43:09.117Z"
   },
   {
    "duration": 588,
    "start_time": "2021-06-22T10:43:19.030Z"
   },
   {
    "duration": 23,
    "start_time": "2021-06-22T10:43:21.142Z"
   },
   {
    "duration": 48,
    "start_time": "2021-06-22T10:43:22.351Z"
   },
   {
    "duration": 9,
    "start_time": "2021-06-22T10:43:26.881Z"
   },
   {
    "duration": 223,
    "start_time": "2021-06-22T10:43:28.088Z"
   },
   {
    "duration": 17,
    "start_time": "2021-06-22T10:43:31.470Z"
   },
   {
    "duration": 3260,
    "start_time": "2021-06-22T10:43:32.456Z"
   },
   {
    "duration": 716,
    "start_time": "2021-06-22T10:43:38.377Z"
   },
   {
    "duration": 3113,
    "start_time": "2021-06-22T10:44:04.369Z"
   },
   {
    "duration": 716,
    "start_time": "2021-06-22T10:44:14.489Z"
   },
   {
    "duration": 1687,
    "start_time": "2021-06-22T10:44:47.168Z"
   },
   {
    "duration": 22,
    "start_time": "2021-06-22T10:44:48.858Z"
   },
   {
    "duration": 23,
    "start_time": "2021-06-22T10:44:49.142Z"
   },
   {
    "duration": 10,
    "start_time": "2021-06-22T10:44:50.086Z"
   },
   {
    "duration": 527,
    "start_time": "2021-06-22T10:44:53.574Z"
   },
   {
    "duration": 538,
    "start_time": "2021-06-22T10:44:54.104Z"
   },
   {
    "duration": 1645,
    "start_time": "2021-06-22T10:44:55.254Z"
   },
   {
    "duration": 9,
    "start_time": "2021-06-22T10:44:56.909Z"
   },
   {
    "duration": 526,
    "start_time": "2021-06-22T10:44:57.933Z"
   },
   {
    "duration": 490,
    "start_time": "2021-06-22T10:45:06.569Z"
   },
   {
    "duration": 76,
    "start_time": "2021-06-22T10:45:19.936Z"
   },
   {
    "duration": 14,
    "start_time": "2021-06-22T10:45:29.657Z"
   },
   {
    "duration": 30,
    "start_time": "2021-06-22T10:45:30.792Z"
   },
   {
    "duration": 17,
    "start_time": "2021-06-22T10:45:38.575Z"
   },
   {
    "duration": 3400,
    "start_time": "2021-06-22T10:45:38.768Z"
   },
   {
    "duration": 763,
    "start_time": "2021-06-22T10:45:42.170Z"
   },
   {
    "duration": 7,
    "start_time": "2021-06-22T10:45:48.881Z"
   },
   {
    "duration": 4,
    "start_time": "2021-06-22T10:45:49.298Z"
   },
   {
    "duration": 4,
    "start_time": "2021-06-22T10:45:49.975Z"
   },
   {
    "duration": 59579,
    "start_time": "2021-06-22T10:45:50.631Z"
   },
   {
    "duration": 729,
    "start_time": "2021-06-22T10:46:49.485Z"
   },
   {
    "duration": 700,
    "start_time": "2021-06-22T10:46:49.516Z"
   },
   {
    "duration": 701,
    "start_time": "2021-06-22T10:46:49.517Z"
   },
   {
    "duration": 703,
    "start_time": "2021-06-22T10:46:49.518Z"
   },
   {
    "duration": 704,
    "start_time": "2021-06-22T10:46:49.519Z"
   },
   {
    "duration": 394,
    "start_time": "2021-06-22T10:46:52.667Z"
   },
   {
    "duration": 416,
    "start_time": "2021-06-22T10:47:36.693Z"
   },
   {
    "duration": 1724,
    "start_time": "2021-06-22T10:47:49.388Z"
   },
   {
    "duration": 22,
    "start_time": "2021-06-22T10:47:53.051Z"
   },
   {
    "duration": 24,
    "start_time": "2021-06-22T10:47:53.755Z"
   },
   {
    "duration": 9,
    "start_time": "2021-06-22T10:47:54.619Z"
   },
   {
    "duration": 534,
    "start_time": "2021-06-22T10:47:56.230Z"
   },
   {
    "duration": 909,
    "start_time": "2021-06-22T10:47:57.196Z"
   },
   {
    "duration": 1652,
    "start_time": "2021-06-22T10:47:58.347Z"
   },
   {
    "duration": 9,
    "start_time": "2021-06-22T10:48:00.931Z"
   },
   {
    "duration": 525,
    "start_time": "2021-06-22T10:48:02.451Z"
   },
   {
    "duration": 533,
    "start_time": "2021-06-22T10:48:04.643Z"
   },
   {
    "duration": 668,
    "start_time": "2021-06-22T10:48:27.149Z"
   },
   {
    "duration": 16,
    "start_time": "2021-06-22T10:48:59.772Z"
   },
   {
    "duration": 19,
    "start_time": "2021-06-22T10:49:00.660Z"
   },
   {
    "duration": 1658,
    "start_time": "2021-06-22T10:51:24.295Z"
   },
   {
    "duration": 23,
    "start_time": "2021-06-22T10:51:25.956Z"
   },
   {
    "duration": 36,
    "start_time": "2021-06-22T10:51:25.982Z"
   },
   {
    "duration": 9,
    "start_time": "2021-06-22T10:51:26.021Z"
   },
   {
    "duration": 547,
    "start_time": "2021-06-22T10:51:26.033Z"
   },
   {
    "duration": 549,
    "start_time": "2021-06-22T10:51:26.582Z"
   },
   {
    "duration": 1790,
    "start_time": "2021-06-22T10:51:27.134Z"
   },
   {
    "duration": 13,
    "start_time": "2021-06-22T10:51:28.927Z"
   },
   {
    "duration": 564,
    "start_time": "2021-06-22T10:51:28.944Z"
   },
   {
    "duration": 530,
    "start_time": "2021-06-22T10:51:35.237Z"
   },
   {
    "duration": 21,
    "start_time": "2021-06-22T10:52:03.412Z"
   },
   {
    "duration": 75,
    "start_time": "2021-06-22T10:52:07.604Z"
   },
   {
    "duration": 10,
    "start_time": "2021-06-22T10:52:08.486Z"
   },
   {
    "duration": 181,
    "start_time": "2021-06-22T10:52:10.427Z"
   },
   {
    "duration": 7,
    "start_time": "2021-06-22T10:52:14.021Z"
   },
   {
    "duration": 4,
    "start_time": "2021-06-22T10:52:16.859Z"
   },
   {
    "duration": 4,
    "start_time": "2021-06-22T10:52:17.125Z"
   },
   {
    "duration": 308318,
    "start_time": "2021-06-22T10:52:17.683Z"
   },
   {
    "duration": 534,
    "start_time": "2021-06-22T10:57:25.469Z"
   },
   {
    "duration": 531,
    "start_time": "2021-06-22T10:57:25.474Z"
   },
   {
    "duration": 531,
    "start_time": "2021-06-22T10:57:25.476Z"
   },
   {
    "duration": 529,
    "start_time": "2021-06-22T10:57:25.479Z"
   },
   {
    "duration": 529,
    "start_time": "2021-06-22T10:57:25.481Z"
   },
   {
    "duration": 16,
    "start_time": "2021-06-22T10:57:30.435Z"
   },
   {
    "duration": 3333,
    "start_time": "2021-06-22T10:57:30.980Z"
   },
   {
    "duration": 487,
    "start_time": "2021-06-22T10:57:34.316Z"
   },
   {
    "duration": 1697,
    "start_time": "2021-06-22T10:58:12.384Z"
   },
   {
    "duration": 24,
    "start_time": "2021-06-22T10:58:14.084Z"
   },
   {
    "duration": 23,
    "start_time": "2021-06-22T10:58:14.111Z"
   },
   {
    "duration": 9,
    "start_time": "2021-06-22T10:58:14.137Z"
   },
   {
    "duration": 672,
    "start_time": "2021-06-22T10:58:14.148Z"
   },
   {
    "duration": 557,
    "start_time": "2021-06-22T10:58:14.822Z"
   },
   {
    "duration": 1687,
    "start_time": "2021-06-22T10:58:56.370Z"
   },
   {
    "duration": 21,
    "start_time": "2021-06-22T10:58:58.060Z"
   },
   {
    "duration": 41,
    "start_time": "2021-06-22T10:58:58.084Z"
   },
   {
    "duration": 10,
    "start_time": "2021-06-22T10:58:58.128Z"
   },
   {
    "duration": 536,
    "start_time": "2021-06-22T10:58:58.140Z"
   },
   {
    "duration": 546,
    "start_time": "2021-06-22T10:58:58.679Z"
   },
   {
    "duration": 1681,
    "start_time": "2021-06-22T10:59:05.850Z"
   },
   {
    "duration": 13,
    "start_time": "2021-06-22T10:59:07.534Z"
   },
   {
    "duration": 561,
    "start_time": "2021-06-22T10:59:07.550Z"
   },
   {
    "duration": 22,
    "start_time": "2021-06-22T10:59:08.803Z"
   },
   {
    "duration": 45,
    "start_time": "2021-06-22T10:59:10.309Z"
   },
   {
    "duration": 10,
    "start_time": "2021-06-22T10:59:13.066Z"
   },
   {
    "duration": 21,
    "start_time": "2021-06-22T10:59:13.659Z"
   },
   {
    "duration": 19,
    "start_time": "2021-06-22T10:59:16.877Z"
   },
   {
    "duration": 3253,
    "start_time": "2021-06-22T10:59:17.286Z"
   },
   {
    "duration": 753,
    "start_time": "2021-06-22T10:59:20.542Z"
   },
   {
    "duration": 502,
    "start_time": "2021-06-22T10:59:28.339Z"
   },
   {
    "duration": 28,
    "start_time": "2021-06-22T10:59:29.130Z"
   },
   {
    "duration": 4,
    "start_time": "2021-06-22T10:59:32.939Z"
   },
   {
    "duration": 347,
    "start_time": "2021-06-22T10:59:33.323Z"
   },
   {
    "duration": 43,
    "start_time": "2021-06-22T10:59:34.510Z"
   },
   {
    "duration": 26,
    "start_time": "2021-06-22T10:59:35.467Z"
   },
   {
    "duration": 416,
    "start_time": "2021-06-22T10:59:44.643Z"
   },
   {
    "duration": 4,
    "start_time": "2021-06-22T10:59:45.099Z"
   },
   {
    "duration": 7,
    "start_time": "2021-06-22T10:59:48.412Z"
   },
   {
    "duration": 4,
    "start_time": "2021-06-22T10:59:48.842Z"
   },
   {
    "duration": 5,
    "start_time": "2021-06-22T10:59:49.346Z"
   },
   {
    "duration": 115785,
    "start_time": "2021-06-22T10:59:50.059Z"
   },
   {
    "duration": 30,
    "start_time": "2021-06-22T11:01:45.847Z"
   },
   {
    "duration": 52,
    "start_time": "2021-06-22T11:01:45.881Z"
   },
   {
    "duration": 793937,
    "start_time": "2021-06-22T11:01:45.936Z"
   },
   {
    "duration": 300319,
    "start_time": "2021-06-22T11:14:59.875Z"
   },
   {
    "duration": 8743,
    "start_time": "2021-06-22T11:21:04.946Z"
   },
   {
    "duration": 1008,
    "start_time": "2021-06-22T11:22:18.634Z"
   },
   {
    "duration": 60383,
    "start_time": "2021-06-22T11:24:00.140Z"
   },
   {
    "duration": 91157,
    "start_time": "2021-06-22T11:25:05.187Z"
   },
   {
    "duration": 105,
    "start_time": "2021-06-22T11:28:40.251Z"
   },
   {
    "duration": 323,
    "start_time": "2021-06-22T11:28:47.516Z"
   },
   {
    "duration": 97829,
    "start_time": "2021-06-22T11:29:24.947Z"
   },
   {
    "duration": 126,
    "start_time": "2021-06-22T11:31:34.830Z"
   },
   {
    "duration": 714,
    "start_time": "2021-06-22T11:31:42.302Z"
   },
   {
    "duration": 110,
    "start_time": "2021-06-22T11:31:59.231Z"
   },
   {
    "duration": 661,
    "start_time": "2021-06-22T11:32:03.624Z"
   },
   {
    "duration": 704,
    "start_time": "2021-06-22T11:32:09.927Z"
   },
   {
    "duration": 589,
    "start_time": "2021-06-22T11:32:16.047Z"
   },
   {
    "duration": 682,
    "start_time": "2021-06-22T11:32:20.904Z"
   },
   {
    "duration": 652,
    "start_time": "2021-06-22T11:32:26.336Z"
   },
   {
    "duration": 644,
    "start_time": "2021-06-22T11:32:31.096Z"
   },
   {
    "duration": 664,
    "start_time": "2021-06-22T11:32:36.224Z"
   },
   {
    "duration": 1661,
    "start_time": "2021-06-23T10:13:44.513Z"
   },
   {
    "duration": 21,
    "start_time": "2021-06-23T10:13:49.410Z"
   },
   {
    "duration": 23,
    "start_time": "2021-06-23T10:13:51.064Z"
   },
   {
    "duration": 11,
    "start_time": "2021-06-23T10:13:51.985Z"
   },
   {
    "duration": 10,
    "start_time": "2021-06-23T10:14:03.306Z"
   },
   {
    "duration": 513,
    "start_time": "2021-06-23T10:14:05.073Z"
   },
   {
    "duration": 527,
    "start_time": "2021-06-23T10:14:06.970Z"
   },
   {
    "duration": 1615,
    "start_time": "2021-06-23T10:14:09.963Z"
   },
   {
    "duration": 1408,
    "start_time": "2021-06-23T10:16:30.087Z"
   },
   {
    "duration": 1247,
    "start_time": "2021-06-23T10:16:49.789Z"
   },
   {
    "duration": 1630,
    "start_time": "2021-06-23T10:17:01.805Z"
   },
   {
    "duration": 1031,
    "start_time": "2021-06-23T10:18:19.439Z"
   },
   {
    "duration": 534,
    "start_time": "2021-06-23T10:18:30.415Z"
   },
   {
    "duration": 306,
    "start_time": "2021-06-23T10:18:38.632Z"
   },
   {
    "duration": 299,
    "start_time": "2021-06-23T10:18:43.039Z"
   },
   {
    "duration": 296,
    "start_time": "2021-06-23T10:18:50.776Z"
   },
   {
    "duration": 10,
    "start_time": "2021-06-23T10:19:36.418Z"
   },
   {
    "duration": 524,
    "start_time": "2021-06-23T10:19:38.065Z"
   },
   {
    "duration": 20,
    "start_time": "2021-06-23T10:19:45.698Z"
   },
   {
    "duration": 44,
    "start_time": "2021-06-23T10:20:02.564Z"
   },
   {
    "duration": 9,
    "start_time": "2021-06-23T10:20:06.401Z"
   },
   {
    "duration": 30,
    "start_time": "2021-06-23T10:20:07.481Z"
   },
   {
    "duration": 27,
    "start_time": "2021-06-23T10:20:08.561Z"
   },
   {
    "duration": 55,
    "start_time": "2021-06-23T10:20:12.171Z"
   },
   {
    "duration": 6,
    "start_time": "2021-06-23T10:20:15.446Z"
   },
   {
    "duration": 4,
    "start_time": "2021-06-23T10:20:21.818Z"
   },
   {
    "duration": 4,
    "start_time": "2021-06-23T10:20:23.122Z"
   },
   {
    "duration": 14,
    "start_time": "2021-06-23T10:20:26.473Z"
   },
   {
    "duration": 7134,
    "start_time": "2021-06-23T10:20:27.827Z"
   },
   {
    "duration": 863,
    "start_time": "2021-06-23T10:20:37.540Z"
   },
   {
    "duration": 510,
    "start_time": "2021-06-23T10:20:39.923Z"
   },
   {
    "duration": 41,
    "start_time": "2021-06-23T10:21:38.533Z"
   },
   {
    "duration": 14,
    "start_time": "2021-06-23T10:21:48.369Z"
   },
   {
    "duration": 28,
    "start_time": "2021-06-23T10:21:49.123Z"
   },
   {
    "duration": 28,
    "start_time": "2021-06-23T10:21:50.157Z"
   },
   {
    "duration": 163,
    "start_time": "2021-06-23T10:21:52.861Z"
   },
   {
    "duration": 15,
    "start_time": "2021-06-23T10:21:59.221Z"
   },
   {
    "duration": 7934,
    "start_time": "2021-06-23T10:22:00.158Z"
   },
   {
    "duration": 929,
    "start_time": "2021-06-23T10:22:09.069Z"
   },
   {
    "duration": 960,
    "start_time": "2021-06-23T10:22:10.870Z"
   },
   {
    "duration": 115401,
    "start_time": "2021-06-23T10:23:20.143Z"
   },
   {
    "duration": 786162,
    "start_time": "2021-06-23T10:25:15.546Z"
   },
   {
    "duration": 275959,
    "start_time": "2021-06-23T10:38:21.712Z"
   },
   {
    "duration": 87989,
    "start_time": "2021-06-23T10:42:57.674Z"
   },
   {
    "duration": 86090,
    "start_time": "2021-06-23T10:48:24.614Z"
   },
   {
    "duration": 212,
    "start_time": "2021-06-23T10:51:15.177Z"
   },
   {
    "duration": 938,
    "start_time": "2021-06-23T10:52:07.275Z"
   },
   {
    "duration": 3581,
    "start_time": "2021-06-23T10:52:24.347Z"
   },
   {
    "duration": 3585,
    "start_time": "2021-06-23T10:52:33.689Z"
   },
   {
    "duration": 34,
    "start_time": "2021-06-23T11:02:42.826Z"
   },
   {
    "duration": 22,
    "start_time": "2021-06-23T11:02:57.556Z"
   },
   {
    "duration": 29,
    "start_time": "2021-06-23T11:03:08.207Z"
   },
   {
    "duration": 24,
    "start_time": "2021-06-23T11:03:25.128Z"
   },
   {
    "duration": 44,
    "start_time": "2021-06-23T11:04:12.658Z"
   },
   {
    "duration": 6,
    "start_time": "2021-06-23T11:07:49.106Z"
   },
   {
    "duration": 36,
    "start_time": "2021-06-23T11:07:51.477Z"
   },
   {
    "duration": 8,
    "start_time": "2021-06-23T11:08:02.349Z"
   },
   {
    "duration": 25,
    "start_time": "2021-06-23T11:08:03.892Z"
   },
   {
    "duration": 1599,
    "start_time": "2021-06-23T11:08:15.060Z"
   },
   {
    "duration": 21,
    "start_time": "2021-06-23T11:08:18.380Z"
   },
   {
    "duration": 23,
    "start_time": "2021-06-23T11:08:19.338Z"
   },
   {
    "duration": 12,
    "start_time": "2021-06-23T11:08:19.709Z"
   },
   {
    "duration": 521,
    "start_time": "2021-06-23T11:08:20.964Z"
   },
   {
    "duration": 547,
    "start_time": "2021-06-23T11:08:21.488Z"
   },
   {
    "duration": 1701,
    "start_time": "2021-06-23T11:08:22.038Z"
   },
   {
    "duration": 359,
    "start_time": "2021-06-23T11:08:23.757Z"
   },
   {
    "duration": 9,
    "start_time": "2021-06-23T11:08:24.119Z"
   },
   {
    "duration": 543,
    "start_time": "2021-06-23T11:08:24.130Z"
   },
   {
    "duration": 20,
    "start_time": "2021-06-23T11:08:25.093Z"
   },
   {
    "duration": 7,
    "start_time": "2021-06-23T11:08:25.726Z"
   },
   {
    "duration": 22,
    "start_time": "2021-06-23T11:08:28.150Z"
   },
   {
    "duration": 48,
    "start_time": "2021-06-23T11:08:29.118Z"
   },
   {
    "duration": 10,
    "start_time": "2021-06-23T11:08:31.198Z"
   },
   {
    "duration": 28,
    "start_time": "2021-06-23T11:08:31.853Z"
   },
   {
    "duration": 27,
    "start_time": "2021-06-23T11:08:33.150Z"
   },
   {
    "duration": 18,
    "start_time": "2021-06-23T11:08:35.470Z"
   },
   {
    "duration": 8,
    "start_time": "2021-06-23T11:08:36.886Z"
   },
   {
    "duration": 4,
    "start_time": "2021-06-23T11:08:39.750Z"
   },
   {
    "duration": 4,
    "start_time": "2021-06-23T11:08:40.392Z"
   },
   {
    "duration": 5213,
    "start_time": "2021-06-23T11:08:46.741Z"
   },
   {
    "duration": 15,
    "start_time": "2021-06-23T11:08:58.518Z"
   },
   {
    "duration": 3640,
    "start_time": "2021-06-23T11:08:59.247Z"
   },
   {
    "duration": 935,
    "start_time": "2021-06-23T11:09:02.890Z"
   },
   {
    "duration": 212,
    "start_time": "2021-06-23T11:09:03.828Z"
   },
   {
    "duration": 1501,
    "start_time": "2021-06-23T11:09:43.460Z"
   },
   {
    "duration": 21,
    "start_time": "2021-06-23T11:09:44.994Z"
   },
   {
    "duration": 23,
    "start_time": "2021-06-23T11:09:46.124Z"
   },
   {
    "duration": 10,
    "start_time": "2021-06-23T11:09:46.891Z"
   },
   {
    "duration": 514,
    "start_time": "2021-06-23T11:09:50.836Z"
   },
   {
    "duration": 531,
    "start_time": "2021-06-23T11:09:51.353Z"
   },
   {
    "duration": 1718,
    "start_time": "2021-06-23T11:09:51.886Z"
   },
   {
    "duration": 310,
    "start_time": "2021-06-23T11:09:53.606Z"
   },
   {
    "duration": 10,
    "start_time": "2021-06-23T11:09:53.920Z"
   },
   {
    "duration": 544,
    "start_time": "2021-06-23T11:09:53.933Z"
   },
   {
    "duration": 26,
    "start_time": "2021-06-23T11:10:10.196Z"
   },
   {
    "duration": 8,
    "start_time": "2021-06-23T11:10:11.132Z"
   },
   {
    "duration": 21,
    "start_time": "2021-06-23T11:10:13.974Z"
   },
   {
    "duration": 48,
    "start_time": "2021-06-23T11:10:16.296Z"
   },
   {
    "duration": 10,
    "start_time": "2021-06-23T11:10:16.651Z"
   },
   {
    "duration": 506,
    "start_time": "2021-06-23T11:10:17.347Z"
   },
   {
    "duration": 36,
    "start_time": "2021-06-23T11:10:17.856Z"
   },
   {
    "duration": 21,
    "start_time": "2021-06-23T11:10:20.093Z"
   },
   {
    "duration": 14,
    "start_time": "2021-06-23T11:10:25.219Z"
   },
   {
    "duration": 3793,
    "start_time": "2021-06-23T11:10:26.085Z"
   },
   {
    "duration": 943,
    "start_time": "2021-06-23T11:10:29.881Z"
   },
   {
    "duration": 215,
    "start_time": "2021-06-23T11:10:30.826Z"
   },
   {
    "duration": 14,
    "start_time": "2021-06-23T11:11:10.621Z"
   },
   {
    "duration": 14,
    "start_time": "2021-06-23T11:11:18.046Z"
   },
   {
    "duration": 1803,
    "start_time": "2021-06-23T11:11:28.560Z"
   },
   {
    "duration": 23,
    "start_time": "2021-06-23T11:11:30.366Z"
   },
   {
    "duration": 42,
    "start_time": "2021-06-23T11:11:30.392Z"
   },
   {
    "duration": 12,
    "start_time": "2021-06-23T11:11:30.436Z"
   },
   {
    "duration": 576,
    "start_time": "2021-06-23T11:11:30.451Z"
   },
   {
    "duration": 538,
    "start_time": "2021-06-23T11:11:31.030Z"
   },
   {
    "duration": 1606,
    "start_time": "2021-06-23T11:11:31.571Z"
   },
   {
    "duration": 305,
    "start_time": "2021-06-23T11:11:33.179Z"
   },
   {
    "duration": 10,
    "start_time": "2021-06-23T11:11:33.486Z"
   },
   {
    "duration": 536,
    "start_time": "2021-06-23T11:11:33.499Z"
   },
   {
    "duration": 13,
    "start_time": "2021-06-23T11:11:34.038Z"
   },
   {
    "duration": 21,
    "start_time": "2021-06-23T11:11:34.054Z"
   },
   {
    "duration": 11,
    "start_time": "2021-06-23T11:11:34.077Z"
   },
   {
    "duration": 46,
    "start_time": "2021-06-23T11:11:34.091Z"
   },
   {
    "duration": 47,
    "start_time": "2021-06-23T11:11:34.139Z"
   },
   {
    "duration": 9,
    "start_time": "2021-06-23T11:11:34.188Z"
   },
   {
    "duration": 31,
    "start_time": "2021-06-23T11:11:34.224Z"
   },
   {
    "duration": 28,
    "start_time": "2021-06-23T11:11:34.258Z"
   },
   {
    "duration": 51,
    "start_time": "2021-06-23T11:11:34.289Z"
   },
   {
    "duration": 184,
    "start_time": "2021-06-23T11:11:34.343Z"
   },
   {
    "duration": 13,
    "start_time": "2021-06-23T11:11:34.530Z"
   },
   {
    "duration": 4,
    "start_time": "2021-06-23T11:11:34.638Z"
   },
   {
    "duration": 102548,
    "start_time": "2021-06-23T11:11:34.798Z"
   },
   {
    "duration": 881,
    "start_time": "2021-06-23T11:13:16.470Z"
   },
   {
    "duration": 882,
    "start_time": "2021-06-23T11:13:16.472Z"
   },
   {
    "duration": 883,
    "start_time": "2021-06-23T11:13:16.473Z"
   },
   {
    "duration": 884,
    "start_time": "2021-06-23T11:13:16.474Z"
   },
   {
    "duration": 885,
    "start_time": "2021-06-23T11:13:16.475Z"
   },
   {
    "duration": 887,
    "start_time": "2021-06-23T11:13:16.476Z"
   },
   {
    "duration": 887,
    "start_time": "2021-06-23T11:13:16.478Z"
   },
   {
    "duration": 1523,
    "start_time": "2021-06-23T11:13:52.366Z"
   },
   {
    "duration": 20,
    "start_time": "2021-06-23T11:13:53.892Z"
   },
   {
    "duration": 22,
    "start_time": "2021-06-23T11:13:53.923Z"
   },
   {
    "duration": 9,
    "start_time": "2021-06-23T11:13:53.948Z"
   },
   {
    "duration": 567,
    "start_time": "2021-06-23T11:13:53.960Z"
   },
   {
    "duration": 552,
    "start_time": "2021-06-23T11:13:54.530Z"
   },
   {
    "duration": 1700,
    "start_time": "2021-06-23T11:13:55.085Z"
   },
   {
    "duration": 310,
    "start_time": "2021-06-23T11:13:56.787Z"
   },
   {
    "duration": 10,
    "start_time": "2021-06-23T11:13:57.100Z"
   },
   {
    "duration": 536,
    "start_time": "2021-06-23T11:13:57.112Z"
   },
   {
    "duration": 13,
    "start_time": "2021-06-23T11:13:57.651Z"
   },
   {
    "duration": 17,
    "start_time": "2021-06-23T11:13:57.667Z"
   },
   {
    "duration": 38,
    "start_time": "2021-06-23T11:13:57.686Z"
   },
   {
    "duration": 615,
    "start_time": "2021-06-23T11:13:57.727Z"
   },
   {
    "duration": 21,
    "start_time": "2021-06-23T11:14:12.123Z"
   },
   {
    "duration": 50,
    "start_time": "2021-06-23T11:14:13.138Z"
   },
   {
    "duration": 10,
    "start_time": "2021-06-23T11:14:13.886Z"
   },
   {
    "duration": 27,
    "start_time": "2021-06-23T11:14:14.077Z"
   },
   {
    "duration": 29,
    "start_time": "2021-06-23T11:14:15.521Z"
   },
   {
    "duration": 77,
    "start_time": "2021-06-23T11:14:15.553Z"
   },
   {
    "duration": 92,
    "start_time": "2021-06-23T11:14:15.633Z"
   },
   {
    "duration": 11,
    "start_time": "2021-06-23T11:14:15.728Z"
   },
   {
    "duration": 10,
    "start_time": "2021-06-23T11:14:15.741Z"
   },
   {
    "duration": 110381,
    "start_time": "2021-06-23T11:14:15.754Z"
   },
   {
    "duration": 438422,
    "start_time": "2021-06-23T11:16:06.138Z"
   },
   {
    "duration": 876,
    "start_time": "2021-06-23T11:23:23.687Z"
   },
   {
    "duration": 877,
    "start_time": "2021-06-23T11:23:23.688Z"
   },
   {
    "duration": 876,
    "start_time": "2021-06-23T11:23:23.690Z"
   },
   {
    "duration": 877,
    "start_time": "2021-06-23T11:23:23.691Z"
   },
   {
    "duration": 877,
    "start_time": "2021-06-23T11:23:23.692Z"
   },
   {
    "duration": 878,
    "start_time": "2021-06-23T11:23:23.693Z"
   },
   {
    "duration": 878,
    "start_time": "2021-06-23T11:23:23.694Z"
   },
   {
    "duration": 1518,
    "start_time": "2021-06-23T11:23:33.845Z"
   },
   {
    "duration": 24,
    "start_time": "2021-06-23T11:23:35.367Z"
   },
   {
    "duration": 46,
    "start_time": "2021-06-23T11:23:35.394Z"
   },
   {
    "duration": 10,
    "start_time": "2021-06-23T11:23:35.482Z"
   },
   {
    "duration": 517,
    "start_time": "2021-06-23T11:23:37.415Z"
   },
   {
    "duration": 544,
    "start_time": "2021-06-23T11:23:37.950Z"
   },
   {
    "duration": 1542,
    "start_time": "2021-06-23T11:23:38.498Z"
   },
   {
    "duration": 301,
    "start_time": "2021-06-23T11:23:40.043Z"
   },
   {
    "duration": 1680,
    "start_time": "2021-06-23T11:23:56.457Z"
   },
   {
    "duration": 1543,
    "start_time": "2021-06-23T11:24:12.385Z"
   },
   {
    "duration": 1483,
    "start_time": "2021-06-23T11:24:24.961Z"
   },
   {
    "duration": 14,
    "start_time": "2021-06-23T11:24:38.418Z"
   },
   {
    "duration": 523,
    "start_time": "2021-06-23T11:24:39.025Z"
   },
   {
    "duration": 14,
    "start_time": "2021-06-23T11:24:39.575Z"
   },
   {
    "duration": 15,
    "start_time": "2021-06-23T11:24:40.233Z"
   },
   {
    "duration": 8,
    "start_time": "2021-06-23T11:24:40.905Z"
   },
   {
    "duration": 618,
    "start_time": "2021-06-23T11:24:41.506Z"
   },
   {
    "duration": 19,
    "start_time": "2021-06-23T11:24:44.123Z"
   },
   {
    "duration": 47,
    "start_time": "2021-06-23T11:24:45.141Z"
   },
   {
    "duration": 9,
    "start_time": "2021-06-23T11:24:46.769Z"
   },
   {
    "duration": 29,
    "start_time": "2021-06-23T11:24:47.440Z"
   },
   {
    "duration": 28,
    "start_time": "2021-06-23T11:24:48.049Z"
   },
   {
    "duration": 186,
    "start_time": "2021-06-23T11:24:49.738Z"
   },
   {
    "duration": 7,
    "start_time": "2021-06-23T11:24:50.532Z"
   },
   {
    "duration": 4,
    "start_time": "2021-06-23T11:24:52.377Z"
   },
   {
    "duration": 4,
    "start_time": "2021-06-23T11:24:52.913Z"
   },
   {
    "duration": 108860,
    "start_time": "2021-06-23T11:24:53.481Z"
   },
   {
    "duration": 728938,
    "start_time": "2021-06-23T11:38:41.725Z"
   },
   {
    "duration": 285247,
    "start_time": "2021-06-23T11:50:50.665Z"
   },
   {
    "duration": 88095,
    "start_time": "2021-06-23T11:55:35.914Z"
   },
   {
    "duration": 24,
    "start_time": "2021-06-23T11:57:04.012Z"
   },
   {
    "duration": 4238,
    "start_time": "2021-06-23T11:57:04.039Z"
   },
   {
    "duration": 943,
    "start_time": "2021-06-23T11:57:08.280Z"
   },
   {
    "duration": 219,
    "start_time": "2021-06-23T11:57:09.226Z"
   },
   {
    "duration": 206,
    "start_time": "2021-06-23T11:57:25.221Z"
   },
   {
    "duration": 83143,
    "start_time": "2021-06-23T11:57:43.904Z"
   },
   {
    "duration": 771991,
    "start_time": "2021-06-23T11:59:25.960Z"
   },
   {
    "duration": 274871,
    "start_time": "2021-06-23T12:12:17.954Z"
   },
   {
    "duration": 5798,
    "start_time": "2021-06-23T12:31:13.065Z"
   },
   {
    "duration": 542,
    "start_time": "2021-06-23T12:31:49.395Z"
   },
   {
    "duration": 977,
    "start_time": "2021-06-23T12:31:59.330Z"
   },
   {
    "duration": 535,
    "start_time": "2021-06-23T12:32:06.507Z"
   }
  ],
  "kernelspec": {
   "display_name": "Python 3",
   "language": "python",
   "name": "python3"
  },
  "language_info": {
   "codemirror_mode": {
    "name": "ipython",
    "version": 3
   },
   "file_extension": ".py",
   "mimetype": "text/x-python",
   "name": "python",
   "nbconvert_exporter": "python",
   "pygments_lexer": "ipython3",
   "version": "3.7.8"
  },
  "toc": {
   "base_numbering": 1,
   "nav_menu": {},
   "number_sections": true,
   "sideBar": true,
   "skip_h1_title": true,
   "title_cell": "Table of Contents",
   "title_sidebar": "Contents",
   "toc_cell": false,
   "toc_position": {},
   "toc_section_display": true,
   "toc_window_display": false
  }
 },
 "nbformat": 4,
 "nbformat_minor": 2
}
